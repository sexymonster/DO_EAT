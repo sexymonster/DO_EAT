{
  "nbformat": 4,
  "nbformat_minor": 0,
  "metadata": {
    "colab": {
      "name": "크롤링파일.ipynb",
      "provenance": [],
      "authorship_tag": "ABX9TyPeyIhH4iVkAOJBXOK/HcPO",
      "include_colab_link": true
    },
    "kernelspec": {
      "name": "python3",
      "display_name": "Python 3"
    },
    "language_info": {
      "name": "python"
    }
  },
  "cells": [
    {
      "cell_type": "markdown",
      "metadata": {
        "id": "view-in-github",
        "colab_type": "text"
      },
      "source": [
        "<a href=\"https://colab.research.google.com/github/sexymonster/DO_EAT/blob/model/%ED%81%AC%EB%A1%A4%EB%A7%81%ED%8C%8C%EC%9D%BC.ipynb\" target=\"_parent\"><img src=\"https://colab.research.google.com/assets/colab-badge.svg\" alt=\"Open In Colab\"/></a>"
      ]
    },
    {
      "cell_type": "code",
      "execution_count": null,
      "metadata": {
        "id": "w24g64tLz8wL"
      },
      "outputs": [],
      "source": [
        "from selenium import webdriver\n",
        "from selenium.webdriver.common.keys import Keys\n",
        "import time\n",
        "import urllib.request\n",
        "\n",
        "driver = webdriver.Chrome()\n",
        "driver.get(\"https://www.google.co.kr/imghp?hl=ko&tab=ri&ogbl\")\n",
        "elem = driver.find_element_by_name(\"q\")\n",
        "\n",
        "ingre_list = ['bean sprouts','beef','chicken','egg','pork','garlic','green onion','kimchi','onion','potato','spam']\n",
        "for ingre in ingre_list:\n",
        "  elem.send_keys(ingre)\n",
        "  elem.send_keys(Keys.RETURN)\n",
        "\n",
        "  SCROLL_PAUSE_TIME = 1\n",
        "  # Get scroll height\n",
        "  last_height = driver.execute_script(\"return document.body.scrollHeight\")\n",
        "  while True:\n",
        "      # Scroll down to bottom\n",
        "      driver.execute_script(\"window.scrollTo(0, document.body.scrollHeight);\")\n",
        "      # Wait to load page\n",
        "      time.sleep(SCROLL_PAUSE_TIME)\n",
        "      # Calculate new scroll height and compare with last scroll height\n",
        "      new_height = driver.execute_script(\"return document.body.scrollHeight\")\n",
        "      if new_height == last_height:\n",
        "          try:\n",
        "              driver.find_element_by_css_selector(\".mye4qd\").click()\n",
        "          except:\n",
        "              break\n",
        "      last_height = new_height\n",
        "\n",
        "  images = driver.find_elements_by_css_selector(\".rg_i.Q4LuWd\")\n",
        "  count = 1\n",
        "  for image in images:\n",
        "      try:\n",
        "          image.click()\n",
        "          time.sleep(2)\n",
        "          imgUrl = driver.find_element_by_xpath('/html/body/div[2]/c-wiz/div[3]/div[2]/div[3]/div/div/div[3]/div[2]/c-wiz/div[1]/div[1]/div/div[2]/a/img').get_attribute(\"src\")\n",
        "          opener=urllib.request.build_opener()\n",
        "          opener.addheaders=[('User-Agent','Mozilla/5.0 (Windows NT 6.1; WOW64) AppleWebKit/537.36 (KHTML, like Gecko) Chrome/36.0.1941.0 Safari/537.36')]\n",
        "          urllib.request.install_opener(opener)\n",
        "          urllib.request.urlretrieve(imgUrl, str(count) + \".jpg\")\n",
        "          count = count + 1\n",
        "      except:\n",
        "          pass\n",
        "\n",
        "driver.close()"
      ]
    }
  ]
}