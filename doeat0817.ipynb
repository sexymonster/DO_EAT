{
  "nbformat": 4,
  "nbformat_minor": 0,
  "metadata": {
    "colab": {
      "name": "doeat0807.ipynb",
      "provenance": [],
      "mount_file_id": "1Tj_IkMKgbxJCOfEP9Fc6xRnQdd4w0uPd",
      "authorship_tag": "ABX9TyP/ZQ37dmKCS1i0V5HSDhoV",
      "include_colab_link": true
    },
    "kernelspec": {
      "name": "python3",
      "display_name": "Python 3"
    },
    "language_info": {
      "name": "python"
    },
    "gpuClass": "standard",
    "accelerator": "GPU"
  },
  "cells": [
    {
      "cell_type": "markdown",
      "metadata": {
        "id": "view-in-github",
        "colab_type": "text"
      },
      "source": [
        "<a href=\"https://colab.research.google.com/github/sexymonster/DO_EAT/blob/main/doeat0817.ipynb\" target=\"_parent\"><img src=\"https://colab.research.google.com/assets/colab-badge.svg\" alt=\"Open In Colab\"/></a>"
      ]
    },
    {
      "cell_type": "code",
      "source": [
        ""
      ],
      "metadata": {
        "id": "8OVmC65e1eoQ"
      },
      "execution_count": null,
      "outputs": []
    },
    {
      "cell_type": "code",
      "execution_count": 3,
      "metadata": {
        "colab": {
          "base_uri": "https://localhost:8080/"
        },
        "id": "L5WMA4f1tfKL",
        "outputId": "142f915a-04dd-4fa6-97cd-5949574f62ac"
      },
      "outputs": [
        {
          "output_type": "stream",
          "name": "stdout",
          "text": [
            "/content\n",
            "fatal: destination path 'yolov5' already exists and is not an empty directory.\n"
          ]
        }
      ],
      "source": [
        "%cd /content\n",
        "!git clone https://github.com/ultralytics/yolov5.git #깃허브에서 yolov5를 클론합니다"
      ]
    },
    {
      "cell_type": "code",
      "source": [
        ""
      ],
      "metadata": {
        "id": "8UXHk6iX1clX"
      },
      "execution_count": null,
      "outputs": []
    },
    {
      "cell_type": "code",
      "source": [
        "%cd /content/yolov5/\n",
        "!pip install -r requirements.txt # yolov5 패키지를 다운로드합니다."
      ],
      "metadata": {
        "colab": {
          "base_uri": "https://localhost:8080/"
        },
        "id": "5glkvGROuLPU",
        "outputId": "85b7bba2-d271-4e15-a72e-2322fb711310"
      },
      "execution_count": 4,
      "outputs": [
        {
          "output_type": "stream",
          "name": "stdout",
          "text": [
            "/content/yolov5\n",
            "Looking in indexes: https://pypi.org/simple, https://us-python.pkg.dev/colab-wheels/public/simple/\n",
            "Requirement already satisfied: matplotlib>=3.2.2 in /usr/local/lib/python3.7/dist-packages (from -r requirements.txt (line 5)) (3.2.2)\n",
            "Requirement already satisfied: numpy>=1.18.5 in /usr/local/lib/python3.7/dist-packages (from -r requirements.txt (line 6)) (1.21.6)\n",
            "Requirement already satisfied: opencv-python>=4.1.1 in /usr/local/lib/python3.7/dist-packages (from -r requirements.txt (line 7)) (4.6.0.66)\n",
            "Requirement already satisfied: Pillow>=7.1.2 in /usr/local/lib/python3.7/dist-packages (from -r requirements.txt (line 8)) (7.1.2)\n",
            "Collecting PyYAML>=5.3.1\n",
            "  Downloading PyYAML-6.0-cp37-cp37m-manylinux_2_5_x86_64.manylinux1_x86_64.manylinux_2_12_x86_64.manylinux2010_x86_64.whl (596 kB)\n",
            "\u001b[K     |████████████████████████████████| 596 kB 4.2 MB/s \n",
            "\u001b[?25hRequirement already satisfied: requests>=2.23.0 in /usr/local/lib/python3.7/dist-packages (from -r requirements.txt (line 10)) (2.23.0)\n",
            "Requirement already satisfied: scipy>=1.4.1 in /usr/local/lib/python3.7/dist-packages (from -r requirements.txt (line 11)) (1.7.3)\n",
            "Requirement already satisfied: torch>=1.7.0 in /usr/local/lib/python3.7/dist-packages (from -r requirements.txt (line 12)) (1.12.1+cu113)\n",
            "Requirement already satisfied: torchvision>=0.8.1 in /usr/local/lib/python3.7/dist-packages (from -r requirements.txt (line 13)) (0.13.1+cu113)\n",
            "Requirement already satisfied: tqdm>=4.64.0 in /usr/local/lib/python3.7/dist-packages (from -r requirements.txt (line 14)) (4.64.0)\n",
            "Requirement already satisfied: protobuf<=3.20.1 in /usr/local/lib/python3.7/dist-packages (from -r requirements.txt (line 15)) (3.17.3)\n",
            "Requirement already satisfied: tensorboard>=2.4.1 in /usr/local/lib/python3.7/dist-packages (from -r requirements.txt (line 18)) (2.8.0)\n",
            "Requirement already satisfied: pandas>=1.1.4 in /usr/local/lib/python3.7/dist-packages (from -r requirements.txt (line 23)) (1.3.5)\n",
            "Requirement already satisfied: seaborn>=0.11.0 in /usr/local/lib/python3.7/dist-packages (from -r requirements.txt (line 24)) (0.11.2)\n",
            "Requirement already satisfied: ipython in /usr/local/lib/python3.7/dist-packages (from -r requirements.txt (line 38)) (7.9.0)\n",
            "Requirement already satisfied: psutil in /usr/local/lib/python3.7/dist-packages (from -r requirements.txt (line 39)) (5.4.8)\n",
            "Collecting thop>=0.1.1\n",
            "  Downloading thop-0.1.1.post2207130030-py3-none-any.whl (15 kB)\n",
            "Requirement already satisfied: python-dateutil>=2.1 in /usr/local/lib/python3.7/dist-packages (from matplotlib>=3.2.2->-r requirements.txt (line 5)) (2.8.2)\n",
            "Requirement already satisfied: kiwisolver>=1.0.1 in /usr/local/lib/python3.7/dist-packages (from matplotlib>=3.2.2->-r requirements.txt (line 5)) (1.4.4)\n",
            "Requirement already satisfied: cycler>=0.10 in /usr/local/lib/python3.7/dist-packages (from matplotlib>=3.2.2->-r requirements.txt (line 5)) (0.11.0)\n",
            "Requirement already satisfied: pyparsing!=2.0.4,!=2.1.2,!=2.1.6,>=2.0.1 in /usr/local/lib/python3.7/dist-packages (from matplotlib>=3.2.2->-r requirements.txt (line 5)) (3.0.9)\n",
            "Requirement already satisfied: idna<3,>=2.5 in /usr/local/lib/python3.7/dist-packages (from requests>=2.23.0->-r requirements.txt (line 10)) (2.10)\n",
            "Requirement already satisfied: certifi>=2017.4.17 in /usr/local/lib/python3.7/dist-packages (from requests>=2.23.0->-r requirements.txt (line 10)) (2022.6.15)\n",
            "Requirement already satisfied: chardet<4,>=3.0.2 in /usr/local/lib/python3.7/dist-packages (from requests>=2.23.0->-r requirements.txt (line 10)) (3.0.4)\n",
            "Requirement already satisfied: urllib3!=1.25.0,!=1.25.1,<1.26,>=1.21.1 in /usr/local/lib/python3.7/dist-packages (from requests>=2.23.0->-r requirements.txt (line 10)) (1.24.3)\n",
            "Requirement already satisfied: typing-extensions in /usr/local/lib/python3.7/dist-packages (from torch>=1.7.0->-r requirements.txt (line 12)) (4.1.1)\n",
            "Requirement already satisfied: six>=1.9 in /usr/local/lib/python3.7/dist-packages (from protobuf<=3.20.1->-r requirements.txt (line 15)) (1.15.0)\n",
            "Requirement already satisfied: wheel>=0.26 in /usr/local/lib/python3.7/dist-packages (from tensorboard>=2.4.1->-r requirements.txt (line 18)) (0.37.1)\n",
            "Requirement already satisfied: setuptools>=41.0.0 in /usr/local/lib/python3.7/dist-packages (from tensorboard>=2.4.1->-r requirements.txt (line 18)) (57.4.0)\n",
            "Requirement already satisfied: werkzeug>=0.11.15 in /usr/local/lib/python3.7/dist-packages (from tensorboard>=2.4.1->-r requirements.txt (line 18)) (1.0.1)\n",
            "Requirement already satisfied: google-auth-oauthlib<0.5,>=0.4.1 in /usr/local/lib/python3.7/dist-packages (from tensorboard>=2.4.1->-r requirements.txt (line 18)) (0.4.6)\n",
            "Requirement already satisfied: markdown>=2.6.8 in /usr/local/lib/python3.7/dist-packages (from tensorboard>=2.4.1->-r requirements.txt (line 18)) (3.4.1)\n",
            "Requirement already satisfied: tensorboard-plugin-wit>=1.6.0 in /usr/local/lib/python3.7/dist-packages (from tensorboard>=2.4.1->-r requirements.txt (line 18)) (1.8.1)\n",
            "Requirement already satisfied: google-auth<3,>=1.6.3 in /usr/local/lib/python3.7/dist-packages (from tensorboard>=2.4.1->-r requirements.txt (line 18)) (1.35.0)\n",
            "Requirement already satisfied: grpcio>=1.24.3 in /usr/local/lib/python3.7/dist-packages (from tensorboard>=2.4.1->-r requirements.txt (line 18)) (1.47.0)\n",
            "Requirement already satisfied: absl-py>=0.4 in /usr/local/lib/python3.7/dist-packages (from tensorboard>=2.4.1->-r requirements.txt (line 18)) (1.2.0)\n",
            "Requirement already satisfied: tensorboard-data-server<0.7.0,>=0.6.0 in /usr/local/lib/python3.7/dist-packages (from tensorboard>=2.4.1->-r requirements.txt (line 18)) (0.6.1)\n",
            "Requirement already satisfied: pytz>=2017.3 in /usr/local/lib/python3.7/dist-packages (from pandas>=1.1.4->-r requirements.txt (line 23)) (2022.1)\n",
            "Requirement already satisfied: cachetools<5.0,>=2.0.0 in /usr/local/lib/python3.7/dist-packages (from google-auth<3,>=1.6.3->tensorboard>=2.4.1->-r requirements.txt (line 18)) (4.2.4)\n",
            "Requirement already satisfied: rsa<5,>=3.1.4 in /usr/local/lib/python3.7/dist-packages (from google-auth<3,>=1.6.3->tensorboard>=2.4.1->-r requirements.txt (line 18)) (4.9)\n",
            "Requirement already satisfied: pyasn1-modules>=0.2.1 in /usr/local/lib/python3.7/dist-packages (from google-auth<3,>=1.6.3->tensorboard>=2.4.1->-r requirements.txt (line 18)) (0.2.8)\n",
            "Requirement already satisfied: requests-oauthlib>=0.7.0 in /usr/local/lib/python3.7/dist-packages (from google-auth-oauthlib<0.5,>=0.4.1->tensorboard>=2.4.1->-r requirements.txt (line 18)) (1.3.1)\n",
            "Requirement already satisfied: importlib-metadata>=4.4 in /usr/local/lib/python3.7/dist-packages (from markdown>=2.6.8->tensorboard>=2.4.1->-r requirements.txt (line 18)) (4.12.0)\n",
            "Requirement already satisfied: zipp>=0.5 in /usr/local/lib/python3.7/dist-packages (from importlib-metadata>=4.4->markdown>=2.6.8->tensorboard>=2.4.1->-r requirements.txt (line 18)) (3.8.1)\n",
            "Requirement already satisfied: pyasn1<0.5.0,>=0.4.6 in /usr/local/lib/python3.7/dist-packages (from pyasn1-modules>=0.2.1->google-auth<3,>=1.6.3->tensorboard>=2.4.1->-r requirements.txt (line 18)) (0.4.8)\n",
            "Requirement already satisfied: oauthlib>=3.0.0 in /usr/local/lib/python3.7/dist-packages (from requests-oauthlib>=0.7.0->google-auth-oauthlib<0.5,>=0.4.1->tensorboard>=2.4.1->-r requirements.txt (line 18)) (3.2.0)\n",
            "Requirement already satisfied: pickleshare in /usr/local/lib/python3.7/dist-packages (from ipython->-r requirements.txt (line 38)) (0.7.5)\n",
            "Requirement already satisfied: pygments in /usr/local/lib/python3.7/dist-packages (from ipython->-r requirements.txt (line 38)) (2.6.1)\n",
            "Requirement already satisfied: prompt-toolkit<2.1.0,>=2.0.0 in /usr/local/lib/python3.7/dist-packages (from ipython->-r requirements.txt (line 38)) (2.0.10)\n",
            "Requirement already satisfied: decorator in /usr/local/lib/python3.7/dist-packages (from ipython->-r requirements.txt (line 38)) (4.4.2)\n",
            "Requirement already satisfied: pexpect in /usr/local/lib/python3.7/dist-packages (from ipython->-r requirements.txt (line 38)) (4.8.0)\n",
            "Collecting jedi>=0.10\n",
            "  Downloading jedi-0.18.1-py2.py3-none-any.whl (1.6 MB)\n",
            "\u001b[K     |████████████████████████████████| 1.6 MB 40.4 MB/s \n",
            "\u001b[?25hRequirement already satisfied: traitlets>=4.2 in /usr/local/lib/python3.7/dist-packages (from ipython->-r requirements.txt (line 38)) (5.1.1)\n",
            "Requirement already satisfied: backcall in /usr/local/lib/python3.7/dist-packages (from ipython->-r requirements.txt (line 38)) (0.2.0)\n",
            "Requirement already satisfied: parso<0.9.0,>=0.8.0 in /usr/local/lib/python3.7/dist-packages (from jedi>=0.10->ipython->-r requirements.txt (line 38)) (0.8.3)\n",
            "Requirement already satisfied: wcwidth in /usr/local/lib/python3.7/dist-packages (from prompt-toolkit<2.1.0,>=2.0.0->ipython->-r requirements.txt (line 38)) (0.2.5)\n",
            "Requirement already satisfied: ptyprocess>=0.5 in /usr/local/lib/python3.7/dist-packages (from pexpect->ipython->-r requirements.txt (line 38)) (0.7.0)\n",
            "Installing collected packages: jedi, thop, PyYAML\n",
            "  Attempting uninstall: PyYAML\n",
            "    Found existing installation: PyYAML 3.13\n",
            "    Uninstalling PyYAML-3.13:\n",
            "      Successfully uninstalled PyYAML-3.13\n",
            "Successfully installed PyYAML-6.0 jedi-0.18.1 thop-0.1.1.post2207130030\n"
          ]
        }
      ]
    },
    {
      "cell_type": "code",
      "source": [
        "from google.colab import drive#구글드라이브에 데이터를 불러옵니다\n",
        "\n",
        "drive.mount(\"/content/gdrive\")\n"
      ],
      "metadata": {
        "colab": {
          "base_uri": "https://localhost:8080/"
        },
        "id": "KC9JCZr65ilj",
        "outputId": "05cc618b-9a1f-4710-c410-5f29acc7505c"
      },
      "execution_count": 5,
      "outputs": [
        {
          "output_type": "stream",
          "name": "stdout",
          "text": [
            "Mounted at /content/gdrive\n"
          ]
        }
      ]
    },
    {
      "cell_type": "code",
      "source": [
        "pwd%"
      ],
      "metadata": {
        "colab": {
          "base_uri": "https://localhost:8080/",
          "height": 35
        },
        "id": "_rDpKWFw93lb",
        "outputId": "c193730e-2afd-4f80-9ab4-63b05ba89f2b"
      },
      "execution_count": null,
      "outputs": [
        {
          "output_type": "execute_result",
          "data": {
            "text/plain": [
              "'/content/yolov5'"
            ],
            "application/vnd.google.colaboratory.intrinsic+json": {
              "type": "string"
            }
          },
          "metadata": {},
          "execution_count": 13
        }
      ]
    },
    {
      "cell_type": "code",
      "source": [
        "%cat /content/gdrive/MyDrive/ColabNotebooks/do_eat/data.yaml\n",
        "# yaml은 train 경로와 value 경로 nc는 클래스개수 네임스는 클래스네임을 뜻합니다."
      ],
      "metadata": {
        "colab": {
          "base_uri": "https://localhost:8080/"
        },
        "id": "byZivK_qt6Qt",
        "outputId": "a9cd9ae5-81b8-4f7e-f0b0-0c4c21194090"
      },
      "execution_count": 5,
      "outputs": [
        {
          "output_type": "stream",
          "name": "stdout",
          "text": [
            "names:\n",
            "- bean sprouts\n",
            "- beef\n",
            "- chicken\n",
            "- egg\n",
            "- fork\n",
            "- garlic\n",
            "- green onion\n",
            "- kimchi\n",
            "- onion\n",
            "- photato\n",
            "- spam\n",
            "nc: 11\n",
            "test: /content/gdrive/MyDrive/ColabNotebooks/do_eat/test.txt\n",
            "train: /content/gdrive/MyDrive/ColabNotebooks/do_eat/train.txt\n",
            "val: /content/gdrive/MyDrive/ColabNotebooks/do_eat/test.txt\n"
          ]
        }
      ]
    },
    {
      "cell_type": "code",
      "source": [
        "path = '/content/drive/MyDrive/ColabNotebooks/do_eat/'"
      ],
      "metadata": {
        "id": "CmvgxTON51sW"
      },
      "execution_count": 6,
      "outputs": []
    },
    {
      "cell_type": "code",
      "source": [
        "%cd /\n",
        "from glob import glob\n",
        "\n",
        "img_train_list = glob('/content/gdrive/MyDrive/ColabNotebooks/do_eat/train/images/*.jpg')\n",
        "img_test_list = glob('/content/gdrive/MyDrive/ColabNotebooks/do_eat/test/images/*.jpg')\n",
        "\n",
        "\n",
        "print(len(img_train_list))\n",
        "print(len(img_test_list))"
      ],
      "metadata": {
        "id": "OKdah6Nq4Ctm",
        "colab": {
          "base_uri": "https://localhost:8080/"
        },
        "outputId": "f695a30a-ec1a-476f-e06f-93e92a31abf7"
      },
      "execution_count": 7,
      "outputs": [
        {
          "output_type": "stream",
          "name": "stdout",
          "text": [
            "/\n",
            "631\n",
            "95\n"
          ]
        }
      ]
    },
    {
      "cell_type": "code",
      "source": [
        "with open('/content/gdrive/MyDrive/ColabNotebooks/do_eat/train.txt','w') as f:\n",
        "  f.write('\\n'.join(img_train_list)+'\\n')\n",
        "\n",
        "with open('/content/gdrive/MyDrive/ColabNotebooks/do_eat/test.txt','w') as f:\n",
        "  f.write('\\n'.join(img_test_list)+'\\n')\n"
      ],
      "metadata": {
        "id": "44WTFtYUCGiL"
      },
      "execution_count": 8,
      "outputs": []
    },
    {
      "cell_type": "code",
      "source": [
        "import yaml"
      ],
      "metadata": {
        "id": "I_SO_WV5Gqi3"
      },
      "execution_count": 9,
      "outputs": []
    },
    {
      "cell_type": "code",
      "source": [
        "with open('/content/gdrive/MyDrive/ColabNotebooks/do_eat/data.yaml','r') as f:\n",
        "  data = yaml.load(f,Loader=yaml.FullLoader)\n",
        "\n",
        "print(data)\n",
        "\n",
        "data['train'] = '/content/gdrive/MyDrive/ColabNotebooks/do_eat/train.txt'\n",
        "data['val'] = '/content/gdrive/MyDrive/ColabNotebooks/do_eat/test.txt'\n",
        "\n",
        "with open('/content/gdrive/MyDrive/ColabNotebooks/do_eat/data.yaml', 'w') as f:\n",
        "  yaml.dump(data, f)\n",
        "\n",
        "print(data)"
      ],
      "metadata": {
        "colab": {
          "base_uri": "https://localhost:8080/"
        },
        "id": "Vb2Dxj7-EXGz",
        "outputId": "a372a6a3-86ba-439a-c893-489146d7199d"
      },
      "execution_count": 10,
      "outputs": [
        {
          "output_type": "stream",
          "name": "stdout",
          "text": [
            "{'names': ['bean sprouts', 'beef', 'chicken', 'egg', 'fork', 'garlic', 'green onion', 'kimchi', 'onion', 'photato', 'spam'], 'nc': 11, 'test': '/content/gdrive/MyDrive/ColabNotebooks/do_eat/test.txt', 'train': '/content/gdrive/MyDrive/ColabNotebooks/do_eat/train.txt', 'val': '/content/gdrive/MyDrive/ColabNotebooks/do_eat/test.txt'}\n",
            "{'names': ['bean sprouts', 'beef', 'chicken', 'egg', 'fork', 'garlic', 'green onion', 'kimchi', 'onion', 'photato', 'spam'], 'nc': 11, 'test': '/content/gdrive/MyDrive/ColabNotebooks/do_eat/test.txt', 'train': '/content/gdrive/MyDrive/ColabNotebooks/do_eat/train.txt', 'val': '/content/gdrive/MyDrive/ColabNotebooks/do_eat/test.txt'}\n"
          ]
        }
      ]
    },
    {
      "cell_type": "code",
      "source": [
        "%pwd"
      ],
      "metadata": {
        "colab": {
          "base_uri": "https://localhost:8080/",
          "height": 35
        },
        "id": "o78z5kZ3KO7G",
        "outputId": "d5ba128e-7c27-461d-b0c7-b8aa2797fbe3"
      },
      "execution_count": null,
      "outputs": [
        {
          "output_type": "execute_result",
          "data": {
            "text/plain": [
              "'/content/yolov5'"
            ],
            "application/vnd.google.colaboratory.intrinsic+json": {
              "type": "string"
            }
          },
          "metadata": {},
          "execution_count": 55
        }
      ]
    },
    {
      "cell_type": "code",
      "source": [
        ""
      ],
      "metadata": {
        "id": "jD_GzxRqKu1n"
      },
      "execution_count": null,
      "outputs": []
    },
    {
      "cell_type": "code",
      "source": [
        "%cd /content/yolov5/\n",
        "\n",
        "!python train.py --img 416 --batch 16 --epochs 1 --data /content/gdrive/MyDrive/ColabNotebooks/do_eat/data.yaml --cfg ./models/yolov5m.yaml  --weights yolov5m.pt --name doeat_yolov5m_results"
      ],
      "metadata": {
        "id": "kesntH6IEjwz",
        "colab": {
          "base_uri": "https://localhost:8080/"
        },
        "outputId": "23e14b8a-4128-4386-d14b-2ebf9d96c0ac"
      },
      "execution_count": 11,
      "outputs": [
        {
          "output_type": "stream",
          "name": "stdout",
          "text": [
            "/content/yolov5\n",
            "\u001b[34m\u001b[1mtrain: \u001b[0mweights=yolov5m.pt, cfg=./models/yolov5m.yaml, data=/content/gdrive/MyDrive/ColabNotebooks/do_eat/data.yaml, hyp=data/hyps/hyp.scratch-low.yaml, epochs=1, batch_size=16, imgsz=416, rect=False, resume=False, nosave=False, noval=False, noautoanchor=False, noplots=False, evolve=None, bucket=, cache=None, image_weights=False, device=, multi_scale=False, single_cls=False, optimizer=SGD, sync_bn=False, workers=8, project=runs/train, name=doeat_yolov5m_results, exist_ok=False, quad=False, cos_lr=False, label_smoothing=0.0, patience=100, freeze=[0], save_period=-1, seed=0, local_rank=-1, entity=None, upload_dataset=False, bbox_interval=-1, artifact_alias=latest\n",
            "\u001b[34m\u001b[1mgithub: \u001b[0mup to date with https://github.com/ultralytics/yolov5 ✅\n",
            "YOLOv5 🚀 v6.1-400-gfd004f5 Python-3.7.13 torch-1.12.1+cu113 CPU\n",
            "\n",
            "\u001b[34m\u001b[1mhyperparameters: \u001b[0mlr0=0.01, lrf=0.01, momentum=0.937, weight_decay=0.0005, warmup_epochs=3.0, warmup_momentum=0.8, warmup_bias_lr=0.1, box=0.05, cls=0.5, cls_pw=1.0, obj=1.0, obj_pw=1.0, iou_t=0.2, anchor_t=4.0, fl_gamma=0.0, hsv_h=0.015, hsv_s=0.7, hsv_v=0.4, degrees=0.0, translate=0.1, scale=0.5, shear=0.0, perspective=0.0, flipud=0.0, fliplr=0.5, mosaic=1.0, mixup=0.0, copy_paste=0.0\n",
            "\u001b[34m\u001b[1mWeights & Biases: \u001b[0mrun 'pip install wandb' to automatically track and visualize YOLOv5 🚀 runs in Weights & Biases\n",
            "\u001b[34m\u001b[1mClearML: \u001b[0mrun 'pip install clearml' to automatically track, visualize and remotely train YOLOv5 🚀 runs in ClearML\n",
            "\u001b[34m\u001b[1mTensorBoard: \u001b[0mStart with 'tensorboard --logdir runs/train', view at http://localhost:6006/\n",
            "Downloading https://ultralytics.com/assets/Arial.ttf to /root/.config/Ultralytics/Arial.ttf...\n",
            "100% 755k/755k [00:00<00:00, 17.5MB/s]\n",
            "Downloading https://github.com/ultralytics/yolov5/releases/download/v6.1/yolov5m.pt to yolov5m.pt...\n",
            "100% 40.8M/40.8M [00:00<00:00, 188MB/s]\n",
            "\n",
            "Overriding model.yaml nc=80 with nc=11\n",
            "\n",
            "                 from  n    params  module                                  arguments                     \n",
            "  0                -1  1      5280  models.common.Conv                      [3, 48, 6, 2, 2]              \n",
            "  1                -1  1     41664  models.common.Conv                      [48, 96, 3, 2]                \n",
            "  2                -1  2     65280  models.common.C3                        [96, 96, 2]                   \n",
            "  3                -1  1    166272  models.common.Conv                      [96, 192, 3, 2]               \n",
            "  4                -1  4    444672  models.common.C3                        [192, 192, 4]                 \n",
            "  5                -1  1    664320  models.common.Conv                      [192, 384, 3, 2]              \n",
            "  6                -1  6   2512896  models.common.C3                        [384, 384, 6]                 \n",
            "  7                -1  1   2655744  models.common.Conv                      [384, 768, 3, 2]              \n",
            "  8                -1  2   4134912  models.common.C3                        [768, 768, 2]                 \n",
            "  9                -1  1   1476864  models.common.SPPF                      [768, 768, 5]                 \n",
            " 10                -1  1    295680  models.common.Conv                      [768, 384, 1, 1]              \n",
            " 11                -1  1         0  torch.nn.modules.upsampling.Upsample    [None, 2, 'nearest']          \n",
            " 12           [-1, 6]  1         0  models.common.Concat                    [1]                           \n",
            " 13                -1  2   1182720  models.common.C3                        [768, 384, 2, False]          \n",
            " 14                -1  1     74112  models.common.Conv                      [384, 192, 1, 1]              \n",
            " 15                -1  1         0  torch.nn.modules.upsampling.Upsample    [None, 2, 'nearest']          \n",
            " 16           [-1, 4]  1         0  models.common.Concat                    [1]                           \n",
            " 17                -1  2    296448  models.common.C3                        [384, 192, 2, False]          \n",
            " 18                -1  1    332160  models.common.Conv                      [192, 192, 3, 2]              \n",
            " 19          [-1, 14]  1         0  models.common.Concat                    [1]                           \n",
            " 20                -1  2   1035264  models.common.C3                        [384, 384, 2, False]          \n",
            " 21                -1  1   1327872  models.common.Conv                      [384, 384, 3, 2]              \n",
            " 22          [-1, 10]  1         0  models.common.Concat                    [1]                           \n",
            " 23                -1  2   4134912  models.common.C3                        [768, 768, 2, False]          \n",
            " 24      [17, 20, 23]  1     64656  models.yolo.Detect                      [11, [[10, 13, 16, 30, 33, 23], [30, 61, 62, 45, 59, 119], [116, 90, 156, 198, 373, 326]], [192, 384, 768]]\n",
            "YOLOv5m summary: 369 layers, 20911728 parameters, 20911728 gradients, 48.3 GFLOPs\n",
            "\n",
            "Transferred 474/481 items from yolov5m.pt\n",
            "\u001b[34m\u001b[1moptimizer:\u001b[0m SGD(lr=0.01) with parameter groups 79 weight(decay=0.0), 82 weight(decay=0.0005), 82 bias\n",
            "\u001b[34m\u001b[1malbumentations: \u001b[0mBlur(always_apply=False, p=0.01, blur_limit=(3, 7)), MedianBlur(always_apply=False, p=0.01, blur_limit=(3, 7)), ToGray(always_apply=False, p=0.01), CLAHE(always_apply=False, p=0.01, clip_limit=(1, 4.0), tile_grid_size=(8, 8))\n",
            "\u001b[34m\u001b[1mtrain: \u001b[0mScanning '/content/gdrive/MyDrive/ColabNotebooks/do_eat/train.cache' images and labels... 631 found, 0 missing, 0 empty, 0 corrupt: 100% 631/631 [00:00<?, ?it/s]\n",
            "\u001b[34m\u001b[1mval: \u001b[0mScanning '/content/gdrive/MyDrive/ColabNotebooks/do_eat/test.cache' images and labels... 95 found, 0 missing, 0 empty, 0 corrupt: 100% 95/95 [00:00<?, ?it/s]\n",
            "Plotting labels to runs/train/doeat_yolov5m_results/labels.jpg... \n",
            "\n",
            "\u001b[34m\u001b[1mAutoAnchor: \u001b[0m5.08 anchors/target, 1.000 Best Possible Recall (BPR). Current anchors are a good fit to dataset ✅\n",
            "Image sizes 416 train, 416 val\n",
            "Using 2 dataloader workers\n",
            "Logging results to \u001b[1mruns/train/doeat_yolov5m_results\u001b[0m\n",
            "Starting training for 1 epochs...\n",
            "\n",
            "     Epoch   gpu_mem       box       obj       cls    labels  img_size\n",
            "       0/0        0G     0.111   0.03763   0.07113        89       416:   5% 2/40 [01:01<19:06, 30.17s/it]^C\n"
          ]
        }
      ]
    },
    {
      "cell_type": "code",
      "source": [
        "%load_ext tensorboard\n",
        "%tensorboard --logdir /content/yolov5/runs"
      ],
      "metadata": {
        "id": "RUwLM-EUgxti"
      },
      "execution_count": null,
      "outputs": []
    },
    {
      "cell_type": "code",
      "source": [
        "# from IPython.display import Image\n",
        "# import os"
      ],
      "metadata": {
        "id": "RbLfLXHLJap2"
      },
      "execution_count": null,
      "outputs": []
    },
    {
      "cell_type": "code",
      "source": [
        "# img_test_path = img_test_list[0]\n",
        "\n",
        "# !python detect.py --weights /content/yolov5/runs/train/gun_yolov5s_results/weights/best.pt --img 416 --conf 0.5 \"{img_test_path}\"\n",
        "# Image(os.path.join('',os.path.basename(img_test_path)))"
      ],
      "metadata": {
        "id": "fb_eYpxdHEYp"
      },
      "execution_count": null,
      "outputs": []
    },
    {
      "cell_type": "code",
      "source": [
        "!pip install pillow"
      ],
      "metadata": {
        "colab": {
          "base_uri": "https://localhost:8080/"
        },
        "id": "Ts1BpJ08Ursh",
        "outputId": "adc6b772-48c2-45da-d100-be866a562f6e"
      },
      "execution_count": null,
      "outputs": [
        {
          "output_type": "stream",
          "name": "stdout",
          "text": [
            "Looking in indexes: https://pypi.org/simple, https://us-python.pkg.dev/colab-wheels/public/simple/\n",
            "Requirement already satisfied: pillow in /usr/local/lib/python3.7/dist-packages (7.1.2)\n"
          ]
        }
      ]
    },
    {
      "cell_type": "code",
      "source": [
        "import os\n",
        "import numpy as np\n",
        "from PIL import Image\n",
        "import matplotlib.pyplot as plt"
      ],
      "metadata": {
        "id": "rSykvgn2U_Vs"
      },
      "execution_count": null,
      "outputs": []
    },
    {
      "cell_type": "code",
      "source": [
        ""
      ],
      "metadata": {
        "id": "JnRqI0O4VKO_"
      },
      "execution_count": null,
      "outputs": []
    },
    {
      "cell_type": "code",
      "source": [
        "image_path = '/content/gdrive/MyDrive/ColabNotebooks/do_eat/train/images/'\n",
        "\n",
        "img_list = os.listdir(image_path)\n",
        "img_list_jpg = [img for img in img_list if img.endswith(\".jpg\")]\n",
        "\n",
        "print(\"img_list_jpg: {}\".format(img_list_jpg))"
      ],
      "metadata": {
        "colab": {
          "base_uri": "https://localhost:8080/"
        },
        "id": "J2YlnxltWVl6",
        "outputId": "a7322147-cb7e-4917-906a-4354a8228e8a"
      },
      "execution_count": null,
      "outputs": [
        {
          "output_type": "stream",
          "name": "stdout",
          "text": [
            "img_list_jpg: ['27-1024-pork1-960x1124_jpg.rf.4bac56f13bdcf4d443d283e83683b5d8.jpg', '28-1z2rv24zt7_48_jpg.rf.4dbb1600a69a323e0f2d546e6623d3ab.jpg', '4-2020011702565_0_jpg.rf.4bac4da2eb530c8dd6177022f1dc9ebb.jpg', '61-thumb_l_c5df1332838192769617e92aeb7c6f06_jpg.rf.ac8634f0c1958e6aabac0ca394d84dd6.jpg', 'images--6-_jpg.rf.4ba5baae522f14fc2f6bbe88db364642.jpg', '21-pmo-ec-9b-b9-ec-a7-841705_-ec-a0-9c-ec-b2-a0-eb-85-b8-ed-8a-b8_-eb-a7-88-eb-8a-98_jpg.rf.4c2b1352a6069f4f291262d79236c61e.jpg', 'images--4-_jpg.rf.a542c36707e097138d8e41051f383e2d.jpg', '82-thumb-html_jpg.rf.4d8f74854c51d82a898051b64313fac9.jpg', '13-3487_4594_520_png_jpg.rf.eea082e9b76acf2c64bd5aca187b683f.jpg', '60-trans-ssg_jpg.rf.9087795169867efc9b2ee196a0db4c10.jpg', '50-9707103_1_jpg.rf.080e79cb1a1e762bf45c740a9aafbda7.jpg', '11-u7ue42cscqo4b75nt2u74p5cra_jpg.rf.daa0bb3ddccf5b3f973bf36b62d228f0.jpg', '1-shutterstock_139971940_jpg.rf.5e339df661e387235bcce15cd4c98a8f.jpg', '86--ec-96-91-ed-8c-8c_-eb-b3-b4-ea-b4-80-eb-b0-a9-eb-b2-95002-eb-b0-b1-ec-a2-85-ec-9b-90_jpg.rf.6ef14bf80764ee290a678f284b433d2c.jpg', '96-0716-png_860_png_jpg.rf.9dc70c9d20ae8e72e6372417168f2594.jpg', '71-7289_9325_4012_png_jpg.rf.1057a5c9f91311ac6986e60ef10e8c5b.jpg', '61-img_products_detail_02_jpg.rf.37039fe80f41d4da98b3ff3def1a3bf7.jpg', '21-1499893725-7495-2_jpg.rf.a294ec26ef4494cb15a0eba99faebc3c.jpg', '48-2560px--ea-b9-90-eb-a7-88-eb-8a-98_jpg.rf.83ef9d0aba1458453fa05ff83b2051fd.jpg', '35-1000026794421_i1_1200_jpg.rf.a1ace734aec9540eb1b5bb0c584d4b09.jpg', '17-2405073a55b8de052f_jpg.rf.daa1c598b7995d6cf5f3dafb12468d82.jpg', '80-54c50d37d54cec7057dc5bbac93b73ae_jpg.rf.bf5bc30ad82780c73f5e96ca50842230.jpg', '37-thumbs_2_jpg.rf.da4e325761dffeadcdfa79f71cc31663.jpg', '86-072---ea-b3-84-eb-9e-80--ec-bd-9c-eb-a0-88-ec-8a-a4-ed-85-8c-eb-a1-a4-1_jpg.rf.266b8125968ac0afc67de21fa88ddff7.jpg', '61-11_shop1_989376_jpg.rf.31667e4b39f6b5f389ec2ee7fcba374d.jpg', '6-so-20-3-_jpg.rf.83fa1deef656354cc1a81456bcac8199.jpg', '20-akr20181121152600030_01_i_p2_jpg.rf.7a3595bb054be270504692040c9fb773.jpg', '2-tn-dll_jpg.rf.39b5aa8899c802e89930ead810a4f867.jpg', '95-imageview-aspx_jpg.rf.4f3a4d21dfbaf6adf9665e8d73a8f7f0.jpg', '78-akr20200513076400056_03_i_jpg.rf.a493edff7323f2ed67d31d05229b926c.jpg', '98-5ee91fa1220000f52782aba9_jpeg_jpg.rf.e417f7084ee3d46d524fe5c638cdcf41.jpg', '69-20201230170644267020_jpg.rf.d2e70721fe75e26ff9563e805d02a372.jpg', '11-main_seed_10_jpg.rf.7e87605cdaa8e0d74626288eae0ab7f9.jpg', '77-4696471145331f901a2d98af5ae17b53-1920x1280_jpg.rf.37bceca05a40402ea3a518d38612e663.jpg', '96-1095676733b_l_jpg.rf.7386dcdfec7c0d98e18e59f4a534b2f7.jpg', '47-a_7565318350_f60ddb3075cf95e0545f44d0b7c05d8c88910f06_jpg.rf.f3f3326d2842a2a9361b15791ed1f71d.jpg', '53-art_15759842240905_47b76b_jpg.rf.8509f5fa89886f2c88b5a8df6219c862.jpg', '32-11551_12019_3828_jpg.rf.53e3005d1664a26529f78998ab253427.jpg', '37-2818368754_summary_adiwvfe7ex_320x320_jpg.rf.0d99389825a6099cdd89f342edb457d7.jpg', '49-20210315131316314_jpg.rf.3a8d931d833cc6b19d350514fcd78d63.jpg', 'images--6-_jpg.rf.a0146577131cc60a4feaede919bc58f9.jpg', '71-202103311659081054_t_jpg.rf.1c05cdbb5e251b3fff86ea94ec71e687.jpg', '73-mv_02_food_png_jpg.rf.9549c3e2b5cc1f8d4ae4c2fdad5172b2.jpg', '9-994acd3359a1758e24_png_jpg.rf.0603e1dbcf162d1d20ee88b627b65e00.jpg', '48-199749_454779_3071-580x387_jpg.rf.97ce8dea177034b87b916c808d4901ea.jpg', '2-img_png_jpg.rf.45352618d5b3292a1b4d27739c659c5c.jpg', '49-fd7eda91-6f64-4218-af2b-19fd6dc37552_jpg.rf.179efe7df1873e9b957f3dc3fc762c95.jpg', '5-9933753d5eac0d2117_jpg.rf.20f646ef7594bbc3463e6dc88b71201f.jpg', '22-617175_211459_1412_jpg.rf.09fcfe67598b1ed1622b2dbbf2e5361d.jpg', '68-7429624498_l_jpg.rf.1f6128ab261a7f0b9cd42ca71390617c.jpg', '16-3d0172eb200d45d5b223d3d70aff26d7160430_jpg.rf.23aeda281a88f7d658973e0071c0f06f.jpg', '26-10712452857886_jpg.rf.e7fdb6b79ae838e9cb4f0299053f8a41.jpg', '12--ec-96-91-ed-8c-8c_-eb-b3-b8-eb-ac-b8_jpg.rf.caa5deb0e22ea3f2f15a599987939f1b.jpg', '60-c0053836_489d909e58719_jpg.rf.4f53994e2d6cc35a4ddc23f1830569e9.jpg', '56-9922b9355c9881cc22_jpg.rf.220f69668418a858f62786763efb7b3e.jpg', '70-2c77e779b5a5caa8d129a105a34e677a093927_jpg.rf.ed21ff50396455829b9aadea40171f5a.jpg', '7-99c34a3f5b6d00ab17_jpg.rf.66a223f79e3ef9451daf84b7b639bb06.jpg', '84-2202597_1_jpg.rf.22b9fb0fec5edb9e0c876c98bddcd640.jpg', '1--ec-83-9d-eb-8b-ad-ea-b3-a0-ea-b8-b0_jpg.rf.4e744407b72ff3e938a70f6b3f64a964.jpg', '91-trans-ssg_jpg.rf.8bb4693c011323c7b61c61a32d3252a5.jpg', '20-_jpg.rf.4f3ea338ef52794e7bb09275187c0ceb.jpg', '8-280_jpg.rf.8a7635fe20425bf355f2ce4096c08414.jpg', '17--ef-bb-bf-ec-82-b6-ec-9d-80-ea-b3-84-eb-9e-80_-eb-8b-a4-ec-9d-b4-ec-96-b4-ed-8a-b8_png_jpg.rf.ef18d9442f39c54a172ec642e543a7af.jpg', '14-221a784d5489810b32_jpg.rf.1f9e402d70b10850428e513ad740e7ae.jpg', '44-7f71c8b3d4dcade218102ba016b8c4fc1_jpg.rf.ae3e30a470e3ff2010f7f8395d081bc2.jpg', 'images--30-_jpg.rf.d97cf9b6946ab6153a8ade01b4d6c92b.jpg', '31-1471489907222132_jpg.rf.ad63c65c5f7ee4ec7071dc895a82e03e.jpg', '70-2019-08-06_-eb-92-b7-ea-b3-a0-ea-b8-b0_-ec-8d-b8-eb-84-a4-ec-9d-bc_jpg.rf.71f078b78138e1f8fd26cc2f4761efd5.jpg', '1--ea-b3-84-eb-9e-80--eb-8b-a4-ec-9d-b4-ec-96-b4-ed-8a-b8--ec-9d-98--eb-86-80-eb-9d-bc-ec-9a-b4--ed-9a-a8-ea-b3-bc_jpg.rf.8665c8c4050a3b42bdb97a0edb93b3e9.jpg', '80-400x400_jpg.rf.c1ab3016036768df27d6900f1033298f.jpg', 'images--25-_jpg.rf.e16ef6fde363953305ac87968f8573fc.jpg', '47-24_shop1_697265_jpg.rf.be260298b053a3e795f348fbb740c8ea.jpg', '2-foreign202002251052000465438946001_jpg.rf.40292e4e461904b579f389aaa96d4136.jpg', '89--picture-id505887658_jpg.rf.42a4ced02af5bac7c48d02bde4042601.jpg', '42--ea-b2-80-ec-9d-80-ec-bd-a9__-ec-bd-a9-eb-82-98-eb-ac-bc_-ed-82-a4-ec-9a-b0-ea-b8-b0_jpg.rf.da84c63e55d2cc50868842dd4e0629f6.jpg', '52-thumb-2750389328_7zdfak0l_96455729dc48d43000476d9cd40216b8445641c1_1200x675_png_jpg.rf.a6b7b32fef7e854d95cc99d857c7b3c1.jpg', '14-c7a81fea-3b87-4f2d-a9bf-5c2e922668cc_img_food_kimchi_detail01_jpg.rf.807b546ebd22ccd54dc223f4297e0b86.jpg', '36-2101068_551836_3922_jpg.rf.30d0090b1fbc755b2e3e73a12cb507b3.jpg', '54-pork_jpg.rf.a6bfe0405a73d3207750566b2998c66e.jpg', '41-_png_jpg.rf.56026b93887107cc56757b4d3499f8c5.jpg', '14-aa-25690012-1_jpg.rf.b4322c3b9bf09adf9c121cf43884ee68.jpg', 'images--36-_jpg.rf.dab117fab98bf65fc559fa73f8ab893d.jpg', '55-4438d2db962d782d59600022d4ab92ca_1602558108_9292_jpg.rf.317dedbd108e93b7fb0b7eb05cb5e338.jpg', '78-a59cbc2d153ad67ab3cf1e6449824775_png_jpg.rf.3c4e27f96402c99531f852a3cf4a1148.jpg', '73-35467_21582_138_jpg.rf.a418a563bf7ddca57ae1299931a3aafc.jpg', '71-6916_8739_1027_jpg.rf.6333116db325a737bf5e4365e8b3e012.jpg', '22-600_jpg.rf.90dd1f645436e2ae3e7b3591a7e8c9f4.jpg', '69-gv30000159350_1_jpg.rf.d3c8e22c5ab4bfc76dcc5562df082e5f.jpg', '84-image_readtop_2020_671775_15935658024262064_jpg.rf.b4587e95d168e43f99794e5a1da0a63b.jpg', '26-9706974_1_jpg.rf.31de1eef9de75cf24dff1da98f121ae5.jpg', '31-thumb_d_65390b023bb5fa177242f48877f1d44b_jpg.rf.a3d510c883451afa2b9b480573f7ed58.jpg', '35-1ca0958d96_jpg.rf.499f3e127ed3370f507e192dd92e540d.jpg', '10-egg-white-food-protein-162712_jpeg_jpg.rf.c9d04911c8971d32faff5bad7c295821.jpg', '56-56285_39477_1622_jpg.rf.e24457758fa34b80dc4bb36b7448748b.jpg', '36-600_jpg.rf.b0709910708abbc9cd2ca2840ca44d07.jpg', 'images_jpg.rf.121739cddd8e90747d67748238a04614.jpg', '3-img_png_jpg.rf.d5c686b91677cf6fd6ed6cd620b4512a.jpg', '17-mmxfglttw47grbhrxpi2qhofca_jpg.rf.bc3f184506a34e066e9b30c47904ab52.jpg', '3-gettyimages-jv10961134_jpg.rf.61373cbef358182a72561320be751bbe.jpg', '2-038e7344eb4ec0723f4d1483a0194ceb1_jpg.rf.eea01a21ea2f62a2e737ac7669b2af94.jpg', '34-66546840--ec-86-8c-ea-b3-a0-ea-b8-b0_jpg.rf.844ac790d077cb6c635dcf6a09d1a2b3.jpg', '67-201706300462610974_1_jpg.rf.9c27d8077d26e39564652c54b95b901b.jpg', '57-20191226101051381_jpg.rf.a97d145817f350fbecff1dafb1960546.jpg', 'images--2-_jpg.rf.188589b03d00b0cc90f9137396da2d52.jpg', '38-5d71e86d3b0000e255d041ab_jpeg_jpg.rf.3ac555e53cfa73880aeb7f998cfae299.jpg', '22-01_png_jpg.rf.a3c0bddec7bb68af4995414af1257e60.jpg', '71-bbq-ec-86-8c-ea-b3-a0-ea-b8-b03-ec-a2-85-ec-84-b8-ed-8a-b8_jpg.rf.2ab3a8ab4dcdf0dff9bc6e2f33b3a838.jpg', 'images--8-_jpg.rf.2f756a6987020730b922e58d6e800ecf.jpg', '59-e72e071679c34d5d89bc0dc294180cd1_780x519_jpg.rf.be51414e4d28533c01adfd38d07b9cc7.jpg', '72-cateroll1_jpg.rf.0439d315c87fc51a36d03f77e4044b45.jpg', '18-maxresdefault_jpg.rf.9719657da6394b8ef1bdb5bf21f842df.jpg', 'images--3-_jpg.rf.515d1f10452327bc31c2f300c1abd2e9.jpg', '85-720x720_jpg.rf.38111baa36d5ee8c54fb09f22c3cfe3b.jpg', '75-spam03-e1510025222989_png_jpg.rf.1890ced5b413fefa2c0ddc2c022397bc.jpg', '27-_jpg.rf.797ba9e33316a7e1bde69f6bc233544c.jpg', '72-_jpg.rf.91fa227288e67a6b5e7a4ef5ab70ff31.jpg', '35-20180412000278_0_jpg.rf.f0bb8668bcc78ba8a2e4b1542dcd79bb.jpg', '71-garlic-1_jpg.rf.fa54cff8d1c815fdd900bfabf5f457ab.jpg', '70-maxresdefault_jpg.rf.dd6177df2cb3a3d3063ac7542c9b28c6.jpg', '92-spam_b_obj_1_png_jpg.rf.b160c8d9f52b409761321d1b49591115.jpg', '27-2021032310550444629_1616464504_jpg.rf.716adb32c1cb5403badf9f57c24bcb8f.jpg', '80-1570160560644_jpg.rf.fbad94c09b367b80966325c98ca66fbf.jpg', '29-1000040685935_i1_600_jpg.rf.01b053edd24cb8cbcb96d54b40789834.jpg', '27-2021011510540728152_1610675647_jpg.rf.3a260c59d82c2fbd3535efac082f0dc1.jpg', '31-13-1_jpg.rf.81621098e2694584852e558c20109589.jpg', '63-6255102230_l_jpg.rf.c14a5bb790fc6193b43c156ab314c914.jpg', '1-6b6e035658bac_png_jpg.rf.0718c1b284317e759f70b40abec23a8d.jpg', '62-920137264ac542ee803498844fbd3588_jpg.rf.8e64594c0aecf254c0382a547c18a7fa.jpg', '22-6ea5740a1a5d90ce29cf741db018c555_jpg.rf.34e7cd6dde6b886d14bf5414956726eb.jpg', '11-52225_52957_4551_jpg.rf.779162260407a0a03cf3e1761f770e7b.jpg', '4-20140801000076_0_jpg.rf.eb24ffc450d72c5d886483c8615419f4.jpg', '44-7660_9854_2529_jpg.rf.9bc6c0111249f3901729919258d04c5f.jpg', '79-14261_7977_210_png_jpg.rf.58ec22f4d49dd11d7d49433cb62af738.jpg', '28-1000012631307_i1_1200_jpg.rf.746fb8b3daabb881551cb0534e2eebb5.jpg', '53-19038_4819_80_jpg.rf.f80d664a4e23289f130d542479f15d98.jpg', '8-art_15867403922481_a6e17f_jpg.rf.1674498273e59ab72bdbc688126aa9c4.jpg', '20-2020101300150_0_jpg.rf.e69464727c3334eeedb1a7e9de991b33.jpg', '55-5e2feea91f0000f106858c14_jpeg_jpg.rf.50e36903a52717526dc7fa4bd3a1d31e.jpg', '63-ie002179580_std_jpg.rf.7c2706f1ecbfcf3678f3d7d755bc2d82.jpg', '34-6555_10318_464_jpg.rf.1c703eb4e6642a768992498f5cd5bb2d.jpg', '70-lqw6li3x5osyixtugp4xa7qr3u_png_jpg.rf.6510d05bf08529c249a530f78c2c085a.jpg', '83--ec-8a-ac-eb-9d-bc-ec-9d-b4-eb-93-9c77-2_jpg.rf.6c370fa9da11579d5f9b4a965da8826e.jpg', '43-99e463375b1a7b3012_png_jpg.rf.b428cf2a01253c47a4667292a869f99f.jpg', '56-image_readtop_2021_392757_0_120111_jpg.rf.5d807ee6fe6e5334b0ea3293a4d2d612.jpg', '42-2273643c58b434c219_jpg.rf.bfd9c5569d1c03d03fbd0e9fd0a9a126.jpg', '55-7c6923bb9d821_png_jpg.rf.0530993c02317c2cacb01e77c2237007.jpg', '25-akr20200610051100063_01_i_jpg.rf.2799c525d6b608c753cff0e68f82abe2.jpg', '33-29033_10876_3551_jpg.rf.56c90fd3c5af30cefda67e0c4b8b18ab.jpg', '32-2020112502010_0_jpg.rf.e700095ed8d6eb086bcbf522c7b22387.jpg', '19-202004231500779914_1_jpg.rf.b0d4aaf1f8e01599e8d8e3a816f4b586.jpg', '30-maxresdefault_jpg.rf.6ca95f3757d179d37bffb7bb5057f0e9.jpg', '64-8ddc24a678002c8e3f74767d185a1581_1580190445_1994_jpg.rf.a848a609fbcbdcb20efca327ec33b4b1.jpg', '50--eb-af-b8-ea-b5-ad-ec-82-b0--ec-86-8c-ea-b3-a0-ea-b8-b0--ec-97-91-ec-85-80-eb-b9-84-ed-94-84-771x514_jpg.rf.9f46d1684def1cc22333885fea3e0e89.jpg', '52-45334f5b85c43f87c2571a6e0bc7a8df_png_jpg.rf.218e6698855e10edc9a953a71e6b4120.jpg', 'images--33-_jpg.rf.a224b23af8ea1252162b582c753b0698.jpg', '93-720x720_jpg.rf.f6a32362917e0a454d989ffdcbf37161.jpg', '66-1000030532881_i1_1200_jpg.rf.4bb5647737c3dd61905ee36b48155965.jpg', '91-maxresdefault_jpg.rf.cf9d50dcc812561e5da524300b9b433d.jpg', '69-7095_10684_010_jpg.rf.b54a16d3c7677a4b68024f105d7df3aa.jpg', '90-pcm20191201000022030_p2_jpg.rf.20b5e35693e4457e939934b88fd93957.jpg', '96-p_1-2877-29_jpg.rf.5d81fd12e424639ddedf827bef2765b0.jpg', '59-8fe73e11cd6587c5036bf343b5f7a2b3_jpg.rf.aad76344d3e53b0ab8202df334cdd15c.jpg', '17-_png_jpg.rf.9ada0f1f1345d98c9e2e40baf2faa857.jpg', '29-l_2021031901002260500193131_jpg.rf.c1e8e498df7c81fd58fa970dc0a6851b.jpg', '86-1000034080935_i1_1200_jpg.rf.f95ba860ff496fb15b6ac63443e0c8bd.jpg', '61-img_mkh200227004_0_jpg.rf.2c2433749e65ce2a8e5512cd23b9e2a3.jpg', '48-thumb_d_8b96d5ce3fee8e7201f467b143a28c88_jpg.rf.33903a1f6ce2eaa1d4ee6e6e1d92087d.jpg', '13-art_15640632817329_c8607d_jpg.rf.14feed6ed7b71d39a15a4a15f626e777.jpg', '36-20180418155146568624_0_1100_825_jpg.rf.b779c157eeceb8abf301f7251886b5af.jpg', '12-17332_3510_1310_jpg.rf.1e4e8f56bffdf61a56cf4e1cfaf29f06.jpg', '49-8410_8724_5356_jpg.rf.56c7e7b0eac7e5da74e229db076cd074.jpg', '62-600_jpg.rf.844bc7a8e0f7a93806048a1a753daa64.jpg', '38-_jpg.rf.9e45db235652fbefb7d189317266ed4b.jpg', '82-7f33a65ccb541746f204ae0a505fc3a8_jpg.rf.ee3e5fcde8e1c8e43a4c3f48d8d7cb2b.jpg', '97-14064_25002_3933_jpg.rf.a3220e80729c869820737a78c2574bec.jpg', '13-198ea2c571_jpg.rf.8af3fafe60a5aa90f475dc5f7311bf69.jpg', 'a--12-_jpg.rf.7e6f1e0a8dcdd6956bc2d0c71391538e.jpg', '58-500_671130_1612508242_jpeg_jpg.rf.537701bcf4d116c6a2ed50d15b61f07a.jpg', '20-2019022502720_0_jpg.rf.b81b0c3c3914227ab7d18b54f6781478.jpg', '7-18705_4399_5316_jpg.rf.9cde2c105d4dbbcf364192da7488e1c2.jpg', '8-thumb_d_cdc14868821ff3f20c77bc8bc15e6355_jpg.rf.0856f4f6017602118038718aca8bd4b3.jpg', '26-2019012901505_0_jpg.rf.95cb3f441468705f122edecb0bedc8e9.jpg', '6-1492_2385_3537_jpg.rf.2c62a11239d463c61f22222e4e81792a.jpg', '41-maxresdefault_jpg.rf.40acecb7bc8467cd9a9097335f4a3a9f.jpg', '5-1006210_1_jpg.rf.4e791b9deac326711c7fbc12dd72f4d1.jpg', '90-jv10927908_jpg.rf.53eab67c6c15b03e245854d641567547.jpg', '58-_jpg.rf.b09b725c232e29354c1ac440454fc3d2.jpg', '21-1104082_3754_143_jpg.rf.e0f7e800098bcc3b3cfa7159a194318a.jpg', '38-202101221328409856_0_jpg.rf.c02fe2df048f835bd6094a30ec599e12.jpg', '51-ps20030100143_jpg.rf.3699ea43f27655b23a849b09da46cc38.jpg', '23-1baebad376_jpg.rf.ccc686f8dbf7b99991a2b84b5b4d8c5d.jpg', '76-1b9e5f3dbd6d4f0994e62e6505ff857b_780x519_jpg.rf.285d31b43b2f9de5146681ca1e60db8f.jpg', 'images_jpg.rf.7aec59338e01475291e36ca13417f3c9.jpg', '50--ec-a0-9c-ec-b2-a0-eb-a8-b9-ea-b1-b0-eb-a6-ac_-eb-a7-88-eb-8a-98_02_png_jpg.rf.08d3a55b7934a5ac5a1a41c973fc1dc3.jpg', '54-93958d7f-0a11-4f14-aef3-27a937ba1393_jpg.rf.fbfd4bb83f06fd0dd954ab8bc0e401d2.jpg', '23-thumb_l_7246af28acfcc1ff07b2121a85014138_jpg.rf.02e916de8a21a08c5d22fa3433b8927b.jpg', '67-15417_11307_370_jpg.rf.a244b87cc6ca6ab9d1c0adcb100f7b38.jpg', '30-001001000001_jpg.rf.778a56f4ba3b735d23c16e01e07eb05a.jpg', 'a--3-_jpg.rf.692f767846f7081aa672e1b63044e14c.jpg', '93-thumb-2039967777_vvb1az92_92e6e68ae031dbb41f874c44db1264346ad30d34_600x400_jpg.rf.b37df854488136e9bf59a627c20c2988.jpg', '25-optimize_jpg.rf.1a311e3457777b619be3cc4eddc1e244.jpg', 'a--4-_jpg.rf.a93384148abec8a25b448e8e01369c97.jpg', '46-280_jpg.rf.fb8fe6da61d451afc8e4c259c265c684.jpg', '19-1b83d2dce6_jpg.rf.c7916b5afdd2c8b5695999a97f2b088e.jpg', '55-50382634--ec-86-8c-ea-b3-a0-ea-b8-b0_jpg.rf.df29937ad1c5d245afaf835aedbcc306.jpg', '5-1a48287666_jpg.rf.ccd0951ab102002c73481dde36956ec3.jpg', '67-65_jpg.rf.e5a4deb0ee57e2f2dde6278263d16dda.jpg', '24-20210315131321169_jpg.rf.d599f2a5d65e0ff596e16b8df0340353.jpg', '88-faa8563d-ff79-4ad0-94d3-8c3baa824d96_jpg.rf.fc72b0b0b22c70e24b71b5c47c43bc3c.jpg', '43-l_2020021001000000000078091_jpg.rf.3bbb72d07c9cb7ffe73a87c1d594ca34.jpg', 'a--2-_jpg.rf.3caa00bdc0ed1fe51283989a89792330.jpg', '54-2400000018773_jpg.rf.01f1eddc3d0d6dacbcfe9a73407c717d.jpg', '66-48_shop1_322311_jpg.rf.b117995a83a2513be9bf1a59bb702254.jpg', '54--picture-id505890642_jpg.rf.59e0dc92cbb3992fd319c0c11b98f918.jpg', '75-trans-ssg_jpg.rf.1cd19d95774e375f3c033babed4623a5.jpg', 'images--20-_jpg.rf.2ac1e8084a04053c83c93978ca22e9b5.jpg', '47-99-21115115-1_jpg.rf.02231b955b42257821dd55c679f16dd8.jpg', '28-39241_27277_4351_jpg.rf.94911d0262872fa2d246e6caf3856292.jpg', 'images--15-_jpg.rf.942b9dfe76307b5090335c3bec7303cd.jpg', '11-htm_2015062916244a010a012_jpg.rf.5d0548b1e8076eb50aa42138ebd7499c.jpg', '70-20170511kerrrr_jpg.rf.57355756ae9729d1eb0938eea3b066bc.jpg', '42-1014572_445498_0115_jpg.rf.8c4b4f359b7263c1901bd298af371d78.jpg', '19-2019110708106019_jpg.rf.d865fecb335d669005b0dece6c1ff25d.jpg', '88-pixta_47414072_m-1024x754-1_jpg.rf.4f3901ed86902b3b276f31625c021900.jpg', '3-27564_16786_496_jpg.rf.e946c6c665bb1c3eec3f43927fee4858.jpg', '45-887b0313-0896-4863-8112-d40b0f46ac58_jpg.rf.a47bcb5fae4d817304a671d8581c5fcc.jpg', '72-d016cb04ec26f4509be92298b8ac5826_jpg.rf.7709460434fd52230a9aba9f9d84684f.jpg', 'images--13-_jpg.rf.cb706b528680707bc9e8c3128efd4f44.jpg', '14-11082204_1_jpg.rf.f225ff73151388d415238df1c1297234.jpg', '68-3554238800_20201124084104_8189450997_jpg.rf.f4dc09868a2b9dedab2237ab580b945c.jpg', '41-_jpg.rf.eadf8f319237c225a4cc38ea559ebb75.jpg', '48-img_jpg.rf.771f68cecd9e058a66b9ee531182974e.jpg', '55-daepa_16-1--3-_jpg.rf.7c2c5c3c397f8406a2ddd0ba7922ed0a.jpg', '49-01208542_jpg.rf.e737242121693e90a167260ad4b0f44e.jpg', '75-73_7910926108_r_jpg.rf.54a719ee1692ab2b928fcdf1b24cf041.jpg', '96-8f00932a7e089ee0ff284031bc05185f1_jpg.rf.6011054c556dceb160d9d4ed829f1194.jpg', '90-1497956121347s0_jpg.rf.6b23ad4d1dd3fc1c5e7c76ef202b8bef.jpg', 'q_jpg.rf.8b960414e26cafde9274580b2aa33b60.jpg', '32-wr4vlltz7ryljqp5acjvohzqdy_jpg.rf.63fabd6b68af97e4a45ea5d3a745b74b.jpg', '43-_jpg.rf.c24949432b448fed8b1b9e7e4deae38a.jpg', '24-5845ce499ece43ca9e6df46f052eff83_jpg.rf.169802078c81ed4cc04d1b2072693bbe.jpg', '29-1719_1697_3329_jpg.rf.621f43a3fd0aad383863b62debf4141c.jpg', '25-250px-ayam_kampung_free_range_chicken_meat_indonesia_jpg.rf.1678188e9eacca6f5e5916791d4ef413.jpg', '13-img_jpg.rf.cddbaaaf3faddea02982837eabcc6945.jpg', '97-11714_12027_3027_jpg.rf.63df65e083fb89e8f62223a695cd2689.jpg', '50-12680899002398_jpg.rf.a43e820db70a0c960efef965b373feff.jpg', '42-87713_113344_5231_jpg.rf.bf30b42a9ab92d4fd383190db6b0b66c.jpg', '63-64760_35628_2736_png_jpg.rf.e4a0dc60c2e2504d557c37ec92cfe008.jpg', '57-202004281693369419_3_jpg.rf.842a577fda4fe57e70af160db0f74f42.jpg', 'images--35-_jpg.rf.f8c926fa3f7fd79dc94c3b660f691179.jpg', '14-202101221405011333_t_jpg.rf.9653a47acb16827479927139cbcf3cb2.jpg', '94-996569375c7f7b101a_jpg.rf.0481ec95067caf9fefa21f6fb1e06ab5.jpg', '46-86297826-1_jpg.rf.0365483b23bed39978b6a6a5d3974a59.jpg', '74-art_15890195946332_705484_jpg.rf.040c626663278ebd3f33e633936532a3.jpg', '32-2020060618344287179_jpg.rf.99de278e1db7c95656f7e464955ba57f.jpg', '92-050816001_2_500_jpg.rf.bc5045a01a4b05c00a705eedd7d9d3aa.jpg', '59-5544bedaaf0a532d294e01d325529774_jpg.rf.e0f078c2b2b559d0e085cfa5a282c377.jpg', 'images--22-_jpg.rf.63ed7dbbcab19377025d2e3983d99d97.jpg', '65-02_jpg.rf.130761cfd87f2140589b1074e85706f0.jpg', '74-2020022834065230_jpg.rf.527e5c991ca744712bd100acfdbf7ce1.jpg', '92-45237-417638-samplem_jpg.rf.1ec1af347e25d81c54459c2fad17c676.jpg', '3-art_15960026529023_216045_jpg.rf.eb65ffa113cb7a3db9efaa50a479a58b.jpg', '89-2039633584_0_jpg.rf.88a8b397acec0a916fb1b5e6fe2cb564.jpg', '17-_jpg.rf.46decbd704eb7bb5143c91f076b4afac.jpg', '57-280_jpg.rf.aba4c6a1312f6ae2b95508a30ef0c4ad.jpg', '6-35271_29569_5121_jpg.rf.5a4bcc2bac4a1032a5aa517429d9a6bf.jpg', '58-l20201216-22016004713i1_jpg.rf.58d7052700150dfaae0cc82df5a0f615.jpg', '79-img_jpg.rf.ea8cbd706ab56dece78c08102de0aff7.jpg', '37-4b3b0df7339e7e4029b2db0b805b3611_crop_jpg.rf.84a1219a604a0d168e7c8c37742b4045.jpg', '52-33079_22703_3426_jpg.rf.dad334a5e4cd9799891e6aab849fbd43.jpg', '71-img_jpg.rf.1954df6bfdac9f21a57c4ea2f7eb7205.jpg', '33-99bfd23c5b723d582a_jpg.rf.90504972b60ad8962df85640cda7c124.jpg', '26-_jpg.rf.11adc8b1fec2a662ecb28047d7864593.jpg', '65-13775-main-01_jpg.rf.77660ae1d5ad47d706ddfba02b71c602.jpg', '80-img1_png_jpg.rf.62a04e8ec14a44d089cae008776b245c.jpg', '70-main_section_1_img1_jpg.rf.a5a8467022a9cdc4448d9c4c79aa32e0.jpg', '51-32409735--ed-99-94-ec-9d-b4-ed-8a-b8--ec-bd-a9-eb-82-98-eb-ac-bc_jpg.rf.73e5c3bf293fa20c00c43cb2b4fc3d84.jpg', '92-maxresdefault_jpg.rf.f6b0c9442eedb1d105f4f088e496310f.jpg', '77-1480037772289_jpg.rf.c0424b647fd793bb1c14614e3473078a.jpg', '16-1616132123214_0_jpg.rf.8817174ce48f860e5f8d9a104ec18e1f.jpg', '60-e12cbd291cc42c82c5b8f04fe8621f71_jpg.rf.d0d09ac6f7521a3292ed70a0e9fb7817.jpg', 'images--10-_jpg.rf.ece05b5d46d8713ebd759cb9960a7d37.jpg', '88-121890_122943_3859_jpg.rf.2fe53e347ca6f247fa990a41e9d40237.jpg', '31-jv10922130_jpg.rf.06501277ce973d3fe5ccbfff264febe1.jpg', '67-maxresdefault_jpg.rf.5561cb2fc9f273172ec2948a36ef137d.jpg', '63-bcut_dsc02530-1_jpg.rf.9a4bf72ec0da474221c4ee689cbc9783.jpg', '17-51570_8389_3723_jpg.rf.e09fecad284c0e6192e3d39f611add77.jpg', '64-2017042702088_0_jpg.rf.be411500cc6ffbf23b1c058bb6b2358b.jpg', '21-1000034998636_i1_1200_jpg.rf.99fa4841f415b8bf516dd65c2d9d1372.jpg', '39-1411260330565_1_jpg.rf.d099537667a20a3182985889b8db1ae4.jpg', '56--ea-b9-90-eb-8c-80-ed-8c-8c_jpg.rf.e223eb3b685cb8a86d8593bffda4095c.jpg', '51-868f7f0441e295505481930146c089f2_jpg.rf.9c90740e40beaab4572eb692ed615774.jpg', '37-37696_26230_2053_jpg.rf.75b19992fd45612104fab3ef7866f3f0.jpg', '73-2878064218_front_xjanhndnle_jpg.rf.daee9e8238d37d28e8c386c3e483a702.jpg', '36-6174746163686d656e742fecbda9eb8298ebacbc2f6b6e6d5f30303030303030303030303030303030302e6a7067_jpg.rf.f5fb8401cbde5d89467937d6f23a8081.jpg', '84-maxresdefault_jpg.rf.026b311bed190e3386c33627b1e6ab23.jpg', '51-20181212_3934795_1544579250_png_jpg.rf.d92596faee770a3e5608ffbee2ddee3d.jpg', 'images--12-_jpg.rf.bdef37e25d08f15b2f2a4470e567f507.jpg', '7-188833_250326_1055_jpg.rf.71fda3b4ab8af2092b5af5d25cec1785.jpg', '92-9955b2455c4a8adc34_jpg.rf.90946e49210be8ff972b92def4f1114a.jpg', '52--ea-b9-80-ec-b9-98_03_jpg.rf.98bbf627913e464d978a88c6536f51ff.jpg', '85-e1d38d22a01a5f11619e141e089f66cb1_jpg.rf.1985625827fcbd72da41432c0d83b425.jpg', '80-720x720_jpg.rf.f10cbdf52ff853a57453c8053c57780a.jpg', '15-_jpg.rf.fa0ae6a004cb0817d1d9ea7b036f6297.jpg', '42-0000007058780_i1_1200_jpg.rf.7457549bac91a03b8ce6ea18cdaec29d.jpg', '72-img_jpg.rf.cebcfa43396bfba33e4e38f764490323.jpg', '68-1621315099553_gettyimages-1227077191_jpg.rf.60d3666553aa148e503ada2bb2d7a95f.jpg', '75--eb-a7-88-eb-8a-98_png_jpg.rf.f7385e5be9a73b46d47207c260c246c9.jpg', '85-yher4tid4rep7dsltcxsnmbbmq_png_jpg.rf.f8ee77bd3124171e34a8df61991a76f9.jpg', '73-200px-spam_2_jpg.rf.05be9b3dc2c4104dd770d52f4a41c5ac.jpg', '61-_png_jpg.rf.890c97c94332b0a355ff782051618fa8.jpg', '74-050816001_4_500_jpg.rf.7ecf385ab62336a69e6896b0ffab3dbc.jpg', '23-225_jpg.rf.802c9d2a1880c4b78ebaebeeab14e936.jpg', '89-12247_18629_4358_jpg.rf.c591a03a7549c354de2d79e60b2d1251.jpg', '58-61279_18349_2231_jpg.rf.fb0922138081cf92e1e7b353ad1ef30b.jpg', '10-2020100602170_0_jpg.rf.89e54ee85d96192b605be5fdde631a99.jpg', '23-6031_4685_3251_jpg.rf.4873c9712ad7fc9a64c9be111663742d.jpg', '64-_jpg.rf.6357e23ab72353cb5f08392cae268056.jpg', '36-img_food_kimchi1_1_jpg.rf.c33708479d48288426417f8b99ba44ee.jpg', '50--eb-8f-99-ec-9a-b0-eb-b0-94-eb-a5-b8-eb-8b-ad-ea-b3-a0-ea-b8-b0--ea-b0-80-ec-8a-b4-ec-82-b4_jpg.rf.21dfce7e9d6c73bc143ebb90b5887c1a.jpg', '13-4-1-e1496107977580_jpg.rf.920697d4e07e673474843cd840373d7a.jpg', '87-03d2522c7206071e1885f0354aafe8781_jpg.rf.2b18c3cab03e2dedd2196a0fe5b7efe0.jpg', '83-8_png_jpg.rf.b8a57c1280eb185f78f409adb694eb40.jpg', '1-1c14799bb7d2936cb12806d51b3fc7ee_jpg.rf.97f768caf606c6f1102a1ddc554db53f.jpg', '92-137_tmp_87abc18235509a9a8e4b860983d01d193210view_jpg.rf.e2b4096de8da13e6cee1ae3945ef8a0b.jpg', 'images--15-_jpg.rf.3507c15906bef557c3c73bb73ee91c23.jpg', '38-201909261111470737_t_jpg.rf.90c444cbd0e4505cd3a138fae0c818e6.jpg', '19-201705241330852622_jpg.rf.b8e2f587a51ca519d2f5f6a6149c2f3f.jpg', '18-se-e8d3e542-e6c6-4e30-b0fb-25188c4a6898_jpg.rf.b4fe74a759f448df0d4acf8e033d2d31.jpg', '71-image_readmed_2018_775881_15446074643566869_png_jpg.rf.cb58f652cecf031849836f48c5ca7c64.jpg', '42-47442574442526_jpg.rf.affa247fbd355ee21e345cfe905a8aa0.jpg', '85-_jpg.rf.28febd27e1d927f367437a3e0b636b77.jpg', '27-206121_45335_5649_jpg.rf.43b4c4cec476342a966d90eaef1a18fe.jpg', '40-_jpg.rf.9fc08060dbcc1f63ed3ef5015c4f644b.jpg', '59-739769453_14_02_jpg.rf.62fb60137af40ccf5b27069e5600c366.jpg', '36-img_jpg.rf.87b687ef3edac8d27342ec18289c4b48.jpg', '8-060110009_content1_jpg.rf.c02fd8eb728e8d0dc7d5687de7c5f56e.jpg', '22-99f68e385c3d752103_png_jpg.rf.0d68be86c1dfc9e652c9cbcf680198ee.jpg', '94-2449_7245_3334_jpg.rf.0f2cca6fb546270e2199d75b62eabff5.jpg', '51--ec-96-91-ed-8c-8c--ed-9a-a8-eb-8a-a5--eb-b0-8f--eb-b6-80-ec-9e-91-ec-9a-a9_jpg.rf.0dd89a473d049808c520ffc048f983f6.jpg', '43-trans-ssg_jpg.rf.5daf841b25736147c76ecdd9eb255ae9.jpg', '29-99d48d445e4ddc0a2f_jpg.rf.874aac7462156ca0b4e3006d104691b1.jpg', '26-_jpg.rf.e94da94767d2f37bb637596d6ec24adb.jpg', '74-190318_-ec-83-81-ec-84-b8-ed-8e-98-ec-9d-b4-ec-a7-801_01_shop1_234845_jpg.rf.16e6d4ca1e04ba0c88be1f83ba63a103.jpg', 'images--12-_jpg.rf.129e90b518ec10fe544844b09d7fa373.jpg', '23-art_15713269658399_b7dcef_jpg.rf.b291f0a880f2891e5f68ba8396d0de83.jpg', '48-1000049075352_i1_1200_jpg.rf.c9fd474bd3249e6595fdfcfb25819cdd.jpg', '15-105850095-2_jpg.rf.ee1118ae88652d5213507b1593a5e178.jpg', '1-20170202145824_jpg.rf.2f13daa02a1b4b9f86488a205ceb12c7.jpg', '93-2372846314_front_d68a7a2c54_jpg.rf.b8dee4e3ce75bb693835036b71eb62c1.jpg', 'images--8-_jpg.rf.f2539b98990ca223c10ebe075d955d39.jpg', '15-319867_325405_035_jpg.rf.78e831b2fcfbe530698f0457be031f2c.jpg', 'images--24-_jpg.rf.b4b8d0aa8806a8aad542a52a6a3d97f5.jpg', '16-050502007_1_500_jpg.rf.7ef63bf9a8ec78e5583e3fb272fb72bd.jpg', '62-1000034733857_i1_1200_jpg.rf.ae2ba6a6264007e605e06932ddb8b0b2.jpg', '44-12311_jpg.rf.0fa09e0be106ca492527d36c6817384b.jpg', '81-ps21030401580_jpg.rf.0020d41fe728215b880eddd80a4dd7f4.jpg', '23-ed48b07d445943e1a2c8360d459e7ae6_780x519_jpg.rf.c5ffebe1b241f079d477fb77b71d148a.jpg', '34-43285401--ec-8a-a4-ed-8c-b8_jpg.rf.d4c827b9d96d9738b3eae3578576660e.jpg', '10-onions-basket_jpg.rf.73d2610a5b65f9726cb08d3cff7e8376.jpg', '96-2863939bdd4ff41d0d92ff5a1a90b85b_jpg.rf.6246f01edd02f596c29cbcf61c17361d.jpg', '86-7fbd6280d3a06de0640fc69b35b40e9a_jpg.rf.8bd48d56c5cfaa1a0974cce2634c5057.jpg', '60-art_1597861161377_fb7b0e_png_jpg.rf.6fde109f9b0c239a63c7af6cb0b65def.jpg', '73-img_jpg.rf.0d0d2e874e6d3c9a3801392bfe34e299.jpg', '31-32ad51848_700x700_95_fit_jpg.rf.2d4fa002610dea929214e822153550f4.jpg', '20-trans-ssg_jpg.rf.e8c63d84a3f0243b7256da9c410c05b7.jpg', '54-14889_16599_2712_jpg.rf.ec69329a118871ed98c954bcf7af1d37.jpg', '88-8bb2c32ef61342e2966d686d32e0b949_jpg.rf.b0ab9ec2f214ba1d82b0193c4f8802d5.jpg', '27-19ac8c0cb6_jpg.rf.5d1074bc23c59e959cf36c2f60de8b0d.jpg', '5-22d427eaac9309032a38b91f97c4fd6c1_jpg.rf.efeca072c7c6802caf4ad27ad67c6314.jpg', '40-htm_20161211152334592630_jpg.rf.cb64966a7826214d7a59159a4b7b8aa1.jpg', '7-image_4831246911570669298341_jpg.rf.0140f95ab3ffc57d1fd3258577d521b9.jpg', '83-art_15802153869378_54fe4e_jpg.rf.281b119f05e395e8caee9c6ae42340a6.jpg', '3-htm_2018062517341206794_jpg.rf.23de06b5ba7f5467ec0dbe93535e64ca.jpg', '68-story01_img01_png_jpg.rf.03ebb5b7975315b71b39a7330b5a26e9.jpg', '17-gettyimages-a11228264_jpg.rf.e91d3d0ca9483f0c2fde5bb9fa90b9dc.jpg', '40-20200115141435_1413381_311_520_jpg.rf.dfd7af1e67d8b44813cc4d6e48499589.jpg', '94-maxresdefault_jpg.rf.69df74aaa60433a0703ab21d0a3a50e1.jpg', '51-06f150b9b340f3ab897e8c5f270a052a_jpg.rf.562768118211c6cf776bbb3ef20e8f2d.jpg', 'a_jpg.rf.7371847a4e8ca706b84713f006c7a5c6.jpg', '69--ec-96-91-ed-8c-8c-ec-99-80--eb-a7-88-eb-8a-98--ec-88-98-ed-94-84_jpg.rf.ece3d340449d3c062c13f60e37db097e.jpg', '62-600_jpg.rf.70ea2d800c0eb05e36c525acbc9a0ef8.jpg', '39-l_2020072101002491400195811_jpg.rf.e1b59ef40ea010be0eea4d477ee8a220.jpg', '19-41997_32485_4757_jpg.rf.676800378ae8c9e236290e4f3bd1ec5e.jpg', '64-1613865410_xiwjdzns_2edf1853751bbc3605273bbca1d2fcaedba6e258_png_jpg.rf.4d4e80c5bdbba1cd7801ba83f1cd662b.jpg', '45-img_jpg.rf.299d954b6e790c23e5c784cda9fb6340.jpg', '29-ie002606038_std_jpg.rf.3dbd50f92561d99cb8dc29fd94b9319a.jpg', '46-99-23531593-1_jpg.rf.9c7a0c7bab7115f7e20e93c65c2cd45f.jpg', '98-384_png_jpg.rf.9e9e0345df6fde6fa0108fe1c84021af.jpg', '25-8b1c2eee8bd9bf35e095b855b13a0363_jpg.rf.d278056291e49b4de5894956884afd89.jpg', '53-18986_4750_116_jpg.rf.d36601817fa2786c3dc3a5a92d8a24c5.jpg', '45-2015071401132_0_jpg.rf.b2bc13d8cce003d104f3fe50808e3eec.jpg', '44-_jpg.rf.7d50f62b594baeae178ed8c83d94051c.jpg', '23-30766_12297_4430_jpg.rf.c97c053a3193a8819e730de371a776fc.jpg', '21-720x720_jpg.rf.d21c113d08c04930e68bd259f3af7b5a.jpg', '64-0000007404414_i1_1200_jpg.rf.f91e8083188175efda1e8d7b849d51fa.jpg', '18-20160429133941-k934a_jpg.rf.698d5931fa7ed5a60ae77c4998c09cdb.jpg', 'images--26-_jpg.rf.658ab487647cf37556824d6066c05243.jpg', 'a--10-_jpg.rf.053e1ff46b3898dab184ed2f4a5d6e08.jpg', '73-reg_img_5433134_5_jpg.rf.88ab51bd7e5fe7ac84f1b078c77e87dd.jpg', '62-1546565815969_jpg.rf.f5abdce72ddc6371a91c661799602f1b.jpg', '27-0-779574001427682496_jpg.rf.a3b9fa81e04c801fb93d94e5304be126.jpg', '28-14894-main-01_jpg.rf.d07008497c5e9241b554f8d0002e5f93.jpg', '12-img_cont1_png_jpg.rf.798f43ab58378bd17748c3d81d9635dc.jpg', '83-1220382132_jpg.rf.c8724217bf3dae64cdc16b0c6a203130.jpg', '82-130109_120787_2327_jpg.rf.b975e601b81f60e2711272bdc607d908.jpg', '77-53967827e4fe2430a2c438b0ed4eb329_jpg.rf.fdecd73fd870211cc61197a6f46b482d.jpg', '18-41978_29345_636_jpg.rf.f86f4653bfef98d258fd49aaa2324b78.jpg', '63-egg-1030x1030_jpg.rf.fbabebc4466fdba741c9aff3b85ea6c9.jpg', '32-99-23222843-1_jpg.rf.ab78c54e56160bf1722ab5d303f467e0.jpg', '40-maxresdefault_jpg.rf.824b2af750685c8c87f7c556544200b8.jpg', '23-450px-bean_sprouts_jpg.rf.358187989e30b58dec40ad9e16f49d1e.jpg', '32-102c5fe48d484c5b9f8ed341865a7149_png_jpg.rf.1d46c3953854cc080bbe3b0c6f312842.jpg', '4-5f2e4709200000a2010bd454_jpeg_jpg.rf.ffa6c6a7dc37528c19e5a75bf7ad7051.jpg', '53-img_mkh180702006_0_jpg.rf.75ba0bbd4c598e10fdf0b9129a29b50d.jpg', '53-611416110015738393_1_jpg.rf.5ec35d8070210dedf9dd5e2b32d794ca.jpg', '10-dba5e2inmrhj2df3etdmhyenqu_jpg.rf.409354770951d5074f2b04c632f1741c.jpg', '27--eb-8b-ad-ec-9a-94-eb-a6-ac_jpg.rf.0716f6899b08739c341fe72e966e62e5.jpg', '67-maxresdefault_jpg.rf.761bbdaba1e0748045931c757e4aaa65.jpg', '43-msk_5e903180407f9_jpg.rf.22e763e84d979bf4f521fe86c56d7fe5.jpg', '40-1490_2380_1459_jpg.rf.e42646a26e904768a5977bd33d4d22e4.jpg', 'a--5-_jpg.rf.305ea4a26883b01da32c8ba818015024.jpg', '29-yang-pa-hyo-neung21586765671_jpg.rf.432a62471acb03b118b799917f40fbba.jpg', 'images--8-_jpg.rf.cc1a578e3bdde54ec712254eec825c49.jpg', 'images--9-_jpg.rf.20608580f5a5ddd693fc469bf1984ee9.jpg', '9-art_16171643241189_3d76ef_jpg.rf.22d9a1eaf77a24f15c0c65741d8ed05e.jpg', '77-2018081301540_0_jpg.rf.427acc3f92f9a94bf4e5cdada7803c1b.jpg', '1-18542_4239_4443_jpg.rf.7328edb6e6f6ae79a497443eae9346cb.jpg', '31-dyp_jpg.rf.db011ca43b6c6612e7c8e26eb9a5c179.jpg', '46-img_cont2_png_jpg.rf.de140cd29511b488cc42f7295653aa54.jpg', '77-magazine_img02_jpg.rf.029004595090011cf65f250f515e3437.jpg', '62-671d09256985af6fcd3fb48f6d799dea_jpg.rf.1bf6f2c7eb1b870c6a74efa35639a767.jpg', '14-yh-garlic01_jpg.rf.660366e06a5e45130ce2d1c8d3d3dd5d.jpg', '90-1000005259638_i1_1200_jpg.rf.a1749469706714cd91ec36fc36fb93b2.jpg', '18-14787526584108-1-_jpg.rf.6c64d38f04b44f377799cd8e991e1a14.jpg', '34-109423_61149_2734_jpg.rf.f6444a56cd21176841bd59acff7b2e77.jpg', '58-201909191789098394_20_jpg.rf.a26a48f83752d49d9db977300a4eb30c.jpg', '4-19061_4847_3339_jpg.rf.3dabcc122ae48e706d0d5764308f14ac.jpg', '4-20200211211204-12621_png_jpg.rf.1aae3c1f0b2d147eabf0bd1211aee894.jpg', 'images--3-_jpg.rf.1985b5d7a166e90c778d70194ca591d7.jpg', '66-dmq_jpg.rf.856b9f0cafda45bc3027f7c5e13f6938.jpg', '30-22246_23867_1417_jpg.rf.058363b6568ee5e069f36b81631bcd94.jpg', '13-4232_6514_3819_png_jpg.rf.03536a43bb0297ccb75ac73e2ace4d25.jpg', '42-992acc4b5c2f431c01_jpg.rf.0e1a02c5b77be4d2cc2bfb0b08fcbc6e.jpg', 'images--5-_jpg.rf.165d5cfc6a2bf75b5fd25382b4f05a33.jpg', 'images--10-_jpg.rf.de12ba6e512dcfdd535d5da9506e66ee.jpg', '25-2015062306065648668_3_jpg.rf.8c2757e82ac930b43c206088e5dc6871.jpg', '10-2517860042_front_9kxiaipgpz_jpg.rf.dba981b5579db2b21a7135ffcb8d1c92.jpg', '52--ec-8b-b9-ec-9d-b4--eb-82-9c--ec-96-91-ed-8c-8c_jpg.rf.e6904398d01212bb0091b300e6b4fce9.jpg', 'images--10-_jpg.rf.1013662d88d83c53956a181a3f2d84fe.jpg', '84-10064_20427_523_jpg.rf.a78c8e1f62c839d89e42dbf4d9f7b232.jpg', '62-5649825_1_jpg.rf.aefbf76efe8118e21dc0f4fae01589dc.jpg', '17-image_readtop_2017_381962_14968623052909234_jpg.rf.b6a4a891b464c7e89847ae27d3480999.jpg', '59-ec97bc77c1cd4be08d6267462c247713_jpg.rf.97a2a35937b0e4dff875648f53dba45a.jpg', '14-20180704000106_0_jpg.rf.37684e81fec70490eae58f8c98e642d0.jpg', '87-72394_9690_564_jpg.rf.05dda4ffc58f667f151401a7a472ddfc.jpg', '73-1605687192494_0_jpg.rf.8de83209f2e4afab5934efe290ee0f39.jpg', '58-13810-main-01_jpg.rf.933e74758966ec33edb39fd5ea3252b1.jpg', '28-e7da8515-6f58-4021-a446-42b67b5898b5_jpg.rf.1504adb095e7528b8b6984d45a3de366.jpg', '25-33041_25477_4147_png_jpg.rf.52f834869388ecd8430f9170f10708ef.jpg', '26-3adee9b2e69e4103a12044ed5899f351_jpg.rf.963ae33547304fbadf69109999cf7290.jpg', '41-1000036684949_i1_1200_jpg.rf.9cae26a4a14ca76f2542977113e31e1c.jpg', '46-20200405113105169833_jpg.rf.3ae21c9c939cba4fdbff00001341c96a.jpg', '38-202010291007113938ca52-aebe-4490-b972-ef8ecccf849e_jpg.rf.be9cd2505cf6a926de8d28b513dd0273.jpg', '28-l_2020081401001672500130391_jpg.rf.f6bb5b7e0b08666d5941e9aef85fd7e8.jpg', '79-13415_7041_144_jpg.rf.422aa73944864f010e93b0e18ee93b66.jpg', 'images--1-_jpg.rf.570e84ca916d2989759a816e910c018b.jpg', '76-144110975464_20150902_jpg.rf.f4416c8d359248846ae88f895bd4f888.jpg', '4-1459_2985_4311_jpg.rf.56d948aff82415c78413ff2b405b6d9b.jpg', '61-41048_28678_4017_jpg.rf.670d3d54a75a4e52d225ec8fd2a76cf9.jpg', '72--ec-8a-a4-ed-8c-b8-ed-81-b4-eb-9e-98-ec-8b-9d200_-ec-83-81-ec-84-b8_01_jpg.rf.a35122dbac7ed74d54b3486758950187.jpg', '94-1000024866033_i1_1200_jpg.rf.ee05ce3ea38807adce75297778a7be51.jpg', '56--eb-b0-b1-ea-b9-80-ec-b9-98_-ea-b9-80-ec-b9-98_-ed-8c-8c-ea-b9-80-ec-b9-98-290x290_jpg.rf.b5b8c7158c58e48f48a4531c692dd1e6.jpg', '33-10371870_1_jpg.rf.5a2b9c2a221f53c6c9057456a4e545be.jpg', '70-growingbean_01_jpg.rf.013e04b6a79582d84dedb8760a80cce1.jpg', '35-gv30000159355_1_jpg.rf.fa9dd543ecc40f3bb470deff2fdbe2f1.jpg', '28-7f0ffc70fb4841f68c3b4910559e8a58_png_jpg.rf.a1b61cfac9ab062c57d9edaf569e640f.jpg', '62-_jpg.rf.f06f66dc8a0e4534549fabeaffc7b787.jpg', '67-402402_367898_118_jpg.rf.d2a99bfb5b164627af077dbc361aff7d.jpg', '9-ecddb9f6-fa43-405a-abf9-01f85e4f0484_jpg.rf.a986f79318b192a80518cbe1769b37cb.jpg', '66-3875_12149_4355_png_jpg.rf.1798e7c56b14c2f7a85fff2b1ebc9096.jpg', '29---------_jpg.rf.86bcd85cc69cb66f2497d22f83f92bbb.jpg', '56-19080_17597_5240_jpg.rf.e2c1fd8c859ba3b58fd72786265f23ec.jpg', '31-1000024639502_i1_1200_jpg.rf.50cb76052fe174df436c278356006890.jpg', '25-52_shop1_650699_jpg.rf.b25484bf81f0ee0a604c84c6801764ce.jpg', '4-2017081401636_0_jpg.rf.73a946607230e55004485fabdef68c6a.jpg', '19-bean_5_1_jpg.rf.aebb83ab4b7a80211c43b76cd973ab6d.jpg', '93-32740_22705_352_jpg.rf.ccec42723c73ffb6184cd2189db7b27c.jpg', 'images--9-_jpg.rf.e81da56ba8bf1027375e9ab0b67d8658.jpg', '72-1000043234909_i1_1200_jpg.rf.28b3fcddd107571adef0a06a65136acc.jpg', '79-hk4u4uuzlbt7n4flqnl3qmxpvi_jpg.rf.c1c5ff4dde35c86efb406488827625e5.jpg', '20-_104207307_gettyimages-472093755_jpg.rf.1ee7e9f283e82148a362cb7f2bbb99a3.jpg', '91-739769453_14_jpg.rf.36b384a0da225a3f72bc0f46e5b19261.jpg', '19-5c063ca82400009404583b08_jpeg_jpg.rf.ecc7285e59d301e3011d6d79b04fdd4c.jpg', '34-20201118000228_0_jpg.rf.55d35dc90560194cf65caa3df070ce76.jpg', '30-p_20160906171442_0739494810_jpg.rf.615fe76d7c3cd31906fcd21f9178e179.jpg', '95-994a54495e83eac92c_jpg.rf.47c679b43f48c39b4897de713ebd4789.jpg', '36-1787927076_jpg.rf.dd5e71771c21530e9d1e3eb071415f69.jpg', '5-40497_28315_2311_jpg.rf.db69b0fc953161c492a61e87d8128da0.jpg', '65-1jpplbbsojk1s_jpg.rf.114230c54c8623b078d6a2fd56de0948.jpg', '44-a11200652_jpg.rf.da80e2734a66a9f0b4cb84f8187f8943.jpg', '66-_jpg.rf.5024755fca5c8334a096560385dd49be.jpg', '3--eb-a7-89-ea-b9-80-ec-b9-98_jpg.rf.1b3d55f03a5a5291b7a634b246b62ba6.jpg', '40-56145_59052_3241_jpg.rf.a5a683382625b34d2e9ed691c1892181.jpg', '87-_jpg.rf.bb6b475156df16bfe2068e7145e4c3d4.jpg', '72-0_png_jpg.rf.d3e2c2d483f7bb85c78a74ca2fbd0957.jpg', '83-_600_jpg.rf.33354d53198831eafaeabc68f1e586fa.jpg', '37-18300_3838_2644_jpg.rf.9565a0b59e75eee54c9ced72eca2139f.jpg', '76-182571_34937_3425_jpg.rf.cf57adc7d6f067eabaaf90f272983ee0.jpg', '10-garlic-3419544_1280_jpg.rf.8dcd9eb393db40bdc91b3045e8164016.jpg', '40-story01_img02_png_jpg.rf.1e32593e152136e8f927a1bd6037bbb3.jpg', '79-204754_44448_1312_jpg.rf.3a2edf0201001617320daeb41f9258d4.jpg', '4-13613876_1_jpg.rf.19bca855aac828d3d824012c3ee6da56.jpg', '63-pngtree-green-chinese-onion-png-image_2429599_jpg.rf.c0ae938fc11e8aa59e577210719140f5.jpg', '1-5ylwkgzt3hjjwjfitf7dhcbjdu_jpg.rf.e98a907ff1d7c3db0b56deb28621dbcd.jpg', '49-38a7584904f04c7cb7d4cd57086ce4e1_jpg.rf.267015a0f66e0e44c9de668657a3f044.jpg', '2-l_2019011101001196200095012_jpg.rf.5b911cf5ee991889620d13f493fb8add.jpg', '88-23115e4458f7099a21_jpg.rf.dc16a714e8260b2d7ffdc848e7badb48.jpg', '17-20190405174056437_0_jpg.rf.4751773651a8af5815d07b736d510ed9.jpg', 'images--3-_jpg.rf.09a6a06c59be1f89c5843cb7665ec810.jpg', '85-thumb_l_36d335d0eee25088e1cbd628625c25ab_jpg.rf.1446124c03e7c7e4d6330c8475e4e54f.jpg', '72-45da7b6251364_png_jpg.rf.ef66a65b8cdc31ecc033f21ce0edc843.jpg', '78-htm_2016070413930722912_jpg.rf.b58b47bd4258c1181b49fbd323fd8511.jpg', '42-07001307_1_960_jpg.rf.04f4b6055b1936b1a432180e609c586c.jpg', '83-2020123100051_0_jpg.rf.13c1ad6bef3935b7442a47ee56a508e1.jpg', '95-img_jpg.rf.2d28e7d37b45827763a33fc81cacb994.jpg', '47-5d759832921e8ee63aef3a4896b1b7761_jpg.rf.a1d77a822370f1baaa58a06c1ee3a396.jpg', '79-2019121240123729_jpg.rf.2df898513a23da95ff92512e70502a29.jpg', '84-1d7e9157-e567-4c3c-a45b-efb017d08954_jpg.rf.869588ab01367320b05b76a9571a72b2.jpg', '12-maxresdefault_jpg.rf.52b450c7432ebf61e6d3e5916a617714.jpg', '21-050816003_1_500_jpg.rf.dba246d1a703b272a1316125e16a5a96.jpg', '86-10681_16407_275_png_jpg.rf.36b33d6b35ec521ddde13bc773f8c500.jpg', '91-a11229028_jpg.rf.aadeedea5a8c7a77ed3bd88e93358adc.jpg', '16-fcb42e3b-630d-4418-b215-35c129b72d84_jpg.rf.24733e67b0826df8df43d7ad5429ff7f.jpg', '60-002001000001_jpg.rf.aa4cee390454165da3d0618a12de7513.jpg', '29-s-_15922866660-6187100015922866660_jpg.rf.bbe8f382374e4298a9948bcedc3885fe.jpg', '54-0000006613800_i1_1200_jpg.rf.cd1d842a571af759638e046c468962a6.jpg', '18-030101005_1_500_jpg.rf.fe9985ff2e3e2e18cfeb528c251d6834.jpg', '47-maxresdefault_jpg.rf.9abad4bc0e37e7f06fa9f2f46e84907e.jpg', '9-lars-blankers-b0s3xndk6tw-unsplash-1024x683_jpg.rf.4fdbefa12a96e98803a2d0346d44f00b.jpg', 'images--6-_jpg.rf.64f0a44e2cd694b2201942df27cd1a51.jpg', '4-5590830_1_jpg.rf.e4d2d6fb01067c8fe4dfa6e8562b282a.jpg', '56-2965_4633_5015_jpg.rf.06c4751a9a2c5cc33f32ce67ae698f89.jpg', '33-6414_1194_1756_jpg.rf.1b5ad0b554a712acc2908fdb0f2707ab.jpg', '12-tn-dll_jpg.rf.637330b3a1ef9a524ab50ba862375511.jpg', '81--ec-86-8c-ea-b3-a0-ea-b8-b0_jpg.rf.83a0335a005acf5c14053cef43444b3b.jpg', 'a--8-_jpg.rf.052e762cdfd4ae63b6254ec8b554be98.jpg', '37-img_jpg.rf.05dd33359db518536384d0d2dcffa189.jpg', '24-_jpg.rf.11e1c2405e9a6bf24b483c8955f4d8d0.jpg', '51-1f2cc32066_jpg.rf.d3a9c19370b4ff2778fba1ad96803ef6.jpg', '67-aa-21876315-1-1200x_jpg.rf.2d3fc928c7fa3f4767c5492eb5f2fc82.jpg', '26-ps19112200262_jpg.rf.3d255faabda0bdc8a2b10755b7ed69ea.jpg', 'a--9-_jpg.rf.aaa899bdb18e3906cf3b9c63aa6a7ac9.jpg', '86-4369343_1_jpg.rf.d25b752f56ba09b352895a2c0178c41c.jpg', '15-2019081380100_0_jpg.rf.3effd207526063d89829986f8a037482.jpg', 'images--1-_jpg.rf.90fedb7571b050f0171e73bccb552b2c.jpg', 'images--28-_jpg.rf.8cdc8273ea9d7a70c6e84ff458514095.jpg', '5-2020052216594053137_1590134380_jpg.rf.625474b35a1df84e000cc2b0f345b3f7.jpg', '46-3478910_y8l_jpg.rf.7c8a0a7e4aaa8a61cc6518e177b8d489.jpg', '86-1c138f89b6_jpg.rf.848c714ed12daf0a0e6133f1cdc7dc4e.jpg', '55-1535360125_1841505_jpg.rf.74a501c54b97408ebdc9f280659002c9.jpg', '68-6e618a3741fc375e1b9d851a906d7bcd_jpg.rf.6fe13e1a49741df401e32a3a578e33ea.jpg', '88-art_15380150931672_a0c094_jpg.rf.6348affd64319aebb979fe1f1210157d.jpg', '3-optimize_jpg.rf.73291f06cc778ce4de09e73b61bd3455.jpg', '97-3a83e3e21cc2a612148f65e7d43bb8f7_jpg.rf.09cb9f4a1c06b707e3fbbc0bd3fcb3d4.jpg', '2-18666_4362_814_jpg.rf.c57692d98d895e8cc2f06fdbefa05d11.jpg', '64-2021031001865_0_jpg.rf.68e7cd9c0516fad2e3751edacf9974cc.jpg', '8-2019091923061484_jpg.rf.5fb9dad9672b84d53f098f40e17f6e46.jpg', '87-2a7c3b317fec4b199f2fe226cbc6e1ee_jpg.rf.878cba2d711a1954762f82120d5b3a46.jpg', 'images--23-_jpg.rf.55a3ea5dd9d199a21c79257ebb75e46d.jpg', '74-20191213172221308_jpg.rf.3414541242e0074880a1dfbf5b39cee6.jpg', '45-04380504_1_960_jpg.rf.98c5c8832c8b67b5fb76a3eea77f78c5.jpg', '12-5f016681-3785-4b6a-8815-220df1d43c9d_jpg.rf.fc909249f0338d1d7771e76f310c830a.jpg', '59-15278_3026_1400_jpg.rf.86e7ade28d48942275e2e4875a3b0698.jpg', '14-_jpg.rf.03610bdfe85ee8624f39b44b903b53ef.jpg', '45-moy6beb5cowilbdzizlrvolupq_jpg.rf.9684502db5432b36da9f4209b5c6f4b2.jpg', '13-609ee5a2a4bea63000745b65a63f064a_png_jpg.rf.a12013ab2cb1291485686d121ee1d456.jpg', 'images--34-_jpg.rf.a92083abe6a257b86ba281723c8a234b.jpg', '18-1000013082867_i1_1200_jpg.rf.a0ecccf52010451f2ecb9eaefee7d8b6.jpg', '5-51229_51508_4936_jpg.rf.5bd0af8fc5b33031a4f8557fa8fea8c5.jpg', '61-190823_np_-ec-86-8c-ea-b3-a0-ea-b8-b0-ec-ba-a0-ed-95-91-ec-9a-94-eb-a6-acbest5_-ec-8d-b8-eb-84-a4-ec-9d-bc_png_jpg.rf.b1c6b8440db6a5c2acfdbf748b523952.jpg', '40-getimage_jpg.rf.d17fa87768e73b2846fb221cf7338b45.jpg', '12-l_2016120901001299800104967_jpg.rf.23f100051ba2a9fe346f6169eed2657a.jpg', 'images--5-_jpg.rf.e1e3724adc37ec088945519f3f713dce.jpg', '1-shutterstock_324937694-580x423_jpg.rf.79dde8bb817f74cca798165f7f30cad9.jpg', '13-eggs-are-good-for-your-cholesterol-saag_jpg.rf.821afd884f102a1391479e003e8b237b.jpg', '89-cracked-egg-yolk-eggs-128885-scaled-780x470_jpg.rf.cb2a3657749cfbb26ae4d0835af70a83.jpg', '53-5b0bb64e1a00002700cdfe83_jpeg_jpg.rf.6ad65e472f15b9ed4a7eae907ea56fff.jpg', 'images--4-_jpg.rf.4eba2e6ea1066dda5477e27e8034f77c.jpg', '81-restmb_idxmake-php_jpg.rf.9724cc34b613a6742e5d0639cdb324d7.jpg', 'images--2-_jpg.rf.96620a3136acd03a15a19b108eb1eb8a.jpg', '68-ebd9dd24d6eccb05bcca472802805dfb_png_jpg.rf.f52859e9851cca5a52c8f6961ac34bba.jpg', '60-300px--ea-b9-90-eb-a7-88-eb-8a-98_jpg.rf.51fa2653086b0f6331ad287f58425348.jpg', '84-2019022000904_2_png_jpg.rf.8c28ff487ae7c4ea579942485d446c29.jpg', '36-205083_44443_3553_jpg.rf.6909aab561a92981b38bc9f9e8cc7030.jpg', '34-3097_4843_4731_jpg.rf.12e2c25153bd344ebee05f73913205d2.jpg', '24--ec-b4-9d-ea-b0-81-ea-b9-80-ec-b9-98--ea-b9-80-ec-b9-98-new_jpg.rf.0c19b5d6b8824350d8052fcb2937ed5b.jpg', '73-c25bdbcd03eb46b4ba3480192762a1c1_jpg.rf.7ddb416f32632864aa7a8cfdeebcc7eb.jpg', '95-2120722_562981_5738_jpg.rf.7821587df3b923ab5cc16157bf924dbe.jpg', '40-2449_7244_2949_jpg.rf.5d3a8562f33921f01f1e34e19796b490.jpg', '68-2019100116425493372_1569915775_jpg.rf.eedbca3abcc09bf4f077da0b9719b07e.jpg', '7-100101004_content1_jpg.rf.55d1d7edbfb3fc769826c5b5c8518d99.jpg', '30-18715_4409_2650_jpg.rf.2ae7480c4b08373098756dfdd3c29a48.jpg', '95-325bb63442b5fc4448490f68755add19_jpg.rf.5f21e0fda9cb896df90f383731dc191b.jpg', '23--ec-88-98-ec-9e-85-ea-b9-80-ec-b9-98_png_jpg.rf.74980382389fbfff55972beca5e67910.jpg', '7-1-chicken-breast-576x384_jpg.rf.b5545605ce0665df9dc946a303dcbd71.jpg', '47-171205_-eb-8c-80-ed-8c-8c-ec-9a-94-eb-a6-ac_01_png_jpg.rf.c1451465fa1fe981df345e045bc20671.jpg', '73-13408_24045_1832_jpg.rf.76251ffa9a6d3519ed158e4f02b71069.jpg', '47-c2671b128ccaf67ace72ff198f8fd86d_png_jpg.rf.cdb747e71aa3f2533093fd76e330a078.jpg', '38-c0a8ca3c00000163edefd06c0007252f_p2_jpeg_jpg.rf.b06c0aa4cc0b0538a4be448ac6b5baa8.jpg', '28-4ddc8598f_700x700_95_fit_jpg.rf.0183c510a0257b7cdf33fb9e6be25939.jpg', '41-10435_40206_5456_jpg.rf.b2424466fd9e75cb7a8b9f9d559c3e94.jpg', '77-992e8e475b88874433_jpg.rf.2b95613699587dc23f8dc8070ceb8d75.jpg', '82-0-200550001427682497_jpg.rf.10408019d79cc68f82f77fedb843e69a.jpg', '52-4cbe6efd57604ae6951b64e11d538eb0_jpg.rf.5ab7afe6bba92aed4d6aaf9a630f4c6a.jpg', '63-0548a2dc338c6_png_jpg.rf.b55cf4cf787301be346a07cbc5c6234f.jpg', '5--eb-8b-ac-ea-b1-80_-284-29_jpg.rf.415c92e2e6da6afd36f71520727f2ead.jpg', '86-dd9016dabb523_png_jpg.rf.54ab01937aaa5f7d3c9eee2d029b16f6.jpg', '84-restmb_idxmake-php_jpg.rf.27df693dc25cfa81cc73e8a5bd28130f.jpg', '6-func_img1_1_jpg.rf.b727745c77d0a33e29b8168983a3cb54.jpg', '26-99283c3359a1761922_png_jpg.rf.7bf2978993611272fae558c1993fc524.jpg', '90-5181_2432_5938_jpg.rf.9b183f1816ab4bc6495ee3505365a94d.jpg', 'images--2-_jpg.rf.6d02839ab5aacee721f2364dfec1b8e7.jpg', '19-01345810_1_960_jpg.rf.e2b4c7181cf6bf59b59990849bc32128.jpg', '71-200329_40188_4627_jpg.rf.176b3e5c34ce734499026b18a34b39db.jpg', 'images--31-_jpg.rf.460ebfd67a0c67bd16ce3f59435408fe.jpg', '76-167333_32726_048_jpg.rf.4e1a27a056f1dec351b403e84b7969a9.jpg', '65-ie002547591_std_jpg.rf.9cbb7d795f8c7d62306f5678bb03fdee.jpg', 'images_jpg.rf.13ecdacd357a58eae64c7c4f370472ac.jpg', '74-vh-php_jpg.rf.825a4d5f3df8280f4f433f1f9e3b0564.jpg', '96-ntr160411_01_04_jpg.rf.3b218d838bb1108c7d725ed5d5abdabb.jpg']\n"
          ]
        }
      ]
    },
    {
      "cell_type": "code",
      "source": [
        "img_list_np = []\n",
        "\n",
        "for i  in img_list_jpg:\n",
        "  img = Image.open(image_path + i)\n",
        "  img_array = np.array(img)\n",
        "  img_list_np.append(img_array)\n",
        "  print(i, \"추가 완료 - 구조:\", img_array.shape)\n"
      ],
      "metadata": {
        "id": "Akj4SuQUYpQH",
        "colab": {
          "base_uri": "https://localhost:8080/"
        },
        "outputId": "7c12c86e-9eac-4220-84b4-14c10e223e6e"
      },
      "execution_count": null,
      "outputs": [
        {
          "output_type": "stream",
          "name": "stdout",
          "text": [
            "27-1024-pork1-960x1124_jpg.rf.4bac56f13bdcf4d443d283e83683b5d8.jpg 추가 완료 - 구조: (416, 416, 3)\n",
            "28-1z2rv24zt7_48_jpg.rf.4dbb1600a69a323e0f2d546e6623d3ab.jpg 추가 완료 - 구조: (416, 416, 3)\n",
            "4-2020011702565_0_jpg.rf.4bac4da2eb530c8dd6177022f1dc9ebb.jpg 추가 완료 - 구조: (416, 416, 3)\n",
            "61-thumb_l_c5df1332838192769617e92aeb7c6f06_jpg.rf.ac8634f0c1958e6aabac0ca394d84dd6.jpg 추가 완료 - 구조: (416, 416, 3)\n",
            "images--6-_jpg.rf.4ba5baae522f14fc2f6bbe88db364642.jpg 추가 완료 - 구조: (416, 416, 3)\n",
            "21-pmo-ec-9b-b9-ec-a7-841705_-ec-a0-9c-ec-b2-a0-eb-85-b8-ed-8a-b8_-eb-a7-88-eb-8a-98_jpg.rf.4c2b1352a6069f4f291262d79236c61e.jpg 추가 완료 - 구조: (416, 416, 3)\n",
            "images--4-_jpg.rf.a542c36707e097138d8e41051f383e2d.jpg 추가 완료 - 구조: (416, 416, 3)\n",
            "82-thumb-html_jpg.rf.4d8f74854c51d82a898051b64313fac9.jpg 추가 완료 - 구조: (416, 416, 3)\n",
            "13-3487_4594_520_png_jpg.rf.eea082e9b76acf2c64bd5aca187b683f.jpg 추가 완료 - 구조: (416, 416, 3)\n",
            "60-trans-ssg_jpg.rf.9087795169867efc9b2ee196a0db4c10.jpg 추가 완료 - 구조: (416, 416, 3)\n",
            "50-9707103_1_jpg.rf.080e79cb1a1e762bf45c740a9aafbda7.jpg 추가 완료 - 구조: (416, 416, 3)\n",
            "11-u7ue42cscqo4b75nt2u74p5cra_jpg.rf.daa0bb3ddccf5b3f973bf36b62d228f0.jpg 추가 완료 - 구조: (416, 416, 3)\n",
            "1-shutterstock_139971940_jpg.rf.5e339df661e387235bcce15cd4c98a8f.jpg 추가 완료 - 구조: (416, 416, 3)\n",
            "86--ec-96-91-ed-8c-8c_-eb-b3-b4-ea-b4-80-eb-b0-a9-eb-b2-95002-eb-b0-b1-ec-a2-85-ec-9b-90_jpg.rf.6ef14bf80764ee290a678f284b433d2c.jpg 추가 완료 - 구조: (416, 416, 3)\n",
            "96-0716-png_860_png_jpg.rf.9dc70c9d20ae8e72e6372417168f2594.jpg 추가 완료 - 구조: (416, 416, 3)\n",
            "71-7289_9325_4012_png_jpg.rf.1057a5c9f91311ac6986e60ef10e8c5b.jpg 추가 완료 - 구조: (416, 416, 3)\n",
            "61-img_products_detail_02_jpg.rf.37039fe80f41d4da98b3ff3def1a3bf7.jpg 추가 완료 - 구조: (416, 416, 3)\n",
            "21-1499893725-7495-2_jpg.rf.a294ec26ef4494cb15a0eba99faebc3c.jpg 추가 완료 - 구조: (416, 416, 3)\n",
            "48-2560px--ea-b9-90-eb-a7-88-eb-8a-98_jpg.rf.83ef9d0aba1458453fa05ff83b2051fd.jpg 추가 완료 - 구조: (416, 416, 3)\n",
            "35-1000026794421_i1_1200_jpg.rf.a1ace734aec9540eb1b5bb0c584d4b09.jpg 추가 완료 - 구조: (416, 416, 3)\n",
            "17-2405073a55b8de052f_jpg.rf.daa1c598b7995d6cf5f3dafb12468d82.jpg 추가 완료 - 구조: (416, 416, 3)\n",
            "80-54c50d37d54cec7057dc5bbac93b73ae_jpg.rf.bf5bc30ad82780c73f5e96ca50842230.jpg 추가 완료 - 구조: (416, 416, 3)\n",
            "37-thumbs_2_jpg.rf.da4e325761dffeadcdfa79f71cc31663.jpg 추가 완료 - 구조: (416, 416, 3)\n",
            "86-072---ea-b3-84-eb-9e-80--ec-bd-9c-eb-a0-88-ec-8a-a4-ed-85-8c-eb-a1-a4-1_jpg.rf.266b8125968ac0afc67de21fa88ddff7.jpg 추가 완료 - 구조: (416, 416, 3)\n",
            "61-11_shop1_989376_jpg.rf.31667e4b39f6b5f389ec2ee7fcba374d.jpg 추가 완료 - 구조: (416, 416, 3)\n",
            "6-so-20-3-_jpg.rf.83fa1deef656354cc1a81456bcac8199.jpg 추가 완료 - 구조: (416, 416, 3)\n",
            "20-akr20181121152600030_01_i_p2_jpg.rf.7a3595bb054be270504692040c9fb773.jpg 추가 완료 - 구조: (416, 416, 3)\n",
            "2-tn-dll_jpg.rf.39b5aa8899c802e89930ead810a4f867.jpg 추가 완료 - 구조: (416, 416, 3)\n",
            "95-imageview-aspx_jpg.rf.4f3a4d21dfbaf6adf9665e8d73a8f7f0.jpg 추가 완료 - 구조: (416, 416, 3)\n",
            "78-akr20200513076400056_03_i_jpg.rf.a493edff7323f2ed67d31d05229b926c.jpg 추가 완료 - 구조: (416, 416, 3)\n",
            "98-5ee91fa1220000f52782aba9_jpeg_jpg.rf.e417f7084ee3d46d524fe5c638cdcf41.jpg 추가 완료 - 구조: (416, 416, 3)\n",
            "69-20201230170644267020_jpg.rf.d2e70721fe75e26ff9563e805d02a372.jpg 추가 완료 - 구조: (416, 416, 3)\n",
            "11-main_seed_10_jpg.rf.7e87605cdaa8e0d74626288eae0ab7f9.jpg 추가 완료 - 구조: (416, 416, 3)\n",
            "77-4696471145331f901a2d98af5ae17b53-1920x1280_jpg.rf.37bceca05a40402ea3a518d38612e663.jpg 추가 완료 - 구조: (416, 416, 3)\n",
            "96-1095676733b_l_jpg.rf.7386dcdfec7c0d98e18e59f4a534b2f7.jpg 추가 완료 - 구조: (416, 416, 3)\n",
            "47-a_7565318350_f60ddb3075cf95e0545f44d0b7c05d8c88910f06_jpg.rf.f3f3326d2842a2a9361b15791ed1f71d.jpg 추가 완료 - 구조: (416, 416, 3)\n",
            "53-art_15759842240905_47b76b_jpg.rf.8509f5fa89886f2c88b5a8df6219c862.jpg 추가 완료 - 구조: (416, 416, 3)\n",
            "32-11551_12019_3828_jpg.rf.53e3005d1664a26529f78998ab253427.jpg 추가 완료 - 구조: (416, 416, 3)\n",
            "37-2818368754_summary_adiwvfe7ex_320x320_jpg.rf.0d99389825a6099cdd89f342edb457d7.jpg 추가 완료 - 구조: (416, 416, 3)\n",
            "49-20210315131316314_jpg.rf.3a8d931d833cc6b19d350514fcd78d63.jpg 추가 완료 - 구조: (416, 416, 3)\n",
            "images--6-_jpg.rf.a0146577131cc60a4feaede919bc58f9.jpg 추가 완료 - 구조: (416, 416, 3)\n",
            "71-202103311659081054_t_jpg.rf.1c05cdbb5e251b3fff86ea94ec71e687.jpg 추가 완료 - 구조: (416, 416, 3)\n",
            "73-mv_02_food_png_jpg.rf.9549c3e2b5cc1f8d4ae4c2fdad5172b2.jpg 추가 완료 - 구조: (416, 416, 3)\n",
            "9-994acd3359a1758e24_png_jpg.rf.0603e1dbcf162d1d20ee88b627b65e00.jpg 추가 완료 - 구조: (416, 416, 3)\n",
            "48-199749_454779_3071-580x387_jpg.rf.97ce8dea177034b87b916c808d4901ea.jpg 추가 완료 - 구조: (416, 416, 3)\n",
            "2-img_png_jpg.rf.45352618d5b3292a1b4d27739c659c5c.jpg 추가 완료 - 구조: (416, 416, 3)\n",
            "49-fd7eda91-6f64-4218-af2b-19fd6dc37552_jpg.rf.179efe7df1873e9b957f3dc3fc762c95.jpg 추가 완료 - 구조: (416, 416, 3)\n",
            "5-9933753d5eac0d2117_jpg.rf.20f646ef7594bbc3463e6dc88b71201f.jpg 추가 완료 - 구조: (416, 416, 3)\n",
            "22-617175_211459_1412_jpg.rf.09fcfe67598b1ed1622b2dbbf2e5361d.jpg 추가 완료 - 구조: (416, 416, 3)\n",
            "68-7429624498_l_jpg.rf.1f6128ab261a7f0b9cd42ca71390617c.jpg 추가 완료 - 구조: (416, 416, 3)\n",
            "16-3d0172eb200d45d5b223d3d70aff26d7160430_jpg.rf.23aeda281a88f7d658973e0071c0f06f.jpg 추가 완료 - 구조: (416, 416, 3)\n",
            "26-10712452857886_jpg.rf.e7fdb6b79ae838e9cb4f0299053f8a41.jpg 추가 완료 - 구조: (416, 416, 3)\n",
            "12--ec-96-91-ed-8c-8c_-eb-b3-b8-eb-ac-b8_jpg.rf.caa5deb0e22ea3f2f15a599987939f1b.jpg 추가 완료 - 구조: (416, 416, 3)\n",
            "60-c0053836_489d909e58719_jpg.rf.4f53994e2d6cc35a4ddc23f1830569e9.jpg 추가 완료 - 구조: (416, 416, 3)\n",
            "56-9922b9355c9881cc22_jpg.rf.220f69668418a858f62786763efb7b3e.jpg 추가 완료 - 구조: (416, 416, 3)\n",
            "70-2c77e779b5a5caa8d129a105a34e677a093927_jpg.rf.ed21ff50396455829b9aadea40171f5a.jpg 추가 완료 - 구조: (416, 416, 3)\n",
            "7-99c34a3f5b6d00ab17_jpg.rf.66a223f79e3ef9451daf84b7b639bb06.jpg 추가 완료 - 구조: (416, 416, 3)\n",
            "84-2202597_1_jpg.rf.22b9fb0fec5edb9e0c876c98bddcd640.jpg 추가 완료 - 구조: (416, 416, 3)\n",
            "1--ec-83-9d-eb-8b-ad-ea-b3-a0-ea-b8-b0_jpg.rf.4e744407b72ff3e938a70f6b3f64a964.jpg 추가 완료 - 구조: (416, 416, 3)\n",
            "91-trans-ssg_jpg.rf.8bb4693c011323c7b61c61a32d3252a5.jpg 추가 완료 - 구조: (416, 416, 3)\n",
            "20-_jpg.rf.4f3ea338ef52794e7bb09275187c0ceb.jpg 추가 완료 - 구조: (416, 416, 3)\n",
            "8-280_jpg.rf.8a7635fe20425bf355f2ce4096c08414.jpg 추가 완료 - 구조: (416, 416, 3)\n",
            "17--ef-bb-bf-ec-82-b6-ec-9d-80-ea-b3-84-eb-9e-80_-eb-8b-a4-ec-9d-b4-ec-96-b4-ed-8a-b8_png_jpg.rf.ef18d9442f39c54a172ec642e543a7af.jpg 추가 완료 - 구조: (416, 416, 3)\n",
            "14-221a784d5489810b32_jpg.rf.1f9e402d70b10850428e513ad740e7ae.jpg 추가 완료 - 구조: (416, 416, 3)\n",
            "44-7f71c8b3d4dcade218102ba016b8c4fc1_jpg.rf.ae3e30a470e3ff2010f7f8395d081bc2.jpg 추가 완료 - 구조: (416, 416, 3)\n",
            "images--30-_jpg.rf.d97cf9b6946ab6153a8ade01b4d6c92b.jpg 추가 완료 - 구조: (416, 416, 3)\n",
            "31-1471489907222132_jpg.rf.ad63c65c5f7ee4ec7071dc895a82e03e.jpg 추가 완료 - 구조: (416, 416, 3)\n",
            "70-2019-08-06_-eb-92-b7-ea-b3-a0-ea-b8-b0_-ec-8d-b8-eb-84-a4-ec-9d-bc_jpg.rf.71f078b78138e1f8fd26cc2f4761efd5.jpg 추가 완료 - 구조: (416, 416, 3)\n",
            "1--ea-b3-84-eb-9e-80--eb-8b-a4-ec-9d-b4-ec-96-b4-ed-8a-b8--ec-9d-98--eb-86-80-eb-9d-bc-ec-9a-b4--ed-9a-a8-ea-b3-bc_jpg.rf.8665c8c4050a3b42bdb97a0edb93b3e9.jpg 추가 완료 - 구조: (416, 416, 3)\n",
            "80-400x400_jpg.rf.c1ab3016036768df27d6900f1033298f.jpg 추가 완료 - 구조: (416, 416, 3)\n",
            "images--25-_jpg.rf.e16ef6fde363953305ac87968f8573fc.jpg 추가 완료 - 구조: (416, 416, 3)\n",
            "47-24_shop1_697265_jpg.rf.be260298b053a3e795f348fbb740c8ea.jpg 추가 완료 - 구조: (416, 416, 3)\n",
            "2-foreign202002251052000465438946001_jpg.rf.40292e4e461904b579f389aaa96d4136.jpg 추가 완료 - 구조: (416, 416, 3)\n",
            "89--picture-id505887658_jpg.rf.42a4ced02af5bac7c48d02bde4042601.jpg 추가 완료 - 구조: (416, 416, 3)\n",
            "42--ea-b2-80-ec-9d-80-ec-bd-a9__-ec-bd-a9-eb-82-98-eb-ac-bc_-ed-82-a4-ec-9a-b0-ea-b8-b0_jpg.rf.da84c63e55d2cc50868842dd4e0629f6.jpg 추가 완료 - 구조: (416, 416, 3)\n",
            "52-thumb-2750389328_7zdfak0l_96455729dc48d43000476d9cd40216b8445641c1_1200x675_png_jpg.rf.a6b7b32fef7e854d95cc99d857c7b3c1.jpg 추가 완료 - 구조: (416, 416, 3)\n",
            "14-c7a81fea-3b87-4f2d-a9bf-5c2e922668cc_img_food_kimchi_detail01_jpg.rf.807b546ebd22ccd54dc223f4297e0b86.jpg 추가 완료 - 구조: (416, 416, 3)\n",
            "36-2101068_551836_3922_jpg.rf.30d0090b1fbc755b2e3e73a12cb507b3.jpg 추가 완료 - 구조: (416, 416, 3)\n",
            "54-pork_jpg.rf.a6bfe0405a73d3207750566b2998c66e.jpg 추가 완료 - 구조: (416, 416, 3)\n",
            "41-_png_jpg.rf.56026b93887107cc56757b4d3499f8c5.jpg 추가 완료 - 구조: (416, 416, 3)\n",
            "14-aa-25690012-1_jpg.rf.b4322c3b9bf09adf9c121cf43884ee68.jpg 추가 완료 - 구조: (416, 416, 3)\n",
            "images--36-_jpg.rf.dab117fab98bf65fc559fa73f8ab893d.jpg 추가 완료 - 구조: (416, 416, 3)\n",
            "55-4438d2db962d782d59600022d4ab92ca_1602558108_9292_jpg.rf.317dedbd108e93b7fb0b7eb05cb5e338.jpg 추가 완료 - 구조: (416, 416, 3)\n",
            "78-a59cbc2d153ad67ab3cf1e6449824775_png_jpg.rf.3c4e27f96402c99531f852a3cf4a1148.jpg 추가 완료 - 구조: (416, 416, 3)\n",
            "73-35467_21582_138_jpg.rf.a418a563bf7ddca57ae1299931a3aafc.jpg 추가 완료 - 구조: (416, 416, 3)\n",
            "71-6916_8739_1027_jpg.rf.6333116db325a737bf5e4365e8b3e012.jpg 추가 완료 - 구조: (416, 416, 3)\n",
            "22-600_jpg.rf.90dd1f645436e2ae3e7b3591a7e8c9f4.jpg 추가 완료 - 구조: (416, 416, 3)\n",
            "69-gv30000159350_1_jpg.rf.d3c8e22c5ab4bfc76dcc5562df082e5f.jpg 추가 완료 - 구조: (416, 416, 3)\n",
            "84-image_readtop_2020_671775_15935658024262064_jpg.rf.b4587e95d168e43f99794e5a1da0a63b.jpg 추가 완료 - 구조: (416, 416, 3)\n",
            "26-9706974_1_jpg.rf.31de1eef9de75cf24dff1da98f121ae5.jpg 추가 완료 - 구조: (416, 416, 3)\n",
            "31-thumb_d_65390b023bb5fa177242f48877f1d44b_jpg.rf.a3d510c883451afa2b9b480573f7ed58.jpg 추가 완료 - 구조: (416, 416, 3)\n",
            "35-1ca0958d96_jpg.rf.499f3e127ed3370f507e192dd92e540d.jpg 추가 완료 - 구조: (416, 416, 3)\n",
            "10-egg-white-food-protein-162712_jpeg_jpg.rf.c9d04911c8971d32faff5bad7c295821.jpg 추가 완료 - 구조: (416, 416, 3)\n",
            "56-56285_39477_1622_jpg.rf.e24457758fa34b80dc4bb36b7448748b.jpg 추가 완료 - 구조: (416, 416, 3)\n",
            "36-600_jpg.rf.b0709910708abbc9cd2ca2840ca44d07.jpg 추가 완료 - 구조: (416, 416, 3)\n",
            "images_jpg.rf.121739cddd8e90747d67748238a04614.jpg 추가 완료 - 구조: (416, 416, 3)\n",
            "3-img_png_jpg.rf.d5c686b91677cf6fd6ed6cd620b4512a.jpg 추가 완료 - 구조: (416, 416, 3)\n",
            "17-mmxfglttw47grbhrxpi2qhofca_jpg.rf.bc3f184506a34e066e9b30c47904ab52.jpg 추가 완료 - 구조: (416, 416, 3)\n",
            "3-gettyimages-jv10961134_jpg.rf.61373cbef358182a72561320be751bbe.jpg 추가 완료 - 구조: (416, 416, 3)\n",
            "2-038e7344eb4ec0723f4d1483a0194ceb1_jpg.rf.eea01a21ea2f62a2e737ac7669b2af94.jpg 추가 완료 - 구조: (416, 416, 3)\n",
            "34-66546840--ec-86-8c-ea-b3-a0-ea-b8-b0_jpg.rf.844ac790d077cb6c635dcf6a09d1a2b3.jpg 추가 완료 - 구조: (416, 416, 3)\n",
            "67-201706300462610974_1_jpg.rf.9c27d8077d26e39564652c54b95b901b.jpg 추가 완료 - 구조: (416, 416, 3)\n",
            "57-20191226101051381_jpg.rf.a97d145817f350fbecff1dafb1960546.jpg 추가 완료 - 구조: (416, 416, 3)\n",
            "images--2-_jpg.rf.188589b03d00b0cc90f9137396da2d52.jpg 추가 완료 - 구조: (416, 416, 3)\n",
            "38-5d71e86d3b0000e255d041ab_jpeg_jpg.rf.3ac555e53cfa73880aeb7f998cfae299.jpg 추가 완료 - 구조: (416, 416, 3)\n",
            "22-01_png_jpg.rf.a3c0bddec7bb68af4995414af1257e60.jpg 추가 완료 - 구조: (416, 416, 3)\n",
            "71-bbq-ec-86-8c-ea-b3-a0-ea-b8-b03-ec-a2-85-ec-84-b8-ed-8a-b8_jpg.rf.2ab3a8ab4dcdf0dff9bc6e2f33b3a838.jpg 추가 완료 - 구조: (416, 416, 3)\n",
            "images--8-_jpg.rf.2f756a6987020730b922e58d6e800ecf.jpg 추가 완료 - 구조: (416, 416, 3)\n",
            "59-e72e071679c34d5d89bc0dc294180cd1_780x519_jpg.rf.be51414e4d28533c01adfd38d07b9cc7.jpg 추가 완료 - 구조: (416, 416, 3)\n",
            "72-cateroll1_jpg.rf.0439d315c87fc51a36d03f77e4044b45.jpg 추가 완료 - 구조: (416, 416, 3)\n",
            "18-maxresdefault_jpg.rf.9719657da6394b8ef1bdb5bf21f842df.jpg 추가 완료 - 구조: (416, 416, 3)\n",
            "images--3-_jpg.rf.515d1f10452327bc31c2f300c1abd2e9.jpg 추가 완료 - 구조: (416, 416, 3)\n",
            "85-720x720_jpg.rf.38111baa36d5ee8c54fb09f22c3cfe3b.jpg 추가 완료 - 구조: (416, 416, 3)\n",
            "75-spam03-e1510025222989_png_jpg.rf.1890ced5b413fefa2c0ddc2c022397bc.jpg 추가 완료 - 구조: (416, 416, 3)\n",
            "27-_jpg.rf.797ba9e33316a7e1bde69f6bc233544c.jpg 추가 완료 - 구조: (416, 416, 3)\n",
            "72-_jpg.rf.91fa227288e67a6b5e7a4ef5ab70ff31.jpg 추가 완료 - 구조: (416, 416, 3)\n",
            "35-20180412000278_0_jpg.rf.f0bb8668bcc78ba8a2e4b1542dcd79bb.jpg 추가 완료 - 구조: (416, 416, 3)\n",
            "71-garlic-1_jpg.rf.fa54cff8d1c815fdd900bfabf5f457ab.jpg 추가 완료 - 구조: (416, 416, 3)\n",
            "70-maxresdefault_jpg.rf.dd6177df2cb3a3d3063ac7542c9b28c6.jpg 추가 완료 - 구조: (416, 416, 3)\n",
            "92-spam_b_obj_1_png_jpg.rf.b160c8d9f52b409761321d1b49591115.jpg 추가 완료 - 구조: (416, 416, 3)\n",
            "27-2021032310550444629_1616464504_jpg.rf.716adb32c1cb5403badf9f57c24bcb8f.jpg 추가 완료 - 구조: (416, 416, 3)\n",
            "80-1570160560644_jpg.rf.fbad94c09b367b80966325c98ca66fbf.jpg 추가 완료 - 구조: (416, 416, 3)\n",
            "29-1000040685935_i1_600_jpg.rf.01b053edd24cb8cbcb96d54b40789834.jpg 추가 완료 - 구조: (416, 416, 3)\n",
            "27-2021011510540728152_1610675647_jpg.rf.3a260c59d82c2fbd3535efac082f0dc1.jpg 추가 완료 - 구조: (416, 416, 3)\n",
            "31-13-1_jpg.rf.81621098e2694584852e558c20109589.jpg 추가 완료 - 구조: (416, 416, 3)\n",
            "63-6255102230_l_jpg.rf.c14a5bb790fc6193b43c156ab314c914.jpg 추가 완료 - 구조: (416, 416, 3)\n",
            "1-6b6e035658bac_png_jpg.rf.0718c1b284317e759f70b40abec23a8d.jpg 추가 완료 - 구조: (416, 416, 3)\n",
            "62-920137264ac542ee803498844fbd3588_jpg.rf.8e64594c0aecf254c0382a547c18a7fa.jpg 추가 완료 - 구조: (416, 416, 3)\n",
            "22-6ea5740a1a5d90ce29cf741db018c555_jpg.rf.34e7cd6dde6b886d14bf5414956726eb.jpg 추가 완료 - 구조: (416, 416, 3)\n",
            "11-52225_52957_4551_jpg.rf.779162260407a0a03cf3e1761f770e7b.jpg 추가 완료 - 구조: (416, 416, 3)\n",
            "4-20140801000076_0_jpg.rf.eb24ffc450d72c5d886483c8615419f4.jpg 추가 완료 - 구조: (416, 416, 3)\n",
            "44-7660_9854_2529_jpg.rf.9bc6c0111249f3901729919258d04c5f.jpg 추가 완료 - 구조: (416, 416, 3)\n",
            "79-14261_7977_210_png_jpg.rf.58ec22f4d49dd11d7d49433cb62af738.jpg 추가 완료 - 구조: (416, 416, 3)\n",
            "28-1000012631307_i1_1200_jpg.rf.746fb8b3daabb881551cb0534e2eebb5.jpg 추가 완료 - 구조: (416, 416, 3)\n",
            "53-19038_4819_80_jpg.rf.f80d664a4e23289f130d542479f15d98.jpg 추가 완료 - 구조: (416, 416, 3)\n",
            "8-art_15867403922481_a6e17f_jpg.rf.1674498273e59ab72bdbc688126aa9c4.jpg 추가 완료 - 구조: (416, 416, 3)\n",
            "20-2020101300150_0_jpg.rf.e69464727c3334eeedb1a7e9de991b33.jpg 추가 완료 - 구조: (416, 416, 3)\n",
            "55-5e2feea91f0000f106858c14_jpeg_jpg.rf.50e36903a52717526dc7fa4bd3a1d31e.jpg 추가 완료 - 구조: (416, 416, 3)\n",
            "63-ie002179580_std_jpg.rf.7c2706f1ecbfcf3678f3d7d755bc2d82.jpg 추가 완료 - 구조: (416, 416, 3)\n",
            "34-6555_10318_464_jpg.rf.1c703eb4e6642a768992498f5cd5bb2d.jpg 추가 완료 - 구조: (416, 416, 3)\n",
            "70-lqw6li3x5osyixtugp4xa7qr3u_png_jpg.rf.6510d05bf08529c249a530f78c2c085a.jpg 추가 완료 - 구조: (416, 416, 3)\n",
            "83--ec-8a-ac-eb-9d-bc-ec-9d-b4-eb-93-9c77-2_jpg.rf.6c370fa9da11579d5f9b4a965da8826e.jpg 추가 완료 - 구조: (416, 416, 3)\n",
            "43-99e463375b1a7b3012_png_jpg.rf.b428cf2a01253c47a4667292a869f99f.jpg 추가 완료 - 구조: (416, 416, 3)\n",
            "56-image_readtop_2021_392757_0_120111_jpg.rf.5d807ee6fe6e5334b0ea3293a4d2d612.jpg 추가 완료 - 구조: (416, 416, 3)\n",
            "42-2273643c58b434c219_jpg.rf.bfd9c5569d1c03d03fbd0e9fd0a9a126.jpg 추가 완료 - 구조: (416, 416, 3)\n",
            "55-7c6923bb9d821_png_jpg.rf.0530993c02317c2cacb01e77c2237007.jpg 추가 완료 - 구조: (416, 416, 3)\n",
            "25-akr20200610051100063_01_i_jpg.rf.2799c525d6b608c753cff0e68f82abe2.jpg 추가 완료 - 구조: (416, 416, 3)\n",
            "33-29033_10876_3551_jpg.rf.56c90fd3c5af30cefda67e0c4b8b18ab.jpg 추가 완료 - 구조: (416, 416, 3)\n",
            "32-2020112502010_0_jpg.rf.e700095ed8d6eb086bcbf522c7b22387.jpg 추가 완료 - 구조: (416, 416, 3)\n",
            "19-202004231500779914_1_jpg.rf.b0d4aaf1f8e01599e8d8e3a816f4b586.jpg 추가 완료 - 구조: (416, 416, 3)\n",
            "30-maxresdefault_jpg.rf.6ca95f3757d179d37bffb7bb5057f0e9.jpg 추가 완료 - 구조: (416, 416, 3)\n",
            "64-8ddc24a678002c8e3f74767d185a1581_1580190445_1994_jpg.rf.a848a609fbcbdcb20efca327ec33b4b1.jpg 추가 완료 - 구조: (416, 416, 3)\n",
            "50--eb-af-b8-ea-b5-ad-ec-82-b0--ec-86-8c-ea-b3-a0-ea-b8-b0--ec-97-91-ec-85-80-eb-b9-84-ed-94-84-771x514_jpg.rf.9f46d1684def1cc22333885fea3e0e89.jpg 추가 완료 - 구조: (416, 416, 3)\n",
            "52-45334f5b85c43f87c2571a6e0bc7a8df_png_jpg.rf.218e6698855e10edc9a953a71e6b4120.jpg 추가 완료 - 구조: (416, 416, 3)\n",
            "images--33-_jpg.rf.a224b23af8ea1252162b582c753b0698.jpg 추가 완료 - 구조: (416, 416, 3)\n",
            "93-720x720_jpg.rf.f6a32362917e0a454d989ffdcbf37161.jpg 추가 완료 - 구조: (416, 416, 3)\n",
            "66-1000030532881_i1_1200_jpg.rf.4bb5647737c3dd61905ee36b48155965.jpg 추가 완료 - 구조: (416, 416, 3)\n",
            "91-maxresdefault_jpg.rf.cf9d50dcc812561e5da524300b9b433d.jpg 추가 완료 - 구조: (416, 416, 3)\n",
            "69-7095_10684_010_jpg.rf.b54a16d3c7677a4b68024f105d7df3aa.jpg 추가 완료 - 구조: (416, 416, 3)\n",
            "90-pcm20191201000022030_p2_jpg.rf.20b5e35693e4457e939934b88fd93957.jpg 추가 완료 - 구조: (416, 416, 3)\n",
            "96-p_1-2877-29_jpg.rf.5d81fd12e424639ddedf827bef2765b0.jpg 추가 완료 - 구조: (416, 416, 3)\n",
            "59-8fe73e11cd6587c5036bf343b5f7a2b3_jpg.rf.aad76344d3e53b0ab8202df334cdd15c.jpg 추가 완료 - 구조: (416, 416, 3)\n",
            "17-_png_jpg.rf.9ada0f1f1345d98c9e2e40baf2faa857.jpg 추가 완료 - 구조: (416, 416, 3)\n",
            "29-l_2021031901002260500193131_jpg.rf.c1e8e498df7c81fd58fa970dc0a6851b.jpg 추가 완료 - 구조: (416, 416, 3)\n",
            "86-1000034080935_i1_1200_jpg.rf.f95ba860ff496fb15b6ac63443e0c8bd.jpg 추가 완료 - 구조: (416, 416, 3)\n",
            "61-img_mkh200227004_0_jpg.rf.2c2433749e65ce2a8e5512cd23b9e2a3.jpg 추가 완료 - 구조: (416, 416, 3)\n",
            "48-thumb_d_8b96d5ce3fee8e7201f467b143a28c88_jpg.rf.33903a1f6ce2eaa1d4ee6e6e1d92087d.jpg 추가 완료 - 구조: (416, 416, 3)\n",
            "13-art_15640632817329_c8607d_jpg.rf.14feed6ed7b71d39a15a4a15f626e777.jpg 추가 완료 - 구조: (416, 416, 3)\n",
            "36-20180418155146568624_0_1100_825_jpg.rf.b779c157eeceb8abf301f7251886b5af.jpg 추가 완료 - 구조: (416, 416, 3)\n",
            "12-17332_3510_1310_jpg.rf.1e4e8f56bffdf61a56cf4e1cfaf29f06.jpg 추가 완료 - 구조: (416, 416, 3)\n",
            "49-8410_8724_5356_jpg.rf.56c7e7b0eac7e5da74e229db076cd074.jpg 추가 완료 - 구조: (416, 416, 3)\n",
            "62-600_jpg.rf.844bc7a8e0f7a93806048a1a753daa64.jpg 추가 완료 - 구조: (416, 416, 3)\n",
            "38-_jpg.rf.9e45db235652fbefb7d189317266ed4b.jpg 추가 완료 - 구조: (416, 416, 3)\n",
            "82-7f33a65ccb541746f204ae0a505fc3a8_jpg.rf.ee3e5fcde8e1c8e43a4c3f48d8d7cb2b.jpg 추가 완료 - 구조: (416, 416, 3)\n",
            "97-14064_25002_3933_jpg.rf.a3220e80729c869820737a78c2574bec.jpg 추가 완료 - 구조: (416, 416, 3)\n",
            "13-198ea2c571_jpg.rf.8af3fafe60a5aa90f475dc5f7311bf69.jpg 추가 완료 - 구조: (416, 416, 3)\n",
            "a--12-_jpg.rf.7e6f1e0a8dcdd6956bc2d0c71391538e.jpg 추가 완료 - 구조: (416, 416, 3)\n",
            "58-500_671130_1612508242_jpeg_jpg.rf.537701bcf4d116c6a2ed50d15b61f07a.jpg 추가 완료 - 구조: (416, 416, 3)\n",
            "20-2019022502720_0_jpg.rf.b81b0c3c3914227ab7d18b54f6781478.jpg 추가 완료 - 구조: (416, 416, 3)\n",
            "7-18705_4399_5316_jpg.rf.9cde2c105d4dbbcf364192da7488e1c2.jpg 추가 완료 - 구조: (416, 416, 3)\n",
            "8-thumb_d_cdc14868821ff3f20c77bc8bc15e6355_jpg.rf.0856f4f6017602118038718aca8bd4b3.jpg 추가 완료 - 구조: (416, 416, 3)\n",
            "26-2019012901505_0_jpg.rf.95cb3f441468705f122edecb0bedc8e9.jpg 추가 완료 - 구조: (416, 416, 3)\n",
            "6-1492_2385_3537_jpg.rf.2c62a11239d463c61f22222e4e81792a.jpg 추가 완료 - 구조: (416, 416, 3)\n",
            "41-maxresdefault_jpg.rf.40acecb7bc8467cd9a9097335f4a3a9f.jpg 추가 완료 - 구조: (416, 416, 3)\n",
            "5-1006210_1_jpg.rf.4e791b9deac326711c7fbc12dd72f4d1.jpg 추가 완료 - 구조: (416, 416, 3)\n",
            "90-jv10927908_jpg.rf.53eab67c6c15b03e245854d641567547.jpg 추가 완료 - 구조: (416, 416, 3)\n",
            "58-_jpg.rf.b09b725c232e29354c1ac440454fc3d2.jpg 추가 완료 - 구조: (416, 416, 3)\n",
            "21-1104082_3754_143_jpg.rf.e0f7e800098bcc3b3cfa7159a194318a.jpg 추가 완료 - 구조: (416, 416, 3)\n",
            "38-202101221328409856_0_jpg.rf.c02fe2df048f835bd6094a30ec599e12.jpg 추가 완료 - 구조: (416, 416, 3)\n",
            "51-ps20030100143_jpg.rf.3699ea43f27655b23a849b09da46cc38.jpg 추가 완료 - 구조: (416, 416, 3)\n",
            "23-1baebad376_jpg.rf.ccc686f8dbf7b99991a2b84b5b4d8c5d.jpg 추가 완료 - 구조: (416, 416, 3)\n",
            "76-1b9e5f3dbd6d4f0994e62e6505ff857b_780x519_jpg.rf.285d31b43b2f9de5146681ca1e60db8f.jpg 추가 완료 - 구조: (416, 416, 3)\n",
            "images_jpg.rf.7aec59338e01475291e36ca13417f3c9.jpg 추가 완료 - 구조: (416, 416, 3)\n",
            "50--ec-a0-9c-ec-b2-a0-eb-a8-b9-ea-b1-b0-eb-a6-ac_-eb-a7-88-eb-8a-98_02_png_jpg.rf.08d3a55b7934a5ac5a1a41c973fc1dc3.jpg 추가 완료 - 구조: (416, 416, 3)\n",
            "54-93958d7f-0a11-4f14-aef3-27a937ba1393_jpg.rf.fbfd4bb83f06fd0dd954ab8bc0e401d2.jpg 추가 완료 - 구조: (416, 416, 3)\n",
            "23-thumb_l_7246af28acfcc1ff07b2121a85014138_jpg.rf.02e916de8a21a08c5d22fa3433b8927b.jpg 추가 완료 - 구조: (416, 416, 3)\n",
            "67-15417_11307_370_jpg.rf.a244b87cc6ca6ab9d1c0adcb100f7b38.jpg 추가 완료 - 구조: (416, 416, 3)\n",
            "30-001001000001_jpg.rf.778a56f4ba3b735d23c16e01e07eb05a.jpg 추가 완료 - 구조: (416, 416, 3)\n",
            "a--3-_jpg.rf.692f767846f7081aa672e1b63044e14c.jpg 추가 완료 - 구조: (416, 416, 3)\n",
            "93-thumb-2039967777_vvb1az92_92e6e68ae031dbb41f874c44db1264346ad30d34_600x400_jpg.rf.b37df854488136e9bf59a627c20c2988.jpg 추가 완료 - 구조: (416, 416, 3)\n",
            "25-optimize_jpg.rf.1a311e3457777b619be3cc4eddc1e244.jpg 추가 완료 - 구조: (416, 416, 3)\n",
            "a--4-_jpg.rf.a93384148abec8a25b448e8e01369c97.jpg 추가 완료 - 구조: (416, 416, 3)\n",
            "46-280_jpg.rf.fb8fe6da61d451afc8e4c259c265c684.jpg 추가 완료 - 구조: (416, 416, 3)\n",
            "19-1b83d2dce6_jpg.rf.c7916b5afdd2c8b5695999a97f2b088e.jpg 추가 완료 - 구조: (416, 416, 3)\n",
            "55-50382634--ec-86-8c-ea-b3-a0-ea-b8-b0_jpg.rf.df29937ad1c5d245afaf835aedbcc306.jpg 추가 완료 - 구조: (416, 416, 3)\n",
            "5-1a48287666_jpg.rf.ccd0951ab102002c73481dde36956ec3.jpg 추가 완료 - 구조: (416, 416, 3)\n",
            "67-65_jpg.rf.e5a4deb0ee57e2f2dde6278263d16dda.jpg 추가 완료 - 구조: (416, 416, 3)\n",
            "24-20210315131321169_jpg.rf.d599f2a5d65e0ff596e16b8df0340353.jpg 추가 완료 - 구조: (416, 416, 3)\n",
            "88-faa8563d-ff79-4ad0-94d3-8c3baa824d96_jpg.rf.fc72b0b0b22c70e24b71b5c47c43bc3c.jpg 추가 완료 - 구조: (416, 416, 3)\n",
            "43-l_2020021001000000000078091_jpg.rf.3bbb72d07c9cb7ffe73a87c1d594ca34.jpg 추가 완료 - 구조: (416, 416, 3)\n",
            "a--2-_jpg.rf.3caa00bdc0ed1fe51283989a89792330.jpg 추가 완료 - 구조: (416, 416, 3)\n",
            "54-2400000018773_jpg.rf.01f1eddc3d0d6dacbcfe9a73407c717d.jpg 추가 완료 - 구조: (416, 416, 3)\n",
            "66-48_shop1_322311_jpg.rf.b117995a83a2513be9bf1a59bb702254.jpg 추가 완료 - 구조: (416, 416, 3)\n",
            "54--picture-id505890642_jpg.rf.59e0dc92cbb3992fd319c0c11b98f918.jpg 추가 완료 - 구조: (416, 416, 3)\n",
            "75-trans-ssg_jpg.rf.1cd19d95774e375f3c033babed4623a5.jpg 추가 완료 - 구조: (416, 416, 3)\n",
            "images--20-_jpg.rf.2ac1e8084a04053c83c93978ca22e9b5.jpg 추가 완료 - 구조: (416, 416, 3)\n",
            "47-99-21115115-1_jpg.rf.02231b955b42257821dd55c679f16dd8.jpg 추가 완료 - 구조: (416, 416, 3)\n",
            "28-39241_27277_4351_jpg.rf.94911d0262872fa2d246e6caf3856292.jpg 추가 완료 - 구조: (416, 416, 3)\n",
            "images--15-_jpg.rf.942b9dfe76307b5090335c3bec7303cd.jpg 추가 완료 - 구조: (416, 416, 3)\n",
            "11-htm_2015062916244a010a012_jpg.rf.5d0548b1e8076eb50aa42138ebd7499c.jpg 추가 완료 - 구조: (416, 416, 3)\n",
            "70-20170511kerrrr_jpg.rf.57355756ae9729d1eb0938eea3b066bc.jpg 추가 완료 - 구조: (416, 416, 3)\n",
            "42-1014572_445498_0115_jpg.rf.8c4b4f359b7263c1901bd298af371d78.jpg 추가 완료 - 구조: (416, 416, 3)\n",
            "19-2019110708106019_jpg.rf.d865fecb335d669005b0dece6c1ff25d.jpg 추가 완료 - 구조: (416, 416, 3)\n",
            "88-pixta_47414072_m-1024x754-1_jpg.rf.4f3901ed86902b3b276f31625c021900.jpg 추가 완료 - 구조: (416, 416, 3)\n",
            "3-27564_16786_496_jpg.rf.e946c6c665bb1c3eec3f43927fee4858.jpg 추가 완료 - 구조: (416, 416, 3)\n",
            "45-887b0313-0896-4863-8112-d40b0f46ac58_jpg.rf.a47bcb5fae4d817304a671d8581c5fcc.jpg 추가 완료 - 구조: (416, 416, 3)\n",
            "72-d016cb04ec26f4509be92298b8ac5826_jpg.rf.7709460434fd52230a9aba9f9d84684f.jpg 추가 완료 - 구조: (416, 416, 3)\n",
            "images--13-_jpg.rf.cb706b528680707bc9e8c3128efd4f44.jpg 추가 완료 - 구조: (416, 416, 3)\n",
            "14-11082204_1_jpg.rf.f225ff73151388d415238df1c1297234.jpg 추가 완료 - 구조: (416, 416, 3)\n",
            "68-3554238800_20201124084104_8189450997_jpg.rf.f4dc09868a2b9dedab2237ab580b945c.jpg 추가 완료 - 구조: (416, 416, 3)\n",
            "41-_jpg.rf.eadf8f319237c225a4cc38ea559ebb75.jpg 추가 완료 - 구조: (416, 416, 3)\n",
            "48-img_jpg.rf.771f68cecd9e058a66b9ee531182974e.jpg 추가 완료 - 구조: (416, 416, 3)\n",
            "55-daepa_16-1--3-_jpg.rf.7c2c5c3c397f8406a2ddd0ba7922ed0a.jpg 추가 완료 - 구조: (416, 416, 3)\n",
            "49-01208542_jpg.rf.e737242121693e90a167260ad4b0f44e.jpg 추가 완료 - 구조: (416, 416, 3)\n",
            "75-73_7910926108_r_jpg.rf.54a719ee1692ab2b928fcdf1b24cf041.jpg 추가 완료 - 구조: (416, 416, 3)\n",
            "96-8f00932a7e089ee0ff284031bc05185f1_jpg.rf.6011054c556dceb160d9d4ed829f1194.jpg 추가 완료 - 구조: (416, 416, 3)\n",
            "90-1497956121347s0_jpg.rf.6b23ad4d1dd3fc1c5e7c76ef202b8bef.jpg 추가 완료 - 구조: (416, 416, 3)\n",
            "q_jpg.rf.8b960414e26cafde9274580b2aa33b60.jpg 추가 완료 - 구조: (416, 416, 3)\n",
            "32-wr4vlltz7ryljqp5acjvohzqdy_jpg.rf.63fabd6b68af97e4a45ea5d3a745b74b.jpg 추가 완료 - 구조: (416, 416, 3)\n",
            "43-_jpg.rf.c24949432b448fed8b1b9e7e4deae38a.jpg 추가 완료 - 구조: (416, 416, 3)\n",
            "24-5845ce499ece43ca9e6df46f052eff83_jpg.rf.169802078c81ed4cc04d1b2072693bbe.jpg 추가 완료 - 구조: (416, 416, 3)\n",
            "29-1719_1697_3329_jpg.rf.621f43a3fd0aad383863b62debf4141c.jpg 추가 완료 - 구조: (416, 416, 3)\n",
            "25-250px-ayam_kampung_free_range_chicken_meat_indonesia_jpg.rf.1678188e9eacca6f5e5916791d4ef413.jpg 추가 완료 - 구조: (416, 416, 3)\n",
            "13-img_jpg.rf.cddbaaaf3faddea02982837eabcc6945.jpg 추가 완료 - 구조: (416, 416, 3)\n",
            "97-11714_12027_3027_jpg.rf.63df65e083fb89e8f62223a695cd2689.jpg 추가 완료 - 구조: (416, 416, 3)\n",
            "50-12680899002398_jpg.rf.a43e820db70a0c960efef965b373feff.jpg 추가 완료 - 구조: (416, 416, 3)\n",
            "42-87713_113344_5231_jpg.rf.bf30b42a9ab92d4fd383190db6b0b66c.jpg 추가 완료 - 구조: (416, 416, 3)\n",
            "63-64760_35628_2736_png_jpg.rf.e4a0dc60c2e2504d557c37ec92cfe008.jpg 추가 완료 - 구조: (416, 416, 3)\n",
            "57-202004281693369419_3_jpg.rf.842a577fda4fe57e70af160db0f74f42.jpg 추가 완료 - 구조: (416, 416, 3)\n",
            "images--35-_jpg.rf.f8c926fa3f7fd79dc94c3b660f691179.jpg 추가 완료 - 구조: (416, 416, 3)\n",
            "14-202101221405011333_t_jpg.rf.9653a47acb16827479927139cbcf3cb2.jpg 추가 완료 - 구조: (416, 416, 3)\n",
            "94-996569375c7f7b101a_jpg.rf.0481ec95067caf9fefa21f6fb1e06ab5.jpg 추가 완료 - 구조: (416, 416, 3)\n",
            "46-86297826-1_jpg.rf.0365483b23bed39978b6a6a5d3974a59.jpg 추가 완료 - 구조: (416, 416, 3)\n",
            "74-art_15890195946332_705484_jpg.rf.040c626663278ebd3f33e633936532a3.jpg 추가 완료 - 구조: (416, 416, 3)\n",
            "32-2020060618344287179_jpg.rf.99de278e1db7c95656f7e464955ba57f.jpg 추가 완료 - 구조: (416, 416, 3)\n",
            "92-050816001_2_500_jpg.rf.bc5045a01a4b05c00a705eedd7d9d3aa.jpg 추가 완료 - 구조: (416, 416, 3)\n",
            "59-5544bedaaf0a532d294e01d325529774_jpg.rf.e0f078c2b2b559d0e085cfa5a282c377.jpg 추가 완료 - 구조: (416, 416, 3)\n",
            "images--22-_jpg.rf.63ed7dbbcab19377025d2e3983d99d97.jpg 추가 완료 - 구조: (416, 416, 3)\n",
            "65-02_jpg.rf.130761cfd87f2140589b1074e85706f0.jpg 추가 완료 - 구조: (416, 416, 3)\n",
            "74-2020022834065230_jpg.rf.527e5c991ca744712bd100acfdbf7ce1.jpg 추가 완료 - 구조: (416, 416, 3)\n",
            "92-45237-417638-samplem_jpg.rf.1ec1af347e25d81c54459c2fad17c676.jpg 추가 완료 - 구조: (416, 416, 3)\n",
            "3-art_15960026529023_216045_jpg.rf.eb65ffa113cb7a3db9efaa50a479a58b.jpg 추가 완료 - 구조: (416, 416, 3)\n",
            "89-2039633584_0_jpg.rf.88a8b397acec0a916fb1b5e6fe2cb564.jpg 추가 완료 - 구조: (416, 416, 3)\n",
            "17-_jpg.rf.46decbd704eb7bb5143c91f076b4afac.jpg 추가 완료 - 구조: (416, 416, 3)\n",
            "57-280_jpg.rf.aba4c6a1312f6ae2b95508a30ef0c4ad.jpg 추가 완료 - 구조: (416, 416, 3)\n",
            "6-35271_29569_5121_jpg.rf.5a4bcc2bac4a1032a5aa517429d9a6bf.jpg 추가 완료 - 구조: (416, 416, 3)\n",
            "58-l20201216-22016004713i1_jpg.rf.58d7052700150dfaae0cc82df5a0f615.jpg 추가 완료 - 구조: (416, 416, 3)\n",
            "79-img_jpg.rf.ea8cbd706ab56dece78c08102de0aff7.jpg 추가 완료 - 구조: (416, 416, 3)\n",
            "37-4b3b0df7339e7e4029b2db0b805b3611_crop_jpg.rf.84a1219a604a0d168e7c8c37742b4045.jpg 추가 완료 - 구조: (416, 416, 3)\n",
            "52-33079_22703_3426_jpg.rf.dad334a5e4cd9799891e6aab849fbd43.jpg 추가 완료 - 구조: (416, 416, 3)\n",
            "71-img_jpg.rf.1954df6bfdac9f21a57c4ea2f7eb7205.jpg 추가 완료 - 구조: (416, 416, 3)\n",
            "33-99bfd23c5b723d582a_jpg.rf.90504972b60ad8962df85640cda7c124.jpg 추가 완료 - 구조: (416, 416, 3)\n",
            "26-_jpg.rf.11adc8b1fec2a662ecb28047d7864593.jpg 추가 완료 - 구조: (416, 416, 3)\n",
            "65-13775-main-01_jpg.rf.77660ae1d5ad47d706ddfba02b71c602.jpg 추가 완료 - 구조: (416, 416, 3)\n",
            "80-img1_png_jpg.rf.62a04e8ec14a44d089cae008776b245c.jpg 추가 완료 - 구조: (416, 416, 3)\n",
            "70-main_section_1_img1_jpg.rf.a5a8467022a9cdc4448d9c4c79aa32e0.jpg 추가 완료 - 구조: (416, 416, 3)\n",
            "51-32409735--ed-99-94-ec-9d-b4-ed-8a-b8--ec-bd-a9-eb-82-98-eb-ac-bc_jpg.rf.73e5c3bf293fa20c00c43cb2b4fc3d84.jpg 추가 완료 - 구조: (416, 416, 3)\n",
            "92-maxresdefault_jpg.rf.f6b0c9442eedb1d105f4f088e496310f.jpg 추가 완료 - 구조: (416, 416, 3)\n",
            "77-1480037772289_jpg.rf.c0424b647fd793bb1c14614e3473078a.jpg 추가 완료 - 구조: (416, 416, 3)\n",
            "16-1616132123214_0_jpg.rf.8817174ce48f860e5f8d9a104ec18e1f.jpg 추가 완료 - 구조: (416, 416, 3)\n",
            "60-e12cbd291cc42c82c5b8f04fe8621f71_jpg.rf.d0d09ac6f7521a3292ed70a0e9fb7817.jpg 추가 완료 - 구조: (416, 416, 3)\n",
            "images--10-_jpg.rf.ece05b5d46d8713ebd759cb9960a7d37.jpg 추가 완료 - 구조: (416, 416, 3)\n",
            "88-121890_122943_3859_jpg.rf.2fe53e347ca6f247fa990a41e9d40237.jpg 추가 완료 - 구조: (416, 416, 3)\n",
            "31-jv10922130_jpg.rf.06501277ce973d3fe5ccbfff264febe1.jpg 추가 완료 - 구조: (416, 416, 3)\n",
            "67-maxresdefault_jpg.rf.5561cb2fc9f273172ec2948a36ef137d.jpg 추가 완료 - 구조: (416, 416, 3)\n",
            "63-bcut_dsc02530-1_jpg.rf.9a4bf72ec0da474221c4ee689cbc9783.jpg 추가 완료 - 구조: (416, 416, 3)\n",
            "17-51570_8389_3723_jpg.rf.e09fecad284c0e6192e3d39f611add77.jpg 추가 완료 - 구조: (416, 416, 3)\n",
            "64-2017042702088_0_jpg.rf.be411500cc6ffbf23b1c058bb6b2358b.jpg 추가 완료 - 구조: (416, 416, 3)\n",
            "21-1000034998636_i1_1200_jpg.rf.99fa4841f415b8bf516dd65c2d9d1372.jpg 추가 완료 - 구조: (416, 416, 3)\n",
            "39-1411260330565_1_jpg.rf.d099537667a20a3182985889b8db1ae4.jpg 추가 완료 - 구조: (416, 416, 3)\n",
            "56--ea-b9-90-eb-8c-80-ed-8c-8c_jpg.rf.e223eb3b685cb8a86d8593bffda4095c.jpg 추가 완료 - 구조: (416, 416, 3)\n",
            "51-868f7f0441e295505481930146c089f2_jpg.rf.9c90740e40beaab4572eb692ed615774.jpg 추가 완료 - 구조: (416, 416, 3)\n",
            "37-37696_26230_2053_jpg.rf.75b19992fd45612104fab3ef7866f3f0.jpg 추가 완료 - 구조: (416, 416, 3)\n",
            "73-2878064218_front_xjanhndnle_jpg.rf.daee9e8238d37d28e8c386c3e483a702.jpg 추가 완료 - 구조: (416, 416, 3)\n",
            "36-6174746163686d656e742fecbda9eb8298ebacbc2f6b6e6d5f30303030303030303030303030303030302e6a7067_jpg.rf.f5fb8401cbde5d89467937d6f23a8081.jpg 추가 완료 - 구조: (416, 416, 3)\n",
            "84-maxresdefault_jpg.rf.026b311bed190e3386c33627b1e6ab23.jpg 추가 완료 - 구조: (416, 416, 3)\n",
            "51-20181212_3934795_1544579250_png_jpg.rf.d92596faee770a3e5608ffbee2ddee3d.jpg 추가 완료 - 구조: (416, 416, 3)\n",
            "images--12-_jpg.rf.bdef37e25d08f15b2f2a4470e567f507.jpg 추가 완료 - 구조: (416, 416, 3)\n",
            "7-188833_250326_1055_jpg.rf.71fda3b4ab8af2092b5af5d25cec1785.jpg 추가 완료 - 구조: (416, 416, 3)\n",
            "92-9955b2455c4a8adc34_jpg.rf.90946e49210be8ff972b92def4f1114a.jpg 추가 완료 - 구조: (416, 416, 3)\n",
            "52--ea-b9-80-ec-b9-98_03_jpg.rf.98bbf627913e464d978a88c6536f51ff.jpg 추가 완료 - 구조: (416, 416, 3)\n",
            "85-e1d38d22a01a5f11619e141e089f66cb1_jpg.rf.1985625827fcbd72da41432c0d83b425.jpg 추가 완료 - 구조: (416, 416, 3)\n",
            "80-720x720_jpg.rf.f10cbdf52ff853a57453c8053c57780a.jpg 추가 완료 - 구조: (416, 416, 3)\n",
            "15-_jpg.rf.fa0ae6a004cb0817d1d9ea7b036f6297.jpg 추가 완료 - 구조: (416, 416, 3)\n",
            "42-0000007058780_i1_1200_jpg.rf.7457549bac91a03b8ce6ea18cdaec29d.jpg 추가 완료 - 구조: (416, 416, 3)\n",
            "72-img_jpg.rf.cebcfa43396bfba33e4e38f764490323.jpg 추가 완료 - 구조: (416, 416, 3)\n",
            "68-1621315099553_gettyimages-1227077191_jpg.rf.60d3666553aa148e503ada2bb2d7a95f.jpg 추가 완료 - 구조: (416, 416, 3)\n",
            "75--eb-a7-88-eb-8a-98_png_jpg.rf.f7385e5be9a73b46d47207c260c246c9.jpg 추가 완료 - 구조: (416, 416, 3)\n",
            "85-yher4tid4rep7dsltcxsnmbbmq_png_jpg.rf.f8ee77bd3124171e34a8df61991a76f9.jpg 추가 완료 - 구조: (416, 416, 3)\n",
            "73-200px-spam_2_jpg.rf.05be9b3dc2c4104dd770d52f4a41c5ac.jpg 추가 완료 - 구조: (416, 416, 3)\n",
            "61-_png_jpg.rf.890c97c94332b0a355ff782051618fa8.jpg 추가 완료 - 구조: (416, 416, 3)\n",
            "74-050816001_4_500_jpg.rf.7ecf385ab62336a69e6896b0ffab3dbc.jpg 추가 완료 - 구조: (416, 416, 3)\n",
            "23-225_jpg.rf.802c9d2a1880c4b78ebaebeeab14e936.jpg 추가 완료 - 구조: (416, 416, 3)\n",
            "89-12247_18629_4358_jpg.rf.c591a03a7549c354de2d79e60b2d1251.jpg 추가 완료 - 구조: (416, 416, 3)\n",
            "58-61279_18349_2231_jpg.rf.fb0922138081cf92e1e7b353ad1ef30b.jpg 추가 완료 - 구조: (416, 416, 3)\n",
            "10-2020100602170_0_jpg.rf.89e54ee85d96192b605be5fdde631a99.jpg 추가 완료 - 구조: (416, 416, 3)\n",
            "23-6031_4685_3251_jpg.rf.4873c9712ad7fc9a64c9be111663742d.jpg 추가 완료 - 구조: (416, 416, 3)\n",
            "64-_jpg.rf.6357e23ab72353cb5f08392cae268056.jpg 추가 완료 - 구조: (416, 416, 3)\n",
            "36-img_food_kimchi1_1_jpg.rf.c33708479d48288426417f8b99ba44ee.jpg 추가 완료 - 구조: (416, 416, 3)\n",
            "50--eb-8f-99-ec-9a-b0-eb-b0-94-eb-a5-b8-eb-8b-ad-ea-b3-a0-ea-b8-b0--ea-b0-80-ec-8a-b4-ec-82-b4_jpg.rf.21dfce7e9d6c73bc143ebb90b5887c1a.jpg 추가 완료 - 구조: (416, 416, 3)\n",
            "13-4-1-e1496107977580_jpg.rf.920697d4e07e673474843cd840373d7a.jpg 추가 완료 - 구조: (416, 416, 3)\n",
            "87-03d2522c7206071e1885f0354aafe8781_jpg.rf.2b18c3cab03e2dedd2196a0fe5b7efe0.jpg 추가 완료 - 구조: (416, 416, 3)\n",
            "83-8_png_jpg.rf.b8a57c1280eb185f78f409adb694eb40.jpg 추가 완료 - 구조: (416, 416, 3)\n",
            "1-1c14799bb7d2936cb12806d51b3fc7ee_jpg.rf.97f768caf606c6f1102a1ddc554db53f.jpg 추가 완료 - 구조: (416, 416, 3)\n",
            "92-137_tmp_87abc18235509a9a8e4b860983d01d193210view_jpg.rf.e2b4096de8da13e6cee1ae3945ef8a0b.jpg 추가 완료 - 구조: (416, 416, 3)\n",
            "images--15-_jpg.rf.3507c15906bef557c3c73bb73ee91c23.jpg 추가 완료 - 구조: (416, 416, 3)\n",
            "38-201909261111470737_t_jpg.rf.90c444cbd0e4505cd3a138fae0c818e6.jpg 추가 완료 - 구조: (416, 416, 3)\n",
            "19-201705241330852622_jpg.rf.b8e2f587a51ca519d2f5f6a6149c2f3f.jpg 추가 완료 - 구조: (416, 416, 3)\n",
            "18-se-e8d3e542-e6c6-4e30-b0fb-25188c4a6898_jpg.rf.b4fe74a759f448df0d4acf8e033d2d31.jpg 추가 완료 - 구조: (416, 416, 3)\n",
            "71-image_readmed_2018_775881_15446074643566869_png_jpg.rf.cb58f652cecf031849836f48c5ca7c64.jpg 추가 완료 - 구조: (416, 416, 3)\n",
            "42-47442574442526_jpg.rf.affa247fbd355ee21e345cfe905a8aa0.jpg 추가 완료 - 구조: (416, 416, 3)\n",
            "85-_jpg.rf.28febd27e1d927f367437a3e0b636b77.jpg 추가 완료 - 구조: (416, 416, 3)\n",
            "27-206121_45335_5649_jpg.rf.43b4c4cec476342a966d90eaef1a18fe.jpg 추가 완료 - 구조: (416, 416, 3)\n",
            "40-_jpg.rf.9fc08060dbcc1f63ed3ef5015c4f644b.jpg 추가 완료 - 구조: (416, 416, 3)\n",
            "59-739769453_14_02_jpg.rf.62fb60137af40ccf5b27069e5600c366.jpg 추가 완료 - 구조: (416, 416, 3)\n",
            "36-img_jpg.rf.87b687ef3edac8d27342ec18289c4b48.jpg 추가 완료 - 구조: (416, 416, 3)\n",
            "8-060110009_content1_jpg.rf.c02fd8eb728e8d0dc7d5687de7c5f56e.jpg 추가 완료 - 구조: (416, 416, 3)\n",
            "22-99f68e385c3d752103_png_jpg.rf.0d68be86c1dfc9e652c9cbcf680198ee.jpg 추가 완료 - 구조: (416, 416, 3)\n",
            "94-2449_7245_3334_jpg.rf.0f2cca6fb546270e2199d75b62eabff5.jpg 추가 완료 - 구조: (416, 416, 3)\n",
            "51--ec-96-91-ed-8c-8c--ed-9a-a8-eb-8a-a5--eb-b0-8f--eb-b6-80-ec-9e-91-ec-9a-a9_jpg.rf.0dd89a473d049808c520ffc048f983f6.jpg 추가 완료 - 구조: (416, 416, 3)\n",
            "43-trans-ssg_jpg.rf.5daf841b25736147c76ecdd9eb255ae9.jpg 추가 완료 - 구조: (416, 416, 3)\n",
            "29-99d48d445e4ddc0a2f_jpg.rf.874aac7462156ca0b4e3006d104691b1.jpg 추가 완료 - 구조: (416, 416, 3)\n",
            "26-_jpg.rf.e94da94767d2f37bb637596d6ec24adb.jpg 추가 완료 - 구조: (416, 416, 3)\n",
            "74-190318_-ec-83-81-ec-84-b8-ed-8e-98-ec-9d-b4-ec-a7-801_01_shop1_234845_jpg.rf.16e6d4ca1e04ba0c88be1f83ba63a103.jpg 추가 완료 - 구조: (416, 416, 3)\n",
            "images--12-_jpg.rf.129e90b518ec10fe544844b09d7fa373.jpg 추가 완료 - 구조: (416, 416, 3)\n",
            "23-art_15713269658399_b7dcef_jpg.rf.b291f0a880f2891e5f68ba8396d0de83.jpg 추가 완료 - 구조: (416, 416, 3)\n",
            "48-1000049075352_i1_1200_jpg.rf.c9fd474bd3249e6595fdfcfb25819cdd.jpg 추가 완료 - 구조: (416, 416, 3)\n",
            "15-105850095-2_jpg.rf.ee1118ae88652d5213507b1593a5e178.jpg 추가 완료 - 구조: (416, 416, 3)\n",
            "1-20170202145824_jpg.rf.2f13daa02a1b4b9f86488a205ceb12c7.jpg 추가 완료 - 구조: (416, 416, 3)\n",
            "93-2372846314_front_d68a7a2c54_jpg.rf.b8dee4e3ce75bb693835036b71eb62c1.jpg 추가 완료 - 구조: (416, 416, 3)\n",
            "images--8-_jpg.rf.f2539b98990ca223c10ebe075d955d39.jpg 추가 완료 - 구조: (416, 416, 3)\n",
            "15-319867_325405_035_jpg.rf.78e831b2fcfbe530698f0457be031f2c.jpg 추가 완료 - 구조: (416, 416, 3)\n",
            "images--24-_jpg.rf.b4b8d0aa8806a8aad542a52a6a3d97f5.jpg 추가 완료 - 구조: (416, 416, 3)\n",
            "16-050502007_1_500_jpg.rf.7ef63bf9a8ec78e5583e3fb272fb72bd.jpg 추가 완료 - 구조: (416, 416, 3)\n",
            "62-1000034733857_i1_1200_jpg.rf.ae2ba6a6264007e605e06932ddb8b0b2.jpg 추가 완료 - 구조: (416, 416, 3)\n",
            "44-12311_jpg.rf.0fa09e0be106ca492527d36c6817384b.jpg 추가 완료 - 구조: (416, 416, 3)\n",
            "81-ps21030401580_jpg.rf.0020d41fe728215b880eddd80a4dd7f4.jpg 추가 완료 - 구조: (416, 416, 3)\n",
            "23-ed48b07d445943e1a2c8360d459e7ae6_780x519_jpg.rf.c5ffebe1b241f079d477fb77b71d148a.jpg 추가 완료 - 구조: (416, 416, 3)\n",
            "34-43285401--ec-8a-a4-ed-8c-b8_jpg.rf.d4c827b9d96d9738b3eae3578576660e.jpg 추가 완료 - 구조: (416, 416, 3)\n",
            "10-onions-basket_jpg.rf.73d2610a5b65f9726cb08d3cff7e8376.jpg 추가 완료 - 구조: (416, 416, 3)\n",
            "96-2863939bdd4ff41d0d92ff5a1a90b85b_jpg.rf.6246f01edd02f596c29cbcf61c17361d.jpg 추가 완료 - 구조: (416, 416, 3)\n",
            "86-7fbd6280d3a06de0640fc69b35b40e9a_jpg.rf.8bd48d56c5cfaa1a0974cce2634c5057.jpg 추가 완료 - 구조: (416, 416, 3)\n",
            "60-art_1597861161377_fb7b0e_png_jpg.rf.6fde109f9b0c239a63c7af6cb0b65def.jpg 추가 완료 - 구조: (416, 416, 3)\n",
            "73-img_jpg.rf.0d0d2e874e6d3c9a3801392bfe34e299.jpg 추가 완료 - 구조: (416, 416, 3)\n",
            "31-32ad51848_700x700_95_fit_jpg.rf.2d4fa002610dea929214e822153550f4.jpg 추가 완료 - 구조: (416, 416, 3)\n",
            "20-trans-ssg_jpg.rf.e8c63d84a3f0243b7256da9c410c05b7.jpg 추가 완료 - 구조: (416, 416, 3)\n",
            "54-14889_16599_2712_jpg.rf.ec69329a118871ed98c954bcf7af1d37.jpg 추가 완료 - 구조: (416, 416, 3)\n",
            "88-8bb2c32ef61342e2966d686d32e0b949_jpg.rf.b0ab9ec2f214ba1d82b0193c4f8802d5.jpg 추가 완료 - 구조: (416, 416, 3)\n",
            "27-19ac8c0cb6_jpg.rf.5d1074bc23c59e959cf36c2f60de8b0d.jpg 추가 완료 - 구조: (416, 416, 3)\n",
            "5-22d427eaac9309032a38b91f97c4fd6c1_jpg.rf.efeca072c7c6802caf4ad27ad67c6314.jpg 추가 완료 - 구조: (416, 416, 3)\n",
            "40-htm_20161211152334592630_jpg.rf.cb64966a7826214d7a59159a4b7b8aa1.jpg 추가 완료 - 구조: (416, 416, 3)\n",
            "7-image_4831246911570669298341_jpg.rf.0140f95ab3ffc57d1fd3258577d521b9.jpg 추가 완료 - 구조: (416, 416, 3)\n",
            "83-art_15802153869378_54fe4e_jpg.rf.281b119f05e395e8caee9c6ae42340a6.jpg 추가 완료 - 구조: (416, 416, 3)\n",
            "3-htm_2018062517341206794_jpg.rf.23de06b5ba7f5467ec0dbe93535e64ca.jpg 추가 완료 - 구조: (416, 416, 3)\n",
            "68-story01_img01_png_jpg.rf.03ebb5b7975315b71b39a7330b5a26e9.jpg 추가 완료 - 구조: (416, 416, 3)\n",
            "17-gettyimages-a11228264_jpg.rf.e91d3d0ca9483f0c2fde5bb9fa90b9dc.jpg 추가 완료 - 구조: (416, 416, 3)\n",
            "40-20200115141435_1413381_311_520_jpg.rf.dfd7af1e67d8b44813cc4d6e48499589.jpg 추가 완료 - 구조: (416, 416, 3)\n",
            "94-maxresdefault_jpg.rf.69df74aaa60433a0703ab21d0a3a50e1.jpg 추가 완료 - 구조: (416, 416, 3)\n",
            "51-06f150b9b340f3ab897e8c5f270a052a_jpg.rf.562768118211c6cf776bbb3ef20e8f2d.jpg 추가 완료 - 구조: (416, 416, 3)\n",
            "a_jpg.rf.7371847a4e8ca706b84713f006c7a5c6.jpg 추가 완료 - 구조: (416, 416, 3)\n",
            "69--ec-96-91-ed-8c-8c-ec-99-80--eb-a7-88-eb-8a-98--ec-88-98-ed-94-84_jpg.rf.ece3d340449d3c062c13f60e37db097e.jpg 추가 완료 - 구조: (416, 416, 3)\n",
            "62-600_jpg.rf.70ea2d800c0eb05e36c525acbc9a0ef8.jpg 추가 완료 - 구조: (416, 416, 3)\n",
            "39-l_2020072101002491400195811_jpg.rf.e1b59ef40ea010be0eea4d477ee8a220.jpg 추가 완료 - 구조: (416, 416, 3)\n",
            "19-41997_32485_4757_jpg.rf.676800378ae8c9e236290e4f3bd1ec5e.jpg 추가 완료 - 구조: (416, 416, 3)\n",
            "64-1613865410_xiwjdzns_2edf1853751bbc3605273bbca1d2fcaedba6e258_png_jpg.rf.4d4e80c5bdbba1cd7801ba83f1cd662b.jpg 추가 완료 - 구조: (416, 416, 3)\n",
            "45-img_jpg.rf.299d954b6e790c23e5c784cda9fb6340.jpg 추가 완료 - 구조: (416, 416, 3)\n",
            "29-ie002606038_std_jpg.rf.3dbd50f92561d99cb8dc29fd94b9319a.jpg 추가 완료 - 구조: (416, 416, 3)\n",
            "46-99-23531593-1_jpg.rf.9c7a0c7bab7115f7e20e93c65c2cd45f.jpg 추가 완료 - 구조: (416, 416, 3)\n",
            "98-384_png_jpg.rf.9e9e0345df6fde6fa0108fe1c84021af.jpg 추가 완료 - 구조: (416, 416, 3)\n",
            "25-8b1c2eee8bd9bf35e095b855b13a0363_jpg.rf.d278056291e49b4de5894956884afd89.jpg 추가 완료 - 구조: (416, 416, 3)\n",
            "53-18986_4750_116_jpg.rf.d36601817fa2786c3dc3a5a92d8a24c5.jpg 추가 완료 - 구조: (416, 416, 3)\n",
            "45-2015071401132_0_jpg.rf.b2bc13d8cce003d104f3fe50808e3eec.jpg 추가 완료 - 구조: (416, 416, 3)\n",
            "44-_jpg.rf.7d50f62b594baeae178ed8c83d94051c.jpg 추가 완료 - 구조: (416, 416, 3)\n",
            "23-30766_12297_4430_jpg.rf.c97c053a3193a8819e730de371a776fc.jpg 추가 완료 - 구조: (416, 416, 3)\n",
            "21-720x720_jpg.rf.d21c113d08c04930e68bd259f3af7b5a.jpg 추가 완료 - 구조: (416, 416, 3)\n",
            "64-0000007404414_i1_1200_jpg.rf.f91e8083188175efda1e8d7b849d51fa.jpg 추가 완료 - 구조: (416, 416, 3)\n",
            "18-20160429133941-k934a_jpg.rf.698d5931fa7ed5a60ae77c4998c09cdb.jpg 추가 완료 - 구조: (416, 416, 3)\n",
            "images--26-_jpg.rf.658ab487647cf37556824d6066c05243.jpg 추가 완료 - 구조: (416, 416, 3)\n",
            "a--10-_jpg.rf.053e1ff46b3898dab184ed2f4a5d6e08.jpg 추가 완료 - 구조: (416, 416, 3)\n",
            "73-reg_img_5433134_5_jpg.rf.88ab51bd7e5fe7ac84f1b078c77e87dd.jpg 추가 완료 - 구조: (416, 416, 3)\n",
            "62-1546565815969_jpg.rf.f5abdce72ddc6371a91c661799602f1b.jpg 추가 완료 - 구조: (416, 416, 3)\n",
            "27-0-779574001427682496_jpg.rf.a3b9fa81e04c801fb93d94e5304be126.jpg 추가 완료 - 구조: (416, 416, 3)\n",
            "28-14894-main-01_jpg.rf.d07008497c5e9241b554f8d0002e5f93.jpg 추가 완료 - 구조: (416, 416, 3)\n",
            "12-img_cont1_png_jpg.rf.798f43ab58378bd17748c3d81d9635dc.jpg 추가 완료 - 구조: (416, 416, 3)\n",
            "83-1220382132_jpg.rf.c8724217bf3dae64cdc16b0c6a203130.jpg 추가 완료 - 구조: (416, 416, 3)\n",
            "82-130109_120787_2327_jpg.rf.b975e601b81f60e2711272bdc607d908.jpg 추가 완료 - 구조: (416, 416, 3)\n",
            "77-53967827e4fe2430a2c438b0ed4eb329_jpg.rf.fdecd73fd870211cc61197a6f46b482d.jpg 추가 완료 - 구조: (416, 416, 3)\n",
            "18-41978_29345_636_jpg.rf.f86f4653bfef98d258fd49aaa2324b78.jpg 추가 완료 - 구조: (416, 416, 3)\n",
            "63-egg-1030x1030_jpg.rf.fbabebc4466fdba741c9aff3b85ea6c9.jpg 추가 완료 - 구조: (416, 416, 3)\n",
            "32-99-23222843-1_jpg.rf.ab78c54e56160bf1722ab5d303f467e0.jpg 추가 완료 - 구조: (416, 416, 3)\n",
            "40-maxresdefault_jpg.rf.824b2af750685c8c87f7c556544200b8.jpg 추가 완료 - 구조: (416, 416, 3)\n",
            "23-450px-bean_sprouts_jpg.rf.358187989e30b58dec40ad9e16f49d1e.jpg 추가 완료 - 구조: (416, 416, 3)\n",
            "32-102c5fe48d484c5b9f8ed341865a7149_png_jpg.rf.1d46c3953854cc080bbe3b0c6f312842.jpg 추가 완료 - 구조: (416, 416, 3)\n",
            "4-5f2e4709200000a2010bd454_jpeg_jpg.rf.ffa6c6a7dc37528c19e5a75bf7ad7051.jpg 추가 완료 - 구조: (416, 416, 3)\n",
            "53-img_mkh180702006_0_jpg.rf.75ba0bbd4c598e10fdf0b9129a29b50d.jpg 추가 완료 - 구조: (416, 416, 3)\n",
            "53-611416110015738393_1_jpg.rf.5ec35d8070210dedf9dd5e2b32d794ca.jpg 추가 완료 - 구조: (416, 416, 3)\n",
            "10-dba5e2inmrhj2df3etdmhyenqu_jpg.rf.409354770951d5074f2b04c632f1741c.jpg 추가 완료 - 구조: (416, 416, 3)\n",
            "27--eb-8b-ad-ec-9a-94-eb-a6-ac_jpg.rf.0716f6899b08739c341fe72e966e62e5.jpg 추가 완료 - 구조: (416, 416, 3)\n",
            "67-maxresdefault_jpg.rf.761bbdaba1e0748045931c757e4aaa65.jpg 추가 완료 - 구조: (416, 416, 3)\n",
            "43-msk_5e903180407f9_jpg.rf.22e763e84d979bf4f521fe86c56d7fe5.jpg 추가 완료 - 구조: (416, 416, 3)\n",
            "40-1490_2380_1459_jpg.rf.e42646a26e904768a5977bd33d4d22e4.jpg 추가 완료 - 구조: (416, 416, 3)\n",
            "a--5-_jpg.rf.305ea4a26883b01da32c8ba818015024.jpg 추가 완료 - 구조: (416, 416, 3)\n",
            "29-yang-pa-hyo-neung21586765671_jpg.rf.432a62471acb03b118b799917f40fbba.jpg 추가 완료 - 구조: (416, 416, 3)\n",
            "images--8-_jpg.rf.cc1a578e3bdde54ec712254eec825c49.jpg 추가 완료 - 구조: (416, 416, 3)\n",
            "images--9-_jpg.rf.20608580f5a5ddd693fc469bf1984ee9.jpg 추가 완료 - 구조: (416, 416, 3)\n",
            "9-art_16171643241189_3d76ef_jpg.rf.22d9a1eaf77a24f15c0c65741d8ed05e.jpg 추가 완료 - 구조: (416, 416, 3)\n",
            "77-2018081301540_0_jpg.rf.427acc3f92f9a94bf4e5cdada7803c1b.jpg 추가 완료 - 구조: (416, 416, 3)\n",
            "1-18542_4239_4443_jpg.rf.7328edb6e6f6ae79a497443eae9346cb.jpg 추가 완료 - 구조: (416, 416, 3)\n",
            "31-dyp_jpg.rf.db011ca43b6c6612e7c8e26eb9a5c179.jpg 추가 완료 - 구조: (416, 416, 3)\n",
            "46-img_cont2_png_jpg.rf.de140cd29511b488cc42f7295653aa54.jpg 추가 완료 - 구조: (416, 416, 3)\n",
            "77-magazine_img02_jpg.rf.029004595090011cf65f250f515e3437.jpg 추가 완료 - 구조: (416, 416, 3)\n",
            "62-671d09256985af6fcd3fb48f6d799dea_jpg.rf.1bf6f2c7eb1b870c6a74efa35639a767.jpg 추가 완료 - 구조: (416, 416, 3)\n",
            "14-yh-garlic01_jpg.rf.660366e06a5e45130ce2d1c8d3d3dd5d.jpg 추가 완료 - 구조: (416, 416, 3)\n",
            "90-1000005259638_i1_1200_jpg.rf.a1749469706714cd91ec36fc36fb93b2.jpg 추가 완료 - 구조: (416, 416, 3)\n",
            "18-14787526584108-1-_jpg.rf.6c64d38f04b44f377799cd8e991e1a14.jpg 추가 완료 - 구조: (416, 416, 3)\n",
            "34-109423_61149_2734_jpg.rf.f6444a56cd21176841bd59acff7b2e77.jpg 추가 완료 - 구조: (416, 416, 3)\n",
            "58-201909191789098394_20_jpg.rf.a26a48f83752d49d9db977300a4eb30c.jpg 추가 완료 - 구조: (416, 416, 3)\n",
            "4-19061_4847_3339_jpg.rf.3dabcc122ae48e706d0d5764308f14ac.jpg 추가 완료 - 구조: (416, 416, 3)\n",
            "4-20200211211204-12621_png_jpg.rf.1aae3c1f0b2d147eabf0bd1211aee894.jpg 추가 완료 - 구조: (416, 416, 3)\n",
            "images--3-_jpg.rf.1985b5d7a166e90c778d70194ca591d7.jpg 추가 완료 - 구조: (416, 416, 3)\n",
            "66-dmq_jpg.rf.856b9f0cafda45bc3027f7c5e13f6938.jpg 추가 완료 - 구조: (416, 416, 3)\n",
            "30-22246_23867_1417_jpg.rf.058363b6568ee5e069f36b81631bcd94.jpg 추가 완료 - 구조: (416, 416, 3)\n",
            "13-4232_6514_3819_png_jpg.rf.03536a43bb0297ccb75ac73e2ace4d25.jpg 추가 완료 - 구조: (416, 416, 3)\n",
            "42-992acc4b5c2f431c01_jpg.rf.0e1a02c5b77be4d2cc2bfb0b08fcbc6e.jpg 추가 완료 - 구조: (416, 416, 3)\n",
            "images--5-_jpg.rf.165d5cfc6a2bf75b5fd25382b4f05a33.jpg 추가 완료 - 구조: (416, 416, 3)\n",
            "images--10-_jpg.rf.de12ba6e512dcfdd535d5da9506e66ee.jpg 추가 완료 - 구조: (416, 416, 3)\n",
            "25-2015062306065648668_3_jpg.rf.8c2757e82ac930b43c206088e5dc6871.jpg 추가 완료 - 구조: (416, 416, 3)\n",
            "10-2517860042_front_9kxiaipgpz_jpg.rf.dba981b5579db2b21a7135ffcb8d1c92.jpg 추가 완료 - 구조: (416, 416, 3)\n",
            "52--ec-8b-b9-ec-9d-b4--eb-82-9c--ec-96-91-ed-8c-8c_jpg.rf.e6904398d01212bb0091b300e6b4fce9.jpg 추가 완료 - 구조: (416, 416, 3)\n",
            "images--10-_jpg.rf.1013662d88d83c53956a181a3f2d84fe.jpg 추가 완료 - 구조: (416, 416, 3)\n",
            "84-10064_20427_523_jpg.rf.a78c8e1f62c839d89e42dbf4d9f7b232.jpg 추가 완료 - 구조: (416, 416, 3)\n",
            "62-5649825_1_jpg.rf.aefbf76efe8118e21dc0f4fae01589dc.jpg 추가 완료 - 구조: (416, 416, 3)\n",
            "17-image_readtop_2017_381962_14968623052909234_jpg.rf.b6a4a891b464c7e89847ae27d3480999.jpg 추가 완료 - 구조: (416, 416, 3)\n",
            "59-ec97bc77c1cd4be08d6267462c247713_jpg.rf.97a2a35937b0e4dff875648f53dba45a.jpg 추가 완료 - 구조: (416, 416, 3)\n",
            "14-20180704000106_0_jpg.rf.37684e81fec70490eae58f8c98e642d0.jpg 추가 완료 - 구조: (416, 416, 3)\n",
            "87-72394_9690_564_jpg.rf.05dda4ffc58f667f151401a7a472ddfc.jpg 추가 완료 - 구조: (416, 416, 3)\n",
            "73-1605687192494_0_jpg.rf.8de83209f2e4afab5934efe290ee0f39.jpg 추가 완료 - 구조: (416, 416, 3)\n",
            "58-13810-main-01_jpg.rf.933e74758966ec33edb39fd5ea3252b1.jpg 추가 완료 - 구조: (416, 416, 3)\n",
            "28-e7da8515-6f58-4021-a446-42b67b5898b5_jpg.rf.1504adb095e7528b8b6984d45a3de366.jpg 추가 완료 - 구조: (416, 416, 3)\n",
            "25-33041_25477_4147_png_jpg.rf.52f834869388ecd8430f9170f10708ef.jpg 추가 완료 - 구조: (416, 416, 3)\n",
            "26-3adee9b2e69e4103a12044ed5899f351_jpg.rf.963ae33547304fbadf69109999cf7290.jpg 추가 완료 - 구조: (416, 416, 3)\n",
            "41-1000036684949_i1_1200_jpg.rf.9cae26a4a14ca76f2542977113e31e1c.jpg 추가 완료 - 구조: (416, 416, 3)\n",
            "46-20200405113105169833_jpg.rf.3ae21c9c939cba4fdbff00001341c96a.jpg 추가 완료 - 구조: (416, 416, 3)\n",
            "38-202010291007113938ca52-aebe-4490-b972-ef8ecccf849e_jpg.rf.be9cd2505cf6a926de8d28b513dd0273.jpg 추가 완료 - 구조: (416, 416, 3)\n",
            "28-l_2020081401001672500130391_jpg.rf.f6bb5b7e0b08666d5941e9aef85fd7e8.jpg 추가 완료 - 구조: (416, 416, 3)\n",
            "79-13415_7041_144_jpg.rf.422aa73944864f010e93b0e18ee93b66.jpg 추가 완료 - 구조: (416, 416, 3)\n",
            "images--1-_jpg.rf.570e84ca916d2989759a816e910c018b.jpg 추가 완료 - 구조: (416, 416, 3)\n",
            "76-144110975464_20150902_jpg.rf.f4416c8d359248846ae88f895bd4f888.jpg 추가 완료 - 구조: (416, 416, 3)\n",
            "4-1459_2985_4311_jpg.rf.56d948aff82415c78413ff2b405b6d9b.jpg 추가 완료 - 구조: (416, 416, 3)\n",
            "61-41048_28678_4017_jpg.rf.670d3d54a75a4e52d225ec8fd2a76cf9.jpg 추가 완료 - 구조: (416, 416, 3)\n",
            "72--ec-8a-a4-ed-8c-b8-ed-81-b4-eb-9e-98-ec-8b-9d200_-ec-83-81-ec-84-b8_01_jpg.rf.a35122dbac7ed74d54b3486758950187.jpg 추가 완료 - 구조: (416, 416, 3)\n",
            "94-1000024866033_i1_1200_jpg.rf.ee05ce3ea38807adce75297778a7be51.jpg 추가 완료 - 구조: (416, 416, 3)\n",
            "56--eb-b0-b1-ea-b9-80-ec-b9-98_-ea-b9-80-ec-b9-98_-ed-8c-8c-ea-b9-80-ec-b9-98-290x290_jpg.rf.b5b8c7158c58e48f48a4531c692dd1e6.jpg 추가 완료 - 구조: (416, 416, 3)\n",
            "33-10371870_1_jpg.rf.5a2b9c2a221f53c6c9057456a4e545be.jpg 추가 완료 - 구조: (416, 416, 3)\n",
            "70-growingbean_01_jpg.rf.013e04b6a79582d84dedb8760a80cce1.jpg 추가 완료 - 구조: (416, 416, 3)\n",
            "35-gv30000159355_1_jpg.rf.fa9dd543ecc40f3bb470deff2fdbe2f1.jpg 추가 완료 - 구조: (416, 416, 3)\n",
            "28-7f0ffc70fb4841f68c3b4910559e8a58_png_jpg.rf.a1b61cfac9ab062c57d9edaf569e640f.jpg 추가 완료 - 구조: (416, 416, 3)\n",
            "62-_jpg.rf.f06f66dc8a0e4534549fabeaffc7b787.jpg 추가 완료 - 구조: (416, 416, 3)\n",
            "67-402402_367898_118_jpg.rf.d2a99bfb5b164627af077dbc361aff7d.jpg 추가 완료 - 구조: (416, 416, 3)\n",
            "9-ecddb9f6-fa43-405a-abf9-01f85e4f0484_jpg.rf.a986f79318b192a80518cbe1769b37cb.jpg 추가 완료 - 구조: (416, 416, 3)\n",
            "66-3875_12149_4355_png_jpg.rf.1798e7c56b14c2f7a85fff2b1ebc9096.jpg 추가 완료 - 구조: (416, 416, 3)\n",
            "29---------_jpg.rf.86bcd85cc69cb66f2497d22f83f92bbb.jpg 추가 완료 - 구조: (416, 416, 3)\n",
            "56-19080_17597_5240_jpg.rf.e2c1fd8c859ba3b58fd72786265f23ec.jpg 추가 완료 - 구조: (416, 416, 3)\n",
            "31-1000024639502_i1_1200_jpg.rf.50cb76052fe174df436c278356006890.jpg 추가 완료 - 구조: (416, 416, 3)\n",
            "25-52_shop1_650699_jpg.rf.b25484bf81f0ee0a604c84c6801764ce.jpg 추가 완료 - 구조: (416, 416, 3)\n",
            "4-2017081401636_0_jpg.rf.73a946607230e55004485fabdef68c6a.jpg 추가 완료 - 구조: (416, 416, 3)\n",
            "19-bean_5_1_jpg.rf.aebb83ab4b7a80211c43b76cd973ab6d.jpg 추가 완료 - 구조: (416, 416, 3)\n",
            "93-32740_22705_352_jpg.rf.ccec42723c73ffb6184cd2189db7b27c.jpg 추가 완료 - 구조: (416, 416, 3)\n",
            "images--9-_jpg.rf.e81da56ba8bf1027375e9ab0b67d8658.jpg 추가 완료 - 구조: (416, 416, 3)\n",
            "72-1000043234909_i1_1200_jpg.rf.28b3fcddd107571adef0a06a65136acc.jpg 추가 완료 - 구조: (416, 416, 3)\n",
            "79-hk4u4uuzlbt7n4flqnl3qmxpvi_jpg.rf.c1c5ff4dde35c86efb406488827625e5.jpg 추가 완료 - 구조: (416, 416, 3)\n",
            "20-_104207307_gettyimages-472093755_jpg.rf.1ee7e9f283e82148a362cb7f2bbb99a3.jpg 추가 완료 - 구조: (416, 416, 3)\n",
            "91-739769453_14_jpg.rf.36b384a0da225a3f72bc0f46e5b19261.jpg 추가 완료 - 구조: (416, 416, 3)\n",
            "19-5c063ca82400009404583b08_jpeg_jpg.rf.ecc7285e59d301e3011d6d79b04fdd4c.jpg 추가 완료 - 구조: (416, 416, 3)\n",
            "34-20201118000228_0_jpg.rf.55d35dc90560194cf65caa3df070ce76.jpg 추가 완료 - 구조: (416, 416, 3)\n",
            "30-p_20160906171442_0739494810_jpg.rf.615fe76d7c3cd31906fcd21f9178e179.jpg 추가 완료 - 구조: (416, 416, 3)\n",
            "95-994a54495e83eac92c_jpg.rf.47c679b43f48c39b4897de713ebd4789.jpg 추가 완료 - 구조: (416, 416, 3)\n",
            "36-1787927076_jpg.rf.dd5e71771c21530e9d1e3eb071415f69.jpg 추가 완료 - 구조: (416, 416, 3)\n",
            "5-40497_28315_2311_jpg.rf.db69b0fc953161c492a61e87d8128da0.jpg 추가 완료 - 구조: (416, 416, 3)\n",
            "65-1jpplbbsojk1s_jpg.rf.114230c54c8623b078d6a2fd56de0948.jpg 추가 완료 - 구조: (416, 416, 3)\n",
            "44-a11200652_jpg.rf.da80e2734a66a9f0b4cb84f8187f8943.jpg 추가 완료 - 구조: (416, 416, 3)\n",
            "66-_jpg.rf.5024755fca5c8334a096560385dd49be.jpg 추가 완료 - 구조: (416, 416, 3)\n",
            "3--eb-a7-89-ea-b9-80-ec-b9-98_jpg.rf.1b3d55f03a5a5291b7a634b246b62ba6.jpg 추가 완료 - 구조: (416, 416, 3)\n",
            "40-56145_59052_3241_jpg.rf.a5a683382625b34d2e9ed691c1892181.jpg 추가 완료 - 구조: (416, 416, 3)\n",
            "87-_jpg.rf.bb6b475156df16bfe2068e7145e4c3d4.jpg 추가 완료 - 구조: (416, 416, 3)\n",
            "72-0_png_jpg.rf.d3e2c2d483f7bb85c78a74ca2fbd0957.jpg 추가 완료 - 구조: (416, 416, 3)\n",
            "83-_600_jpg.rf.33354d53198831eafaeabc68f1e586fa.jpg 추가 완료 - 구조: (416, 416, 3)\n",
            "37-18300_3838_2644_jpg.rf.9565a0b59e75eee54c9ced72eca2139f.jpg 추가 완료 - 구조: (416, 416, 3)\n",
            "76-182571_34937_3425_jpg.rf.cf57adc7d6f067eabaaf90f272983ee0.jpg 추가 완료 - 구조: (416, 416, 3)\n",
            "10-garlic-3419544_1280_jpg.rf.8dcd9eb393db40bdc91b3045e8164016.jpg 추가 완료 - 구조: (416, 416, 3)\n",
            "40-story01_img02_png_jpg.rf.1e32593e152136e8f927a1bd6037bbb3.jpg 추가 완료 - 구조: (416, 416, 3)\n",
            "79-204754_44448_1312_jpg.rf.3a2edf0201001617320daeb41f9258d4.jpg 추가 완료 - 구조: (416, 416, 3)\n",
            "4-13613876_1_jpg.rf.19bca855aac828d3d824012c3ee6da56.jpg 추가 완료 - 구조: (416, 416, 3)\n",
            "63-pngtree-green-chinese-onion-png-image_2429599_jpg.rf.c0ae938fc11e8aa59e577210719140f5.jpg 추가 완료 - 구조: (416, 416, 3)\n",
            "1-5ylwkgzt3hjjwjfitf7dhcbjdu_jpg.rf.e98a907ff1d7c3db0b56deb28621dbcd.jpg 추가 완료 - 구조: (416, 416, 3)\n",
            "49-38a7584904f04c7cb7d4cd57086ce4e1_jpg.rf.267015a0f66e0e44c9de668657a3f044.jpg 추가 완료 - 구조: (416, 416, 3)\n",
            "2-l_2019011101001196200095012_jpg.rf.5b911cf5ee991889620d13f493fb8add.jpg 추가 완료 - 구조: (416, 416, 3)\n",
            "88-23115e4458f7099a21_jpg.rf.dc16a714e8260b2d7ffdc848e7badb48.jpg 추가 완료 - 구조: (416, 416, 3)\n",
            "17-20190405174056437_0_jpg.rf.4751773651a8af5815d07b736d510ed9.jpg 추가 완료 - 구조: (416, 416, 3)\n",
            "images--3-_jpg.rf.09a6a06c59be1f89c5843cb7665ec810.jpg 추가 완료 - 구조: (416, 416, 3)\n",
            "85-thumb_l_36d335d0eee25088e1cbd628625c25ab_jpg.rf.1446124c03e7c7e4d6330c8475e4e54f.jpg 추가 완료 - 구조: (416, 416, 3)\n",
            "72-45da7b6251364_png_jpg.rf.ef66a65b8cdc31ecc033f21ce0edc843.jpg 추가 완료 - 구조: (416, 416, 3)\n",
            "78-htm_2016070413930722912_jpg.rf.b58b47bd4258c1181b49fbd323fd8511.jpg 추가 완료 - 구조: (416, 416, 3)\n",
            "42-07001307_1_960_jpg.rf.04f4b6055b1936b1a432180e609c586c.jpg 추가 완료 - 구조: (416, 416, 3)\n",
            "83-2020123100051_0_jpg.rf.13c1ad6bef3935b7442a47ee56a508e1.jpg 추가 완료 - 구조: (416, 416, 3)\n",
            "95-img_jpg.rf.2d28e7d37b45827763a33fc81cacb994.jpg 추가 완료 - 구조: (416, 416, 3)\n",
            "47-5d759832921e8ee63aef3a4896b1b7761_jpg.rf.a1d77a822370f1baaa58a06c1ee3a396.jpg 추가 완료 - 구조: (416, 416, 3)\n",
            "79-2019121240123729_jpg.rf.2df898513a23da95ff92512e70502a29.jpg 추가 완료 - 구조: (416, 416, 3)\n",
            "84-1d7e9157-e567-4c3c-a45b-efb017d08954_jpg.rf.869588ab01367320b05b76a9571a72b2.jpg 추가 완료 - 구조: (416, 416, 3)\n",
            "12-maxresdefault_jpg.rf.52b450c7432ebf61e6d3e5916a617714.jpg 추가 완료 - 구조: (416, 416, 3)\n",
            "21-050816003_1_500_jpg.rf.dba246d1a703b272a1316125e16a5a96.jpg 추가 완료 - 구조: (416, 416, 3)\n",
            "86-10681_16407_275_png_jpg.rf.36b33d6b35ec521ddde13bc773f8c500.jpg 추가 완료 - 구조: (416, 416, 3)\n",
            "91-a11229028_jpg.rf.aadeedea5a8c7a77ed3bd88e93358adc.jpg 추가 완료 - 구조: (416, 416, 3)\n",
            "16-fcb42e3b-630d-4418-b215-35c129b72d84_jpg.rf.24733e67b0826df8df43d7ad5429ff7f.jpg 추가 완료 - 구조: (416, 416, 3)\n",
            "60-002001000001_jpg.rf.aa4cee390454165da3d0618a12de7513.jpg 추가 완료 - 구조: (416, 416, 3)\n",
            "29-s-_15922866660-6187100015922866660_jpg.rf.bbe8f382374e4298a9948bcedc3885fe.jpg 추가 완료 - 구조: (416, 416, 3)\n",
            "54-0000006613800_i1_1200_jpg.rf.cd1d842a571af759638e046c468962a6.jpg 추가 완료 - 구조: (416, 416, 3)\n",
            "18-030101005_1_500_jpg.rf.fe9985ff2e3e2e18cfeb528c251d6834.jpg 추가 완료 - 구조: (416, 416, 3)\n",
            "47-maxresdefault_jpg.rf.9abad4bc0e37e7f06fa9f2f46e84907e.jpg 추가 완료 - 구조: (416, 416, 3)\n",
            "9-lars-blankers-b0s3xndk6tw-unsplash-1024x683_jpg.rf.4fdbefa12a96e98803a2d0346d44f00b.jpg 추가 완료 - 구조: (416, 416, 3)\n",
            "images--6-_jpg.rf.64f0a44e2cd694b2201942df27cd1a51.jpg 추가 완료 - 구조: (416, 416, 3)\n",
            "4-5590830_1_jpg.rf.e4d2d6fb01067c8fe4dfa6e8562b282a.jpg 추가 완료 - 구조: (416, 416, 3)\n",
            "56-2965_4633_5015_jpg.rf.06c4751a9a2c5cc33f32ce67ae698f89.jpg 추가 완료 - 구조: (416, 416, 3)\n",
            "33-6414_1194_1756_jpg.rf.1b5ad0b554a712acc2908fdb0f2707ab.jpg 추가 완료 - 구조: (416, 416, 3)\n",
            "12-tn-dll_jpg.rf.637330b3a1ef9a524ab50ba862375511.jpg 추가 완료 - 구조: (416, 416, 3)\n",
            "81--ec-86-8c-ea-b3-a0-ea-b8-b0_jpg.rf.83a0335a005acf5c14053cef43444b3b.jpg 추가 완료 - 구조: (416, 416, 3)\n",
            "a--8-_jpg.rf.052e762cdfd4ae63b6254ec8b554be98.jpg 추가 완료 - 구조: (416, 416, 3)\n",
            "37-img_jpg.rf.05dd33359db518536384d0d2dcffa189.jpg 추가 완료 - 구조: (416, 416, 3)\n",
            "24-_jpg.rf.11e1c2405e9a6bf24b483c8955f4d8d0.jpg 추가 완료 - 구조: (416, 416, 3)\n",
            "51-1f2cc32066_jpg.rf.d3a9c19370b4ff2778fba1ad96803ef6.jpg 추가 완료 - 구조: (416, 416, 3)\n",
            "67-aa-21876315-1-1200x_jpg.rf.2d3fc928c7fa3f4767c5492eb5f2fc82.jpg 추가 완료 - 구조: (416, 416, 3)\n",
            "26-ps19112200262_jpg.rf.3d255faabda0bdc8a2b10755b7ed69ea.jpg 추가 완료 - 구조: (416, 416, 3)\n",
            "a--9-_jpg.rf.aaa899bdb18e3906cf3b9c63aa6a7ac9.jpg 추가 완료 - 구조: (416, 416, 3)\n",
            "86-4369343_1_jpg.rf.d25b752f56ba09b352895a2c0178c41c.jpg 추가 완료 - 구조: (416, 416, 3)\n",
            "15-2019081380100_0_jpg.rf.3effd207526063d89829986f8a037482.jpg 추가 완료 - 구조: (416, 416, 3)\n",
            "images--1-_jpg.rf.90fedb7571b050f0171e73bccb552b2c.jpg 추가 완료 - 구조: (416, 416, 3)\n",
            "images--28-_jpg.rf.8cdc8273ea9d7a70c6e84ff458514095.jpg 추가 완료 - 구조: (416, 416, 3)\n",
            "5-2020052216594053137_1590134380_jpg.rf.625474b35a1df84e000cc2b0f345b3f7.jpg 추가 완료 - 구조: (416, 416, 3)\n",
            "46-3478910_y8l_jpg.rf.7c8a0a7e4aaa8a61cc6518e177b8d489.jpg 추가 완료 - 구조: (416, 416, 3)\n",
            "86-1c138f89b6_jpg.rf.848c714ed12daf0a0e6133f1cdc7dc4e.jpg 추가 완료 - 구조: (416, 416, 3)\n",
            "55-1535360125_1841505_jpg.rf.74a501c54b97408ebdc9f280659002c9.jpg 추가 완료 - 구조: (416, 416, 3)\n",
            "68-6e618a3741fc375e1b9d851a906d7bcd_jpg.rf.6fe13e1a49741df401e32a3a578e33ea.jpg 추가 완료 - 구조: (416, 416, 3)\n",
            "88-art_15380150931672_a0c094_jpg.rf.6348affd64319aebb979fe1f1210157d.jpg 추가 완료 - 구조: (416, 416, 3)\n",
            "3-optimize_jpg.rf.73291f06cc778ce4de09e73b61bd3455.jpg 추가 완료 - 구조: (416, 416, 3)\n",
            "97-3a83e3e21cc2a612148f65e7d43bb8f7_jpg.rf.09cb9f4a1c06b707e3fbbc0bd3fcb3d4.jpg 추가 완료 - 구조: (416, 416, 3)\n",
            "2-18666_4362_814_jpg.rf.c57692d98d895e8cc2f06fdbefa05d11.jpg 추가 완료 - 구조: (416, 416, 3)\n",
            "64-2021031001865_0_jpg.rf.68e7cd9c0516fad2e3751edacf9974cc.jpg 추가 완료 - 구조: (416, 416, 3)\n",
            "8-2019091923061484_jpg.rf.5fb9dad9672b84d53f098f40e17f6e46.jpg 추가 완료 - 구조: (416, 416, 3)\n",
            "87-2a7c3b317fec4b199f2fe226cbc6e1ee_jpg.rf.878cba2d711a1954762f82120d5b3a46.jpg 추가 완료 - 구조: (416, 416, 3)\n",
            "images--23-_jpg.rf.55a3ea5dd9d199a21c79257ebb75e46d.jpg 추가 완료 - 구조: (416, 416, 3)\n",
            "74-20191213172221308_jpg.rf.3414541242e0074880a1dfbf5b39cee6.jpg 추가 완료 - 구조: (416, 416, 3)\n",
            "45-04380504_1_960_jpg.rf.98c5c8832c8b67b5fb76a3eea77f78c5.jpg 추가 완료 - 구조: (416, 416, 3)\n",
            "12-5f016681-3785-4b6a-8815-220df1d43c9d_jpg.rf.fc909249f0338d1d7771e76f310c830a.jpg 추가 완료 - 구조: (416, 416, 3)\n",
            "59-15278_3026_1400_jpg.rf.86e7ade28d48942275e2e4875a3b0698.jpg 추가 완료 - 구조: (416, 416, 3)\n",
            "14-_jpg.rf.03610bdfe85ee8624f39b44b903b53ef.jpg 추가 완료 - 구조: (416, 416, 3)\n",
            "45-moy6beb5cowilbdzizlrvolupq_jpg.rf.9684502db5432b36da9f4209b5c6f4b2.jpg 추가 완료 - 구조: (416, 416, 3)\n",
            "13-609ee5a2a4bea63000745b65a63f064a_png_jpg.rf.a12013ab2cb1291485686d121ee1d456.jpg 추가 완료 - 구조: (416, 416, 3)\n",
            "images--34-_jpg.rf.a92083abe6a257b86ba281723c8a234b.jpg 추가 완료 - 구조: (416, 416, 3)\n",
            "18-1000013082867_i1_1200_jpg.rf.a0ecccf52010451f2ecb9eaefee7d8b6.jpg 추가 완료 - 구조: (416, 416, 3)\n",
            "5-51229_51508_4936_jpg.rf.5bd0af8fc5b33031a4f8557fa8fea8c5.jpg 추가 완료 - 구조: (416, 416, 3)\n",
            "61-190823_np_-ec-86-8c-ea-b3-a0-ea-b8-b0-ec-ba-a0-ed-95-91-ec-9a-94-eb-a6-acbest5_-ec-8d-b8-eb-84-a4-ec-9d-bc_png_jpg.rf.b1c6b8440db6a5c2acfdbf748b523952.jpg 추가 완료 - 구조: (416, 416, 3)\n",
            "40-getimage_jpg.rf.d17fa87768e73b2846fb221cf7338b45.jpg 추가 완료 - 구조: (416, 416, 3)\n",
            "12-l_2016120901001299800104967_jpg.rf.23f100051ba2a9fe346f6169eed2657a.jpg 추가 완료 - 구조: (416, 416, 3)\n",
            "images--5-_jpg.rf.e1e3724adc37ec088945519f3f713dce.jpg 추가 완료 - 구조: (416, 416, 3)\n",
            "1-shutterstock_324937694-580x423_jpg.rf.79dde8bb817f74cca798165f7f30cad9.jpg 추가 완료 - 구조: (416, 416, 3)\n",
            "13-eggs-are-good-for-your-cholesterol-saag_jpg.rf.821afd884f102a1391479e003e8b237b.jpg 추가 완료 - 구조: (416, 416, 3)\n",
            "89-cracked-egg-yolk-eggs-128885-scaled-780x470_jpg.rf.cb2a3657749cfbb26ae4d0835af70a83.jpg 추가 완료 - 구조: (416, 416, 3)\n",
            "53-5b0bb64e1a00002700cdfe83_jpeg_jpg.rf.6ad65e472f15b9ed4a7eae907ea56fff.jpg 추가 완료 - 구조: (416, 416, 3)\n",
            "images--4-_jpg.rf.4eba2e6ea1066dda5477e27e8034f77c.jpg 추가 완료 - 구조: (416, 416, 3)\n",
            "81-restmb_idxmake-php_jpg.rf.9724cc34b613a6742e5d0639cdb324d7.jpg 추가 완료 - 구조: (416, 416, 3)\n",
            "images--2-_jpg.rf.96620a3136acd03a15a19b108eb1eb8a.jpg 추가 완료 - 구조: (416, 416, 3)\n",
            "68-ebd9dd24d6eccb05bcca472802805dfb_png_jpg.rf.f52859e9851cca5a52c8f6961ac34bba.jpg 추가 완료 - 구조: (416, 416, 3)\n",
            "60-300px--ea-b9-90-eb-a7-88-eb-8a-98_jpg.rf.51fa2653086b0f6331ad287f58425348.jpg 추가 완료 - 구조: (416, 416, 3)\n",
            "84-2019022000904_2_png_jpg.rf.8c28ff487ae7c4ea579942485d446c29.jpg 추가 완료 - 구조: (416, 416, 3)\n",
            "36-205083_44443_3553_jpg.rf.6909aab561a92981b38bc9f9e8cc7030.jpg 추가 완료 - 구조: (416, 416, 3)\n",
            "34-3097_4843_4731_jpg.rf.12e2c25153bd344ebee05f73913205d2.jpg 추가 완료 - 구조: (416, 416, 3)\n",
            "24--ec-b4-9d-ea-b0-81-ea-b9-80-ec-b9-98--ea-b9-80-ec-b9-98-new_jpg.rf.0c19b5d6b8824350d8052fcb2937ed5b.jpg 추가 완료 - 구조: (416, 416, 3)\n",
            "73-c25bdbcd03eb46b4ba3480192762a1c1_jpg.rf.7ddb416f32632864aa7a8cfdeebcc7eb.jpg 추가 완료 - 구조: (416, 416, 3)\n",
            "95-2120722_562981_5738_jpg.rf.7821587df3b923ab5cc16157bf924dbe.jpg 추가 완료 - 구조: (416, 416, 3)\n",
            "40-2449_7244_2949_jpg.rf.5d3a8562f33921f01f1e34e19796b490.jpg 추가 완료 - 구조: (416, 416, 3)\n",
            "68-2019100116425493372_1569915775_jpg.rf.eedbca3abcc09bf4f077da0b9719b07e.jpg 추가 완료 - 구조: (416, 416, 3)\n",
            "7-100101004_content1_jpg.rf.55d1d7edbfb3fc769826c5b5c8518d99.jpg 추가 완료 - 구조: (416, 416, 3)\n",
            "30-18715_4409_2650_jpg.rf.2ae7480c4b08373098756dfdd3c29a48.jpg 추가 완료 - 구조: (416, 416, 3)\n",
            "95-325bb63442b5fc4448490f68755add19_jpg.rf.5f21e0fda9cb896df90f383731dc191b.jpg 추가 완료 - 구조: (416, 416, 3)\n",
            "23--ec-88-98-ec-9e-85-ea-b9-80-ec-b9-98_png_jpg.rf.74980382389fbfff55972beca5e67910.jpg 추가 완료 - 구조: (416, 416, 3)\n",
            "7-1-chicken-breast-576x384_jpg.rf.b5545605ce0665df9dc946a303dcbd71.jpg 추가 완료 - 구조: (416, 416, 3)\n",
            "47-171205_-eb-8c-80-ed-8c-8c-ec-9a-94-eb-a6-ac_01_png_jpg.rf.c1451465fa1fe981df345e045bc20671.jpg 추가 완료 - 구조: (416, 416, 3)\n",
            "73-13408_24045_1832_jpg.rf.76251ffa9a6d3519ed158e4f02b71069.jpg 추가 완료 - 구조: (416, 416, 3)\n",
            "47-c2671b128ccaf67ace72ff198f8fd86d_png_jpg.rf.cdb747e71aa3f2533093fd76e330a078.jpg 추가 완료 - 구조: (416, 416, 3)\n",
            "38-c0a8ca3c00000163edefd06c0007252f_p2_jpeg_jpg.rf.b06c0aa4cc0b0538a4be448ac6b5baa8.jpg 추가 완료 - 구조: (416, 416, 3)\n",
            "28-4ddc8598f_700x700_95_fit_jpg.rf.0183c510a0257b7cdf33fb9e6be25939.jpg 추가 완료 - 구조: (416, 416, 3)\n",
            "41-10435_40206_5456_jpg.rf.b2424466fd9e75cb7a8b9f9d559c3e94.jpg 추가 완료 - 구조: (416, 416, 3)\n",
            "77-992e8e475b88874433_jpg.rf.2b95613699587dc23f8dc8070ceb8d75.jpg 추가 완료 - 구조: (416, 416, 3)\n",
            "82-0-200550001427682497_jpg.rf.10408019d79cc68f82f77fedb843e69a.jpg 추가 완료 - 구조: (416, 416, 3)\n",
            "52-4cbe6efd57604ae6951b64e11d538eb0_jpg.rf.5ab7afe6bba92aed4d6aaf9a630f4c6a.jpg 추가 완료 - 구조: (416, 416, 3)\n",
            "63-0548a2dc338c6_png_jpg.rf.b55cf4cf787301be346a07cbc5c6234f.jpg 추가 완료 - 구조: (416, 416, 3)\n",
            "5--eb-8b-ac-ea-b1-80_-284-29_jpg.rf.415c92e2e6da6afd36f71520727f2ead.jpg 추가 완료 - 구조: (416, 416, 3)\n",
            "86-dd9016dabb523_png_jpg.rf.54ab01937aaa5f7d3c9eee2d029b16f6.jpg 추가 완료 - 구조: (416, 416, 3)\n",
            "84-restmb_idxmake-php_jpg.rf.27df693dc25cfa81cc73e8a5bd28130f.jpg 추가 완료 - 구조: (416, 416, 3)\n",
            "6-func_img1_1_jpg.rf.b727745c77d0a33e29b8168983a3cb54.jpg 추가 완료 - 구조: (416, 416, 3)\n",
            "26-99283c3359a1761922_png_jpg.rf.7bf2978993611272fae558c1993fc524.jpg 추가 완료 - 구조: (416, 416, 3)\n",
            "90-5181_2432_5938_jpg.rf.9b183f1816ab4bc6495ee3505365a94d.jpg 추가 완료 - 구조: (416, 416, 3)\n",
            "images--2-_jpg.rf.6d02839ab5aacee721f2364dfec1b8e7.jpg 추가 완료 - 구조: (416, 416, 3)\n",
            "19-01345810_1_960_jpg.rf.e2b4c7181cf6bf59b59990849bc32128.jpg 추가 완료 - 구조: (416, 416, 3)\n",
            "71-200329_40188_4627_jpg.rf.176b3e5c34ce734499026b18a34b39db.jpg 추가 완료 - 구조: (416, 416, 3)\n",
            "images--31-_jpg.rf.460ebfd67a0c67bd16ce3f59435408fe.jpg 추가 완료 - 구조: (416, 416, 3)\n",
            "76-167333_32726_048_jpg.rf.4e1a27a056f1dec351b403e84b7969a9.jpg 추가 완료 - 구조: (416, 416, 3)\n",
            "65-ie002547591_std_jpg.rf.9cbb7d795f8c7d62306f5678bb03fdee.jpg 추가 완료 - 구조: (416, 416, 3)\n",
            "images_jpg.rf.13ecdacd357a58eae64c7c4f370472ac.jpg 추가 완료 - 구조: (416, 416, 3)\n",
            "74-vh-php_jpg.rf.825a4d5f3df8280f4f433f1f9e3b0564.jpg 추가 완료 - 구조: (416, 416, 3)\n",
            "96-ntr160411_01_04_jpg.rf.3b218d838bb1108c7d725ed5d5abdabb.jpg 추가 완료 - 구조: (416, 416, 3)\n"
          ]
        }
      ]
    },
    {
      "cell_type": "code",
      "source": [
        "print(img_array.shape)"
      ],
      "metadata": {
        "colab": {
          "base_uri": "https://localhost:8080/"
        },
        "id": "DDAa4zU0o7_g",
        "outputId": "abc0324d-b7e2-4c0d-df9a-be7fc372266e"
      },
      "execution_count": null,
      "outputs": [
        {
          "output_type": "stream",
          "name": "stdout",
          "text": [
            "(416, 416, 3)\n"
          ]
        }
      ]
    },
    {
      "cell_type": "code",
      "source": [
        "img_np = np.array(img_list_np)\n",
        "print(img_np.shape)"
      ],
      "metadata": {
        "colab": {
          "base_uri": "https://localhost:8080/"
        },
        "id": "Rwo2KVXMZlYO",
        "outputId": "fdc44567-8c8c-4677-eb60-44b31d47f72e"
      },
      "execution_count": null,
      "outputs": [
        {
          "output_type": "stream",
          "name": "stdout",
          "text": [
            "(631, 416, 416, 3)\n"
          ]
        }
      ]
    },
    {
      "cell_type": "code",
      "source": [
        "img_np = img_np.reshape(631,416*416*3)\n",
        "print(img_np.shape)"
      ],
      "metadata": {
        "colab": {
          "base_uri": "https://localhost:8080/"
        },
        "id": "9OUtmuBKVxli",
        "outputId": "cadde513-3211-4501-d7fb-ab02f17d8e33"
      },
      "execution_count": null,
      "outputs": [
        {
          "output_type": "stream",
          "name": "stdout",
          "text": [
            "(631, 519168)\n"
          ]
        }
      ]
    },
    {
      "cell_type": "code",
      "source": [
        ""
      ],
      "metadata": {
        "id": "mQtOtM0FVazH"
      },
      "execution_count": null,
      "outputs": []
    },
    {
      "cell_type": "code",
      "source": [
        "from sklearn.model_selection import train_test_split\n",
        "\n",
        "x_train, y_train = train_test_split(img_np, test_size=0.3, random_state=2000)\n",
        "\n",
        "print(len(x_train), len(y_train))\n"
      ],
      "metadata": {
        "colab": {
          "base_uri": "https://localhost:8080/"
        },
        "id": "utGlK1qiH7BX",
        "outputId": "96ee799b-f5b6-4e8c-cc47-c54723e7a11d"
      },
      "execution_count": null,
      "outputs": [
        {
          "output_type": "stream",
          "name": "stdout",
          "text": [
            "441 190\n"
          ]
        }
      ]
    },
    {
      "cell_type": "code",
      "source": [
        "x_train = (x_train.reshape(x_train.shape[0], x_train.shape[1] * x_train.shape[2] * x_train.shape[3]))\n",
        "y_train = (y_train.reshape(y_train.shape[0], y_train.shape[1] * y_train.shape[2] * y_train.shape[3]))\n"
      ],
      "metadata": {
        "colab": {
          "base_uri": "https://localhost:8080/",
          "height": 228
        },
        "id": "ivCWYLFGsj2v",
        "outputId": "6a3b3e11-4777-4eb1-869a-429a8a41c0af"
      },
      "execution_count": null,
      "outputs": [
        {
          "output_type": "error",
          "ename": "AttributeError",
          "evalue": "ignored",
          "traceback": [
            "\u001b[0;31m---------------------------------------------------------------------------\u001b[0m",
            "\u001b[0;31mAttributeError\u001b[0m                            Traceback (most recent call last)",
            "\u001b[0;32m<ipython-input-36-be66a807a15f>\u001b[0m in \u001b[0;36m<module>\u001b[0;34m()\u001b[0m\n\u001b[0;32m----> 1\u001b[0;31m \u001b[0mx_train\u001b[0m \u001b[0;34m=\u001b[0m \u001b[0;34m(\u001b[0m\u001b[0mx_train\u001b[0m\u001b[0;34m.\u001b[0m\u001b[0mreshape\u001b[0m\u001b[0;34m(\u001b[0m\u001b[0mx_train\u001b[0m\u001b[0;34m.\u001b[0m\u001b[0mshape\u001b[0m\u001b[0;34m[\u001b[0m\u001b[0;36m0\u001b[0m\u001b[0;34m]\u001b[0m\u001b[0;34m,\u001b[0m \u001b[0mx_train\u001b[0m\u001b[0;34m.\u001b[0m\u001b[0mshape\u001b[0m\u001b[0;34m[\u001b[0m\u001b[0;36m1\u001b[0m\u001b[0;34m]\u001b[0m \u001b[0;34m*\u001b[0m \u001b[0mx_train\u001b[0m\u001b[0;34m.\u001b[0m\u001b[0mshape\u001b[0m\u001b[0;34m[\u001b[0m\u001b[0;36m2\u001b[0m\u001b[0;34m]\u001b[0m \u001b[0;34m*\u001b[0m \u001b[0mx_train\u001b[0m\u001b[0;34m.\u001b[0m\u001b[0mshape\u001b[0m\u001b[0;34m[\u001b[0m\u001b[0;36m3\u001b[0m\u001b[0;34m]\u001b[0m\u001b[0;34m)\u001b[0m\u001b[0;34m)\u001b[0m\u001b[0;34m\u001b[0m\u001b[0;34m\u001b[0m\u001b[0m\n\u001b[0m\u001b[1;32m      2\u001b[0m \u001b[0my_train\u001b[0m \u001b[0;34m=\u001b[0m \u001b[0;34m(\u001b[0m\u001b[0my_train\u001b[0m\u001b[0;34m.\u001b[0m\u001b[0mreshape\u001b[0m\u001b[0;34m(\u001b[0m\u001b[0my_train\u001b[0m\u001b[0;34m.\u001b[0m\u001b[0mshape\u001b[0m\u001b[0;34m[\u001b[0m\u001b[0;36m0\u001b[0m\u001b[0;34m]\u001b[0m\u001b[0;34m,\u001b[0m \u001b[0my_train\u001b[0m\u001b[0;34m.\u001b[0m\u001b[0mshape\u001b[0m\u001b[0;34m[\u001b[0m\u001b[0;36m1\u001b[0m\u001b[0;34m]\u001b[0m \u001b[0;34m*\u001b[0m \u001b[0my_train\u001b[0m\u001b[0;34m.\u001b[0m\u001b[0mshape\u001b[0m\u001b[0;34m[\u001b[0m\u001b[0;36m2\u001b[0m\u001b[0;34m]\u001b[0m \u001b[0;34m*\u001b[0m \u001b[0my_train\u001b[0m\u001b[0;34m.\u001b[0m\u001b[0mshape\u001b[0m\u001b[0;34m[\u001b[0m\u001b[0;36m3\u001b[0m\u001b[0;34m]\u001b[0m\u001b[0;34m)\u001b[0m\u001b[0;34m)\u001b[0m\u001b[0;34m\u001b[0m\u001b[0;34m\u001b[0m\u001b[0m\n",
            "\u001b[0;31mAttributeError\u001b[0m: 'list' object has no attribute 'reshape'"
          ]
        }
      ]
    },
    {
      "cell_type": "code",
      "source": [
        "x_train.shape"
      ],
      "metadata": {
        "colab": {
          "base_uri": "https://localhost:8080/",
          "height": 173
        },
        "id": "G14QjvaznhWU",
        "outputId": "ffe2646d-3a42-400d-fc66-313728e321b0"
      },
      "execution_count": null,
      "outputs": [
        {
          "output_type": "error",
          "ename": "AttributeError",
          "evalue": "ignored",
          "traceback": [
            "\u001b[0;31m---------------------------------------------------------------------------\u001b[0m",
            "\u001b[0;31mAttributeError\u001b[0m                            Traceback (most recent call last)",
            "\u001b[0;32m<ipython-input-23-2132a220a582>\u001b[0m in \u001b[0;36m<module>\u001b[0;34m()\u001b[0m\n\u001b[0;32m----> 1\u001b[0;31m \u001b[0mx_train\u001b[0m\u001b[0;34m.\u001b[0m\u001b[0mshape\u001b[0m\u001b[0;34m\u001b[0m\u001b[0;34m\u001b[0m\u001b[0m\n\u001b[0m",
            "\u001b[0;31mAttributeError\u001b[0m: 'list' object has no attribute 'shape'"
          ]
        }
      ]
    },
    {
      "cell_type": "code",
      "source": [
        "from sklearn.neighbors import KNeighborsClassifier\n"
      ],
      "metadata": {
        "id": "G5DB8zhXFyJm"
      },
      "execution_count": null,
      "outputs": []
    },
    {
      "cell_type": "code",
      "source": [
        "# #sklearn 라이브러리에서 KNN 분류 모형 가져오기\n",
        "# from sklearn.neighbors import KNeighborsClassifier\n",
        "\n",
        "# # 모형 객체 생성(k=5로 설정)\n",
        "# knn = KNeighborsClassifier(n_neighbors=5)\n",
        "\n",
        "# # train data를 가지고 모형 학습\n",
        "# knn.fit(x_train, y_train)\n",
        "\n",
        "# test data를 가지고 y_hat을 예측(분류)\n",
        "# y_hat = knn.predict(x_test)|"
      ],
      "metadata": {
        "id": "ZZkGSI5qewMP"
      },
      "execution_count": null,
      "outputs": []
    },
    {
      "cell_type": "code",
      "source": [
        "\n",
        "knns =[]\n",
        "\n",
        "for i in range(2,5):\n",
        "  knc = KNeighborsClassifier(i)\n",
        "  knc.fit(x_train, y_train)\n",
        "  print(\"이웃수 : {}인 모델 학습 완료\".format(i))\n",
        "  knns.append(knc)"
      ],
      "metadata": {
        "colab": {
          "base_uri": "https://localhost:8080/",
          "height": 417
        },
        "id": "p8BRUTQDHy6R",
        "outputId": "8f38774f-1408-4914-db1c-95c806fc1721"
      },
      "execution_count": null,
      "outputs": [
        {
          "output_type": "error",
          "ename": "ValueError",
          "evalue": "ignored",
          "traceback": [
            "\u001b[0;31m---------------------------------------------------------------------------\u001b[0m",
            "\u001b[0;31mValueError\u001b[0m                                Traceback (most recent call last)",
            "\u001b[0;32m<ipython-input-21-ea3facd7465d>\u001b[0m in \u001b[0;36m<module>\u001b[0;34m()\u001b[0m\n\u001b[1;32m      4\u001b[0m \u001b[0;32mfor\u001b[0m \u001b[0mi\u001b[0m \u001b[0;32min\u001b[0m \u001b[0mrange\u001b[0m\u001b[0;34m(\u001b[0m\u001b[0;36m2\u001b[0m\u001b[0;34m,\u001b[0m\u001b[0;36m5\u001b[0m\u001b[0;34m)\u001b[0m\u001b[0;34m:\u001b[0m\u001b[0;34m\u001b[0m\u001b[0;34m\u001b[0m\u001b[0m\n\u001b[1;32m      5\u001b[0m   \u001b[0mknc\u001b[0m \u001b[0;34m=\u001b[0m \u001b[0mKNeighborsClassifier\u001b[0m\u001b[0;34m(\u001b[0m\u001b[0mi\u001b[0m\u001b[0;34m)\u001b[0m\u001b[0;34m\u001b[0m\u001b[0;34m\u001b[0m\u001b[0m\n\u001b[0;32m----> 6\u001b[0;31m   \u001b[0mknc\u001b[0m\u001b[0;34m.\u001b[0m\u001b[0mfit\u001b[0m\u001b[0;34m(\u001b[0m\u001b[0mx_train\u001b[0m\u001b[0;34m,\u001b[0m \u001b[0my_train\u001b[0m\u001b[0;34m)\u001b[0m\u001b[0;34m\u001b[0m\u001b[0;34m\u001b[0m\u001b[0m\n\u001b[0m\u001b[1;32m      7\u001b[0m   \u001b[0mprint\u001b[0m\u001b[0;34m(\u001b[0m\u001b[0;34m\"이웃수 : {}인 모델 학습 완료\"\u001b[0m\u001b[0;34m.\u001b[0m\u001b[0mformat\u001b[0m\u001b[0;34m(\u001b[0m\u001b[0mi\u001b[0m\u001b[0;34m)\u001b[0m\u001b[0;34m)\u001b[0m\u001b[0;34m\u001b[0m\u001b[0;34m\u001b[0m\u001b[0m\n\u001b[1;32m      8\u001b[0m   \u001b[0mknns\u001b[0m\u001b[0;34m.\u001b[0m\u001b[0mappend\u001b[0m\u001b[0;34m(\u001b[0m\u001b[0mknc\u001b[0m\u001b[0;34m)\u001b[0m\u001b[0;34m\u001b[0m\u001b[0;34m\u001b[0m\u001b[0m\n",
            "\u001b[0;32m/usr/local/lib/python3.7/dist-packages/sklearn/neighbors/_classification.py\u001b[0m in \u001b[0;36mfit\u001b[0;34m(self, X, y)\u001b[0m\n\u001b[1;32m    196\u001b[0m         \u001b[0mself\u001b[0m\u001b[0;34m.\u001b[0m\u001b[0mweights\u001b[0m \u001b[0;34m=\u001b[0m \u001b[0m_check_weights\u001b[0m\u001b[0;34m(\u001b[0m\u001b[0mself\u001b[0m\u001b[0;34m.\u001b[0m\u001b[0mweights\u001b[0m\u001b[0;34m)\u001b[0m\u001b[0;34m\u001b[0m\u001b[0;34m\u001b[0m\u001b[0m\n\u001b[1;32m    197\u001b[0m \u001b[0;34m\u001b[0m\u001b[0m\n\u001b[0;32m--> 198\u001b[0;31m         \u001b[0;32mreturn\u001b[0m \u001b[0mself\u001b[0m\u001b[0;34m.\u001b[0m\u001b[0m_fit\u001b[0m\u001b[0;34m(\u001b[0m\u001b[0mX\u001b[0m\u001b[0;34m,\u001b[0m \u001b[0my\u001b[0m\u001b[0;34m)\u001b[0m\u001b[0;34m\u001b[0m\u001b[0;34m\u001b[0m\u001b[0m\n\u001b[0m\u001b[1;32m    199\u001b[0m \u001b[0;34m\u001b[0m\u001b[0m\n\u001b[1;32m    200\u001b[0m     \u001b[0;32mdef\u001b[0m \u001b[0mpredict\u001b[0m\u001b[0;34m(\u001b[0m\u001b[0mself\u001b[0m\u001b[0;34m,\u001b[0m \u001b[0mX\u001b[0m\u001b[0;34m)\u001b[0m\u001b[0;34m:\u001b[0m\u001b[0;34m\u001b[0m\u001b[0;34m\u001b[0m\u001b[0m\n",
            "\u001b[0;32m/usr/local/lib/python3.7/dist-packages/sklearn/neighbors/_base.py\u001b[0m in \u001b[0;36m_fit\u001b[0;34m(self, X, y)\u001b[0m\n\u001b[1;32m    398\u001b[0m         \u001b[0;32mif\u001b[0m \u001b[0mself\u001b[0m\u001b[0;34m.\u001b[0m\u001b[0m_get_tags\u001b[0m\u001b[0;34m(\u001b[0m\u001b[0;34m)\u001b[0m\u001b[0;34m[\u001b[0m\u001b[0;34m\"requires_y\"\u001b[0m\u001b[0;34m]\u001b[0m\u001b[0;34m:\u001b[0m\u001b[0;34m\u001b[0m\u001b[0;34m\u001b[0m\u001b[0m\n\u001b[1;32m    399\u001b[0m             \u001b[0;32mif\u001b[0m \u001b[0;32mnot\u001b[0m \u001b[0misinstance\u001b[0m\u001b[0;34m(\u001b[0m\u001b[0mX\u001b[0m\u001b[0;34m,\u001b[0m \u001b[0;34m(\u001b[0m\u001b[0mKDTree\u001b[0m\u001b[0;34m,\u001b[0m \u001b[0mBallTree\u001b[0m\u001b[0;34m,\u001b[0m \u001b[0mNeighborsBase\u001b[0m\u001b[0;34m)\u001b[0m\u001b[0;34m)\u001b[0m\u001b[0;34m:\u001b[0m\u001b[0;34m\u001b[0m\u001b[0;34m\u001b[0m\u001b[0m\n\u001b[0;32m--> 400\u001b[0;31m                 \u001b[0mX\u001b[0m\u001b[0;34m,\u001b[0m \u001b[0my\u001b[0m \u001b[0;34m=\u001b[0m \u001b[0mself\u001b[0m\u001b[0;34m.\u001b[0m\u001b[0m_validate_data\u001b[0m\u001b[0;34m(\u001b[0m\u001b[0mX\u001b[0m\u001b[0;34m,\u001b[0m \u001b[0my\u001b[0m\u001b[0;34m,\u001b[0m \u001b[0maccept_sparse\u001b[0m\u001b[0;34m=\u001b[0m\u001b[0;34m\"csr\"\u001b[0m\u001b[0;34m,\u001b[0m \u001b[0mmulti_output\u001b[0m\u001b[0;34m=\u001b[0m\u001b[0;32mTrue\u001b[0m\u001b[0;34m)\u001b[0m\u001b[0;34m\u001b[0m\u001b[0;34m\u001b[0m\u001b[0m\n\u001b[0m\u001b[1;32m    401\u001b[0m \u001b[0;34m\u001b[0m\u001b[0m\n\u001b[1;32m    402\u001b[0m             \u001b[0;32mif\u001b[0m \u001b[0mis_classifier\u001b[0m\u001b[0;34m(\u001b[0m\u001b[0mself\u001b[0m\u001b[0;34m)\u001b[0m\u001b[0;34m:\u001b[0m\u001b[0;34m\u001b[0m\u001b[0;34m\u001b[0m\u001b[0m\n",
            "\u001b[0;32m/usr/local/lib/python3.7/dist-packages/sklearn/base.py\u001b[0m in \u001b[0;36m_validate_data\u001b[0;34m(self, X, y, reset, validate_separately, **check_params)\u001b[0m\n\u001b[1;32m    579\u001b[0m                 \u001b[0my\u001b[0m \u001b[0;34m=\u001b[0m \u001b[0mcheck_array\u001b[0m\u001b[0;34m(\u001b[0m\u001b[0my\u001b[0m\u001b[0;34m,\u001b[0m \u001b[0;34m**\u001b[0m\u001b[0mcheck_y_params\u001b[0m\u001b[0;34m)\u001b[0m\u001b[0;34m\u001b[0m\u001b[0;34m\u001b[0m\u001b[0m\n\u001b[1;32m    580\u001b[0m             \u001b[0;32melse\u001b[0m\u001b[0;34m:\u001b[0m\u001b[0;34m\u001b[0m\u001b[0;34m\u001b[0m\u001b[0m\n\u001b[0;32m--> 581\u001b[0;31m                 \u001b[0mX\u001b[0m\u001b[0;34m,\u001b[0m \u001b[0my\u001b[0m \u001b[0;34m=\u001b[0m \u001b[0mcheck_X_y\u001b[0m\u001b[0;34m(\u001b[0m\u001b[0mX\u001b[0m\u001b[0;34m,\u001b[0m \u001b[0my\u001b[0m\u001b[0;34m,\u001b[0m \u001b[0;34m**\u001b[0m\u001b[0mcheck_params\u001b[0m\u001b[0;34m)\u001b[0m\u001b[0;34m\u001b[0m\u001b[0;34m\u001b[0m\u001b[0m\n\u001b[0m\u001b[1;32m    582\u001b[0m             \u001b[0mout\u001b[0m \u001b[0;34m=\u001b[0m \u001b[0mX\u001b[0m\u001b[0;34m,\u001b[0m \u001b[0my\u001b[0m\u001b[0;34m\u001b[0m\u001b[0;34m\u001b[0m\u001b[0m\n\u001b[1;32m    583\u001b[0m \u001b[0;34m\u001b[0m\u001b[0m\n",
            "\u001b[0;32m/usr/local/lib/python3.7/dist-packages/sklearn/utils/validation.py\u001b[0m in \u001b[0;36mcheck_X_y\u001b[0;34m(X, y, accept_sparse, accept_large_sparse, dtype, order, copy, force_all_finite, ensure_2d, allow_nd, multi_output, ensure_min_samples, ensure_min_features, y_numeric, estimator)\u001b[0m\n\u001b[1;32m    979\u001b[0m     \u001b[0my\u001b[0m \u001b[0;34m=\u001b[0m \u001b[0m_check_y\u001b[0m\u001b[0;34m(\u001b[0m\u001b[0my\u001b[0m\u001b[0;34m,\u001b[0m \u001b[0mmulti_output\u001b[0m\u001b[0;34m=\u001b[0m\u001b[0mmulti_output\u001b[0m\u001b[0;34m,\u001b[0m \u001b[0my_numeric\u001b[0m\u001b[0;34m=\u001b[0m\u001b[0my_numeric\u001b[0m\u001b[0;34m)\u001b[0m\u001b[0;34m\u001b[0m\u001b[0;34m\u001b[0m\u001b[0m\n\u001b[1;32m    980\u001b[0m \u001b[0;34m\u001b[0m\u001b[0m\n\u001b[0;32m--> 981\u001b[0;31m     \u001b[0mcheck_consistent_length\u001b[0m\u001b[0;34m(\u001b[0m\u001b[0mX\u001b[0m\u001b[0;34m,\u001b[0m \u001b[0my\u001b[0m\u001b[0;34m)\u001b[0m\u001b[0;34m\u001b[0m\u001b[0;34m\u001b[0m\u001b[0m\n\u001b[0m\u001b[1;32m    982\u001b[0m \u001b[0;34m\u001b[0m\u001b[0m\n\u001b[1;32m    983\u001b[0m     \u001b[0;32mreturn\u001b[0m \u001b[0mX\u001b[0m\u001b[0;34m,\u001b[0m \u001b[0my\u001b[0m\u001b[0;34m\u001b[0m\u001b[0;34m\u001b[0m\u001b[0m\n",
            "\u001b[0;32m/usr/local/lib/python3.7/dist-packages/sklearn/utils/validation.py\u001b[0m in \u001b[0;36mcheck_consistent_length\u001b[0;34m(*arrays)\u001b[0m\n\u001b[1;32m    332\u001b[0m         raise ValueError(\n\u001b[1;32m    333\u001b[0m             \u001b[0;34m\"Found input variables with inconsistent numbers of samples: %r\"\u001b[0m\u001b[0;34m\u001b[0m\u001b[0;34m\u001b[0m\u001b[0m\n\u001b[0;32m--> 334\u001b[0;31m             \u001b[0;34m%\u001b[0m \u001b[0;34m[\u001b[0m\u001b[0mint\u001b[0m\u001b[0;34m(\u001b[0m\u001b[0ml\u001b[0m\u001b[0;34m)\u001b[0m \u001b[0;32mfor\u001b[0m \u001b[0ml\u001b[0m \u001b[0;32min\u001b[0m \u001b[0mlengths\u001b[0m\u001b[0;34m]\u001b[0m\u001b[0;34m\u001b[0m\u001b[0;34m\u001b[0m\u001b[0m\n\u001b[0m\u001b[1;32m    335\u001b[0m         )\n\u001b[1;32m    336\u001b[0m \u001b[0;34m\u001b[0m\u001b[0m\n",
            "\u001b[0;31mValueError\u001b[0m: Found input variables with inconsistent numbers of samples: [441, 190]"
          ]
        }
      ]
    },
    {
      "cell_type": "code",
      "source": [
        "for model in knns:\n",
        "  acc = model.score(x_test, y_test)\n",
        "  print(acc)"
      ],
      "metadata": {
        "id": "iUzi86QsEFvu"
      },
      "execution_count": null,
      "outputs": []
    }
  ]
}